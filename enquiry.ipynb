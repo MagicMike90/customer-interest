{
 "cells": [
  {
   "cell_type": "code",
   "execution_count": 1,
   "metadata": {},
   "outputs": [],
   "source": [
    "%matplotlib inline\n",
    "import numpy as np\n",
    "import matplotlib.pyplot as plt\n",
    "import pandas as pd\n",
    "from IPython.display import display\n",
    "import matplotlib as mpl\n",
    "import warnings\n",
    "\n",
    "warnings.filterwarnings('ignore')\n",
    "mpl.rcParams['savefig.dpi'] = 128\n",
    "mpl.rcParams['figure.dpi'] = 128\n",
    "\n",
    "df_fleats = pd.read_csv('marketing-breakdown-detailed.csv')\n",
    "# df_loki =  pd.read_csv('enquiries_loki.csv')\n",
    "\n",
    "# drop rows where contains any elements are nan\n",
    "# df_fleats = df_fleats.dropna(axis=0, how='any')\n",
    "# df_loki = df_loki.dropna(axis=0, how='any')\n",
    "\n",
    "# df_enquiries = pd.merge(df_odin, df_loki, on=['Fleats Id'])\n",
    "# remove undefined\n",
    "# df_enquiries = df_enquiries[~df_enquiries['Applicant 1 Annual Salary'].isin(['undefined'])]\n",
    "# df_enquiries = df_enquiries.drop('Fleats Id', 1)\n",
    "\n",
    "# X = df_enquiries[['Marketing Code', 'Classification', 'Loan Amount']]\n",
    "# X = df_enquiries.loc[:, df_enquiries.columns != 'Enquiry Status']\n",
    "\n",
    "selected_features = ['Marketing Code','App Source', 'Web Source', 'Classification','Enquired',\n",
    "                     'Loan Amount']\n",
    "target = 'Enquiry Status';\n",
    "whole_set = selected_features + [target]\n",
    "\n",
    "data_set = df_fleats[whole_set]\n",
    "data_set = data_set.replace('On Hold','Rejected')\n",
    "data_set = data_set.dropna(axis=0, how='any')"
   ]
  },
  {
   "cell_type": "code",
   "execution_count": 2,
   "metadata": {},
   "outputs": [],
   "source": [
    "from datetime import datetime\n",
    "from dateutil.parser import parse\n",
    "\n",
    "temp = pd.DatetimeIndex(data_set['Enquired'])\n",
    "data_set['Enquired Date'] = pd.to_datetime(temp.date)\n",
    "data_set['Enquired Time'] = temp.time\n",
    "data_set = data_set.drop(['Enquired'],1)\n",
    "\n",
    "# filter years\n",
    "start_date = '2017-01-01' \n",
    "end_date = '2017-12-31'\n",
    "mask = (data_set['Enquired Date'] > start_date) & (data_set['Enquired Date'] <= end_date)\n",
    "data_set = data_set.loc[mask].reset_index(drop=True)\n",
    "\n",
    "# X = data_set[['Marketing Code','App Source', 'Web Source', 'Classification','Enquired Date',]]\n",
    "X = data_set[data_set.keys()]\n",
    "X = X.drop(['Enquiry Status'],1)\n",
    "y = data_set[target]"
   ]
  },
  {
   "cell_type": "code",
   "execution_count": 3,
   "metadata": {},
   "outputs": [
    {
     "data": {
      "image/png": "[encoded data removed]",
      "text/plain": [
       "<matplotlib.figure.Figure at 0x108f36208>"
      ]
     },
     "metadata": {},
     "output_type": "display_data"
    }
   ],
   "source": [
    "import random\n",
    "import matplotlib.dates as mdates\n",
    "import matplotlib.mlab as mlab\n",
    "\n",
    "# generate some random data (approximately over 5 years)\n",
    "data_1 = data_set[['Enquiry Status','Enquired Date']]\n",
    "data_2 = data_set[['Enquiry Status','Enquired Time']]\n",
    "\n",
    "plot_date = data_1.groupby(['Enquired Date', 'Enquiry Status']).size().reset_index(name=\"counts\")\n",
    "plot_date = plot_date.loc[plot_date['Enquiry Status'] == 'Accepted']\n",
    "\n",
    "# plot_date\n",
    "plt.plot_date(x=plot_date['Enquired Date'], y=plot_date['counts'],fmt=\"r-\")\n",
    "plt.xticks(rotation=90)\n",
    "plt.show()"
   ]
  },
  {
   "cell_type": "code",
   "execution_count": 4,
   "metadata": {
    "scrolled": true
   },
   "outputs": [
    {
     "name": "stdout",
     "output_type": "stream",
     "text": [
      "Keys of enquiries_dataset: \n",
      "Index(['Marketing Code', 'App Source', 'Web Source', 'Classification',\n",
      "       'Loan Amount', 'Enquired Date', 'Enquired Time'],\n",
      "      dtype='object')\n"
     ]
    }
   ],
   "source": [
    "print(\"Keys of enquiries_dataset: \\n{}\".format(X.keys()))"
   ]
  },
  {
   "cell_type": "code",
   "execution_count": 5,
   "metadata": {},
   "outputs": [
    {
     "name": "stdout",
     "output_type": "stream",
     "text": [
      "Shape of X: (3961, 7)\n",
      "Shape of y: (3961,)\n"
     ]
    }
   ],
   "source": [
    "print(\"Shape of X: {}\".format(X.shape))\n",
    "print(\"Shape of y: {}\".format(y.shape))"
   ]
  },
  {
   "cell_type": "code",
   "execution_count": 6,
   "metadata": {
    "collapsed": true
   },
   "outputs": [],
   "source": [
    "from sklearn.preprocessing import LabelEncoder\n",
    "\n",
    "class MultiColumnLabelEncoder:\n",
    "    def __init__(self,columns = None):\n",
    "        self.columns = columns # array of column names to encode\n",
    "\n",
    "    def fit(self,X,y=None):\n",
    "        return self # not relevant here\n",
    "\n",
    "    def transform(self,X):\n",
    "        '''\n",
    "        Transforms columns of X specified in self.columns using\n",
    "        LabelEncoder(). If no columns specified, transforms all\n",
    "        columns in X.\n",
    "        '''\n",
    "        output = X.copy()\n",
    "        if self.columns is not None:\n",
    "            for col in self.columns:\n",
    "                output[col] = LabelEncoder().fit_transform(output[col])\n",
    "        else:\n",
    "            for colname,col in output.iteritems():\n",
    "                output[colname] = LabelEncoder().fit_transform(col)\n",
    "        return output\n",
    "\n",
    "    def fit_transform(self,X,y=None):\n",
    "        return self.fit(X,y).transform(X)"
   ]
  },
  {
   "cell_type": "code",
   "execution_count": 7,
   "metadata": {
    "collapsed": true,
    "scrolled": false
   },
   "outputs": [],
   "source": [
    "from sklearn.preprocessing import LabelEncoder\n",
    "\n",
    "le = LabelEncoder()\n",
    "# Categorial feature ecoding\n",
    "X = MultiColumnLabelEncoder(columns = X.keys()).fit_transform(X)\n",
    "y = le.fit_transform(y)"
   ]
  },
  {
   "cell_type": "code",
   "execution_count": 8,
   "metadata": {
    "collapsed": true
   },
   "outputs": [],
   "source": [
    "# feature selection\n",
    "from sklearn.svm import LinearSVC\n",
    "from sklearn.feature_selection import SelectFromModel\n",
    "\n",
    "lsvc = LinearSVC(C=0.01, penalty=\"l1\", dual=False).fit(X, y)\n",
    "model = SelectFromModel(lsvc, prefit=True)\n",
    "selected_X = model.transform(X)\n",
    "\n",
    "# Get idxs of columns to keep\n",
    "idxs_selected = model.get_support(indices=True)"
   ]
  },
  {
   "cell_type": "code",
   "execution_count": 9,
   "metadata": {},
   "outputs": [],
   "source": [
    "from sklearn.preprocessing import StandardScaler\n",
    "from sklearn.model_selection import train_test_split\n",
    "\n",
    "# split data and labels into a training and a test set\n",
    "X_train, X_test, y_train, y_test = train_test_split(X, y, test_size=0.4, random_state=0)\n",
    "# rescale data\n",
    "scaler = StandardScaler()\n",
    "X_train_scaled = scaler.fit_transform(X_train)\n",
    "X_test_scaled = scaler.transform(X_test)"
   ]
  },
  {
   "cell_type": "code",
   "execution_count": 10,
   "metadata": {
    "scrolled": false
   },
   "outputs": [
    {
     "name": "stdout",
     "output_type": "stream",
     "text": [
      "Test score: 0.90\n"
     ]
    }
   ],
   "source": [
    "from sklearn.neighbors import KNeighborsClassifier\n",
    "\n",
    "kn = KNeighborsClassifier(n_neighbors=3)\n",
    "kn.fit(X_train_scaled, y_train)\n",
    "pred_kn = kn.predict(X_test)\n",
    "print(\"Test score: {:.2f}\".format(kn.score(X_test_scaled, y_test)))"
   ]
  },
  {
   "cell_type": "code",
   "execution_count": 11,
   "metadata": {},
   "outputs": [
    {
     "name": "stdout",
     "output_type": "stream",
     "text": [
      "Test score: 0.84\n"
     ]
    }
   ],
   "source": [
    "from sklearn.linear_model import SGDClassifier\n",
    "\n",
    "sgd = SGDClassifier(loss=\"hinge\", penalty=\"l2\")\n",
    "sgd.fit(X_train_scaled, y_train)\n",
    "pred_sgd = sgd.predict(X_test)\n",
    "print(\"Test score: {:.2f}\".format(sgd.score(X_test_scaled, y_test)))"
   ]
  },
  {
   "cell_type": "code",
   "execution_count": 12,
   "metadata": {},
   "outputs": [
    {
     "name": "stdout",
     "output_type": "stream",
     "text": [
      "Test score: 0.89\n"
     ]
    }
   ],
   "source": [
    "from sklearn.kernel_approximation import RBFSampler\n",
    "\n",
    "rbf_feature = RBFSampler(gamma=1, random_state=1)\n",
    "X_features = rbf_feature.fit_transform(X_train_scaled)\n",
    "clf = SGDClassifier()  \n",
    "clf.fit(X_train_scaled, y_train)\n",
    "print(\"Test score: {:.2f}\".format(clf.score(X_test_scaled, y_test)))"
   ]
  },
  {
   "cell_type": "code",
   "execution_count": 13,
   "metadata": {},
   "outputs": [
    {
     "name": "stdout",
     "output_type": "stream",
     "text": [
      "Test score: 0.89\n"
     ]
    }
   ],
   "source": [
    "from sklearn import svm\n",
    "from sklearn.decomposition import KernelPCA\n",
    "from sklearn.model_selection import cross_val_score\n",
    "\n",
    "svc = svm.SVC()\n",
    "svc.fit(X_train, y_train)\n",
    "pred_svc = svc.predict(X_test)\n",
    "print(\"Test score: {:.2f}\".format(svc.score(X_test, y_test)))\n",
    "\n",
    "# scores = cross_val_score(clf, X, y, cv=5)\n",
    "# scores\n",
    "# N = range(1, 16)\n",
    "# for n in N:\n",
    "#     pca = KernelPCA(n_components=n)\n",
    "#     X_n_kept = pca.fit_transform(X_test_scaled)\n",
    "#     # Estimate accuracy on the data set with top n components\n",
    "#     classifier = svm.SVC(gamma=0.001)\n",
    "#     score_n_components = cross_val_score(classifier, X_n_kept, y_test).mean()\n",
    "#     print('Score with the data set of top {0} components: {1:.2f}'.format(n, score_n_components))"
   ]
  },
  {
   "cell_type": "code",
   "execution_count": 14,
   "metadata": {},
   "outputs": [
    {
     "name": "stdout",
     "output_type": "stream",
     "text": [
      "Test score: 0.91\n"
     ]
    }
   ],
   "source": [
    "from sklearn.ensemble import RandomForestClassifier\n",
    "from sklearn.model_selection import cross_val_score\n",
    "from sklearn import metrics\n",
    "\n",
    "rfc = RandomForestClassifier(n_estimators=500)\n",
    "rfc.fit(X_train_scaled, y_train)\n",
    "pred_forest = rfc.predict(X_test)\n",
    "\n",
    "print(\"Test score: {:.2f}\".format(rfc.score(X_test_scaled, y_test)))\n",
    "\n",
    "scores = cross_val_score(rfc, X_test_scaled, y_test)\n",
    "# print(\"Cross-validation scores: {}\".format(scores.mean()))\n",
    "# N = range(1, 100)\n",
    "# best_score = 0\n",
    "# n_estimators = 1\n",
    "# for n in N:\n",
    "#     rfc = RandomForestClassifier(n_estimators=n, n_jobs=-1)\n",
    "#     rfc.fit(X_train_scaled, y_train)\n",
    "#     score_n_components = cross_val_score(clf, X_test_scaled, y_test).mean()\n",
    "#     if(best_score < score_n_components):\n",
    "#         best_score = score_n_components\n",
    "#         n_estimators = n\n",
    "#     print('Score with the data set of top {0} components: {1:.2f}'.format(n, score_n_components))\n",
    "# print('best socre is: {1:.2f} with {0} estimators'.format(best_score,n_estimators))"
   ]
  },
  {
   "cell_type": "code",
   "execution_count": 15,
   "metadata": {},
   "outputs": [
    {
     "name": "stdout",
     "output_type": "stream",
     "text": [
      " 1) Loan Amount                    0.301803\n",
      " 2) Enquired Time                  0.228889\n",
      " 3) Marketing Code                 0.150605\n",
      " 4) Enquired Date                  0.148399\n",
      " 5) App Source                     0.087378\n",
      " 6) Classification                 0.082926\n",
      " 7) Web Source                     0.000000\n"
     ]
    },
    {
     "data": {
      "image/png": "[encoded data removed]",
      "text/plain": [
       "<matplotlib.figure.Figure at 0x1a13308f98>"
      ]
     },
     "metadata": {},
     "output_type": "display_data"
    }
   ],
   "source": [
    "feat_labels = X.columns[:]\n",
    "importances = rfc.feature_importances_\n",
    "indices = np.argsort(importances)[::-1]\n",
    "\n",
    "for f in range(X_train.shape[1]):\n",
    "    print(\"%2d) %-*s %f\" % (f + 1, 30, feat_labels[indices[f]], importances[indices[f]]))\n",
    "    \n",
    "plt.title('Feature Importance')\n",
    "plt.bar(range(X_train.shape[1]),importances,align='center')\n",
    "plt.xticks(range(X_train.shape[1]),feat_labels, rotation=90)\n",
    "plt.xlim([-1, X_train.shape[1]])\n",
    "plt.tight_layout()\n",
    "plt.show()"
   ]
  },
  {
   "cell_type": "code",
   "execution_count": 16,
   "metadata": {},
   "outputs": [
    {
     "name": "stdout",
     "output_type": "stream",
     "text": [
      "KNeighborsClassifier:\n",
      "[[   0  175]\n",
      " [   0 1410]]\n",
      "\n",
      "SGDClassifier:\n",
      "[[  40  135]\n",
      " [ 208 1202]]\n",
      "\n",
      "SVC:\n",
      "[[   0  175]\n",
      " [   0 1410]]\n",
      "\n",
      "RandomForestClassifier\n",
      "[[  68  107]\n",
      " [ 353 1057]]\n"
     ]
    }
   ],
   "source": [
    "from sklearn.metrics import confusion_matrix\n",
    "\n",
    "print(\"KNeighborsClassifier:\")\n",
    "print(confusion_matrix(y_test, pred_kn))\n",
    "print(\"\\nSGDClassifier:\")\n",
    "print(confusion_matrix(y_test, pred_sgd))\n",
    "print(\"\\nSVC:\")\n",
    "print(confusion_matrix(y_test, pred_svc))\n",
    "print(\"\\nRandomForestClassifier\")\n",
    "print(confusion_matrix(y_test, pred_forest))"
   ]
  },
  {
   "cell_type": "code",
   "execution_count": 17,
   "metadata": {},
   "outputs": [
    {
     "name": "stdout",
     "output_type": "stream",
     "text": [
      "f1 score KNeighborsClassifier: 0.84\n",
      "f1 score SGDClassifier: 0.80\n",
      "f1 score SVC: 0.84\n",
      "f1 score RandomForestClassifier: 0.76\n",
      "\n",
      "precision score KNeighborsClassifier: 0.79\n",
      "precision score SGDClassifier: 0.82\n",
      "precision score SVC: 0.79\n",
      "precision score RandomForestClassifier: 0.83\n"
     ]
    }
   ],
   "source": [
    "from sklearn.metrics import f1_score\n",
    "from sklearn.metrics import precision_score\n",
    "\n",
    "print(\"f1 score KNeighborsClassifier: {:.2f}\".format(f1_score(y_test, pred_kn, average='weighted')))\n",
    "print(\"f1 score SGDClassifier: {:.2f}\".format(f1_score(y_test, pred_sgd,average='weighted')))\n",
    "print(\"f1 score SVC: {:.2f}\".format(f1_score(y_test, pred_svc,average='weighted')))\n",
    "print(\"f1 score RandomForestClassifier: {:.2f}\".format(f1_score(y_test, pred_forest,average='weighted')))\n",
    "print()\n",
    "print(\"precision score KNeighborsClassifier: {:.2f}\".format(precision_score(y_test, pred_kn, average='weighted')))\n",
    "print(\"precision score SGDClassifier: {:.2f}\".format(precision_score(y_test, pred_sgd,average='weighted')))\n",
    "print(\"precision score SVC: {:.2f}\".format(precision_score(y_test, pred_svc,average='weighted')))\n",
    "print(\"precision score RandomForestClassifier: {:.2f}\".format(precision_score(y_test, pred_forest,average='weighted')))"
   ]
  },
  {
   "cell_type": "code",
   "execution_count": 18,
   "metadata": {
    "collapsed": true
   },
   "outputs": [],
   "source": [
    "# input_x = X.iloc[:]\n",
    "# input_x_test = X.iloc[:,idxs_selected]\n",
    "# # input_x = input_x.iloc[0,idxs_selected]\n",
    "\n",
    "# # input_x = input_x.drop('Enquiry Status', 1)\n",
    "\n",
    "# input_x_test = MultiColumnLabelEncoder(columns = input_x_test.keys()).fit_transform(input_x_test)\n",
    "# input_x_test = scaler.fit_transform(input_x_test)\n",
    "\n",
    "# # for row in input_x:\n",
    "# #     result = rfc.predict(row)[0]\n",
    "# #     proba = np.max(rfc.predict_proba(row))    \n",
    "\n",
    "# #     print('reuslt: {}'.format(le.inverse_transform(result)))\n",
    "# #     print('probability: {0}%'.format(proba))\n",
    "# #     print()\n",
    "\n",
    "# # result = rfc.predict(input_x)[0]\n",
    "# # proba = np.max(rfc.predict_proba(input_x))    \n",
    "\n",
    "# # print('reuslt: {}'.format(le.inverse_transform(result)))\n",
    "# # print('probability: {0}%'.format(proba))\n",
    "# result = rfc.predict(input_x_test)\n",
    "# result = le.inverse_transform(result)\n",
    "# proba = rfc.predict_proba(input_x_test)   \n",
    "# proba = [np.max(p) for p in proba]\n",
    "# input_x.to_csv('example.csv')"
   ]
  },
  {
   "cell_type": "code",
   "execution_count": 19,
   "metadata": {
    "collapsed": true
   },
   "outputs": [],
   "source": [
    "# input_x = input_x.assign(predict=result.tolist())\n",
    "# input_x = input_x.assign(possibility=proba)\n",
    "# input_x.head()\n",
    "# input_x.to_csv('result/v1.csv')"
   ]
  },
  {
   "cell_type": "code",
   "execution_count": null,
   "metadata": {
    "collapsed": true
   },
   "outputs": [],
   "source": []
  }
 ],
 "metadata": {
  "kernelspec": {
   "display_name": "Python 3",
   "language": "python",
   "name": "python3"
  },
  "language_info": {
   "codemirror_mode": {
    "name": "ipython",
    "version": 3
   },
   "file_extension": ".py",
   "mimetype": "text/x-python",
   "name": "python",
   "nbconvert_exporter": "python",
   "pygments_lexer": "ipython3",
   "version": "3.6.3"
  }
 },
 "nbformat": 4,
 "nbformat_minor": 2
}
