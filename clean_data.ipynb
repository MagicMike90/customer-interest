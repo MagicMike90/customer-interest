{
 "cells": [
  {
   "cell_type": "code",
   "execution_count": 1,
   "metadata": {
    "collapsed": true
   },
   "outputs": [],
   "source": [
    "# %matplotlib inline\n",
    "import numpy as np\n",
    "import matplotlib.pyplot as plt\n",
    "import matplotlib as mpl\n",
    "import pandas as pd\n",
    "import glob\n",
    "import warnings\n",
    "from IPython.display import display\n",
    "\n",
    "warnings.filterwarnings('ignore')\n",
    "mpl.rcParams['savefig.dpi'] = 128\n",
    "mpl.rcParams['figure.dpi'] = 128\n",
    "# Plot size to 14\" x 7\"\n",
    "mpl.rc('figure', figsize = (14, 7))\n",
    "# Font size to 14\n",
    "mpl.rc('font', size = 14)\n",
    "# Do not display top and right frame lines\n",
    "mpl.rc('axes.spines', top = False, right = False)\n",
    "# Remove grid lines\n",
    "mpl.rc('axes', grid = False)\n",
    "# Set backgound color to white\n",
    "mpl.rc('axes', facecolor = 'white')"
   ]
  },
  {
   "cell_type": "code",
   "execution_count": 2,
   "metadata": {},
   "outputs": [
    {
     "data": {
      "text/plain": [
       "(179179, 49)"
      ]
     },
     "execution_count": 2,
     "metadata": {},
     "output_type": "execute_result"
    }
   ],
   "source": [
    "# read whole year data\n",
    "allFiles = glob.glob(\"2014-2017/*/*.csv\")\n",
    "df = pd.DataFrame()\n",
    "list_ = []\n",
    "for file_ in allFiles:\n",
    "    df = pd.read_csv(file_,index_col=None, header=0,encoding=\"utf-8\")\n",
    "    list_.append(df)\n",
    "df = pd.concat(list_)\n",
    "\n",
    "df.shape"
   ]
  },
  {
   "cell_type": "code",
   "execution_count": 3,
   "metadata": {},
   "outputs": [
    {
     "data": {
      "text/plain": [
       "(167472, 49)"
      ]
     },
     "execution_count": 3,
     "metadata": {},
     "output_type": "execute_result"
    }
   ],
   "source": [
    "df.drop_duplicates(inplace=True)\n",
    "df.shape"
   ]
  },
  {
   "cell_type": "code",
   "execution_count": 4,
   "metadata": {
    "collapsed": true
   },
   "outputs": [],
   "source": [
    "def transform_cols(df):\n",
    "    df.columns = map(str.lower, df.columns)\n",
    "    df.columns = df.columns.str.replace('_', ' ')\n",
    "    return df"
   ]
  },
  {
   "cell_type": "code",
   "execution_count": 5,
   "metadata": {
    "collapsed": true
   },
   "outputs": [],
   "source": [
    "df = transform_cols(df)"
   ]
  },
  {
   "cell_type": "code",
   "execution_count": 6,
   "metadata": {
    "collapsed": true
   },
   "outputs": [],
   "source": [
    "from sklearn.base import BaseEstimator, TransformerMixin\n",
    "\n",
    "class DataFrameSelector(BaseEstimator, TransformerMixin):\n",
    "    def __init__(self, attribute_names):\n",
    "        self.attribute_names = attribute_names\n",
    "    def fit(self, X, y=None):\n",
    "        return self\n",
    "    def transform(self, X):\n",
    "        return X[self.attribute_names]"
   ]
  },
  {
   "cell_type": "code",
   "execution_count": 7,
   "metadata": {
    "collapsed": true
   },
   "outputs": [],
   "source": [
    "selected_features = ['classification','enquired',\n",
    "                     'loan amount','loan reason','property use']\n",
    "# selected_features = ['marketing code','enquired',\n",
    "#                      'loan amount','loan reason','property use']\n",
    "# selected_features = ['classification','enquired']\n",
    "# selected_features = ['marketing code','classification','enquired',\n",
    "#                      'loan amount','loan reason','property use']\n",
    "\n",
    "target = 'enquiry status';\n",
    "whole_set = selected_features + [target]\n",
    "\n",
    "df = df[whole_set]"
   ]
  },
  {
   "cell_type": "code",
   "execution_count": 8,
   "metadata": {},
   "outputs": [
    {
     "data": {
      "text/plain": [
       "(162873, 6)"
      ]
     },
     "execution_count": 8,
     "metadata": {},
     "output_type": "execute_result"
    }
   ],
   "source": [
    "df = df[~df[target].isin(['In Progress','Just Received','On Hold'])]\n",
    "df.shape"
   ]
  },
  {
   "cell_type": "code",
   "execution_count": 9,
   "metadata": {},
   "outputs": [],
   "source": [
    "# Inspired from stackoverflow.com/questions/25239958\n",
    "class MostFrequentImputer(BaseEstimator, TransformerMixin):\n",
    "    def fit(self, X, y=None):\n",
    "        self.most_frequent = pd.Series([X[c].value_counts().index[0] for c in X],\n",
    "                                       index=X.columns)\n",
    "        return self\n",
    "    def transform(self, X, y=None):\n",
    "        return X.fillna(self.most_frequent)"
   ]
  },
  {
   "cell_type": "code",
   "execution_count": 10,
   "metadata": {
    "collapsed": true
   },
   "outputs": [],
   "source": [
    "def clearnLoanAmount(df): \n",
    "    invalid_columns= ['500001-$1000000',\n",
    "                  '300001-$500000',\n",
    "                  '0-$300000',\n",
    "                  '250000 - 300000',\n",
    "                  '250000-350000',\n",
    "                  '2600 monthly',\n",
    "                  'not_sure',\n",
    "                  '1000,001+',\n",
    "                  '9999-',\n",
    "                  'I50000',\n",
    "                  '1.5 M',\n",
    "                  '1000001+',\n",
    "                  '9999-',\n",
    "                  '80-90k']\n",
    "    if 'loan amount' in df.columns: \n",
    "#         df['loan amount'].fillna(0,inplace=True)\n",
    "        df['loan amount'] =  df['loan amount'].fillna(df['loan amount'].value_counts().index[0])\n",
    "        # convert to string to do replacement\n",
    "        df['loan amount'] = df['loan amount'].astype(\"str\")\n",
    "        df['loan amount'] = df['loan amount'].str.replace(\",\",\"\")\n",
    "        df = df[~df['loan amount'].isin(invalid_columns)]\n",
    "    return df"
   ]
  },
  {
   "cell_type": "code",
   "execution_count": 11,
   "metadata": {
    "collapsed": true
   },
   "outputs": [],
   "source": [
    "df = clearnLoanAmount(df)"
   ]
  },
  {
   "cell_type": "code",
   "execution_count": 12,
   "metadata": {},
   "outputs": [
    {
     "data": {
      "text/plain": [
       "(162111, 6)"
      ]
     },
     "execution_count": 12,
     "metadata": {},
     "output_type": "execute_result"
    }
   ],
   "source": [
    "df.shape"
   ]
  },
  {
   "cell_type": "code",
   "execution_count": 13,
   "metadata": {
    "collapsed": true
   },
   "outputs": [],
   "source": [
    "df['loan reason'].fillna('Other Loan Reason',inplace=True)"
   ]
  },
  {
   "cell_type": "code",
   "execution_count": 14,
   "metadata": {},
   "outputs": [
    {
     "data": {
      "text/plain": [
       "First HomeBuyer                                           64061\n",
       "Buying Again                                              53172\n",
       "Other Loan Reason                                         20267\n",
       "Refinance                                                 15469\n",
       "Buying Again,Refinance                                     4799\n",
       "Refinance With Cash Out                                    3114\n",
       "Refinance,Refinance With Cash Out                           410\n",
       "Buying Again,Refinance With Cash Out                        349\n",
       "First HomeBuyer,Refinance                                   199\n",
       "First HomeBuyer,Buying Again                                163\n",
       "Buying Again,Refinance,Refinance With Cash Out               42\n",
       "Loan Topup                                                   15\n",
       "Refinance,Other Loan Reason                                  10\n",
       "First HomeBuyer,Buying Again,Refinance                        9\n",
       "Buying Again,Refinance,Other Loan Reason                      8\n",
       "Buying Again,Other Loan Reason                                7\n",
       "First HomeBuyer,Refinance,Refinance With Cash Out             6\n",
       "First HomeBuyer,Refinance With Cash Out                       6\n",
       "First HomeBuyer,Buying Again,Refinance With Cash Out          2\n",
       "First HomeBuyer,Other Loan Reason                             2\n",
       "Buying Again,Refinance With Cash Out,Other Loan Reason        1\n",
       "Name: loan reason, dtype: int64"
      ]
     },
     "execution_count": 14,
     "metadata": {},
     "output_type": "execute_result"
    }
   ],
   "source": [
    "df['loan reason'].value_counts()"
   ]
  },
  {
   "cell_type": "code",
   "execution_count": 15,
   "metadata": {
    "collapsed": true
   },
   "outputs": [],
   "source": [
    "# df.loc[df['loan reason'].str.contains('First HomeBuyer'),'loan reason'] = 'First HomeBuyer'\n",
    "# df.loc[df['loan reason'].str.contains('Buying Again'),'loan reason'] = 'Buying Again'\n",
    "# df.loc[df['loan reason'].str.contains('Refinance'),'loan reason'] = 'Refinance'\n",
    "\n",
    "df['loan reason'] = df['loan reason'].apply(lambda x: 'First HomeBuyer' if 'First HomeBuyer' in x else x)\n",
    "df['loan reason'] = df['loan reason'].apply(lambda x: 'Buying Again' if 'Buying Again' in x else x)\n",
    "df['loan reason'] = df['loan reason'].apply(lambda x: 'Refinance' if 'Refinance' in x else x)"
   ]
  },
  {
   "cell_type": "code",
   "execution_count": 16,
   "metadata": {},
   "outputs": [
    {
     "data": {
      "text/plain": [
       "First HomeBuyer      64448\n",
       "Buying Again         58378\n",
       "Other Loan Reason    20267\n",
       "Refinance            19003\n",
       "Loan Topup              15\n",
       "Name: loan reason, dtype: int64"
      ]
     },
     "execution_count": 16,
     "metadata": {},
     "output_type": "execute_result"
    }
   ],
   "source": [
    "df['loan reason'].value_counts()"
   ]
  },
  {
   "cell_type": "code",
   "execution_count": 17,
   "metadata": {
    "collapsed": true
   },
   "outputs": [],
   "source": [
    "df['property use'].fillna('Other',inplace=True)"
   ]
  },
  {
   "cell_type": "code",
   "execution_count": 18,
   "metadata": {},
   "outputs": [
    {
     "data": {
      "text/plain": [
       "Residence                     100974\n",
       "Other                          38442\n",
       "Investment                     17138\n",
       "Residence,Investment            5401\n",
       "Residence,Other                  111\n",
       "Residence,Investment,Other        25\n",
       "Investment,Other                  20\n",
       "Name: property use, dtype: int64"
      ]
     },
     "execution_count": 18,
     "metadata": {},
     "output_type": "execute_result"
    }
   ],
   "source": [
    "df['property use'].value_counts()"
   ]
  },
  {
   "cell_type": "code",
   "execution_count": 19,
   "metadata": {
    "collapsed": true
   },
   "outputs": [],
   "source": [
    "df['property use'] = df['property use'].apply(lambda x: 'Residence' if 'Residence' in x else x)\n",
    "df['property use'] = df['property use'].apply(lambda x: 'Investment' if 'Investment' in x else x)"
   ]
  },
  {
   "cell_type": "code",
   "execution_count": 20,
   "metadata": {},
   "outputs": [
    {
     "data": {
      "text/plain": [
       "Residence     106511\n",
       "Other          38442\n",
       "Investment     17158\n",
       "Name: property use, dtype: int64"
      ]
     },
     "execution_count": 20,
     "metadata": {},
     "output_type": "execute_result"
    }
   ],
   "source": [
    "df['property use'].value_counts()"
   ]
  },
  {
   "cell_type": "code",
   "execution_count": null,
   "metadata": {
    "collapsed": true
   },
   "outputs": [],
   "source": []
  },
  {
   "cell_type": "code",
   "execution_count": 21,
   "metadata": {
    "collapsed": true
   },
   "outputs": [],
   "source": [
    "df['classification'].fillna('None',inplace=True)"
   ]
  },
  {
   "cell_type": "code",
   "execution_count": 22,
   "metadata": {},
   "outputs": [
    {
     "data": {
      "text/plain": [
       "Domain                         34545\n",
       "Alternative Media              19131\n",
       "Google AdWords                 14654\n",
       "Coregistration                 13929\n",
       "Omnilead                       12845\n",
       "REA                            11164\n",
       "Home Sales                      8089\n",
       "All Homes                       7678\n",
       "First Home Buyers               5516\n",
       "Domain Campaigns                5116\n",
       "Direct                          4991\n",
       "Domain Internal CBA Program     3620\n",
       "Affiliate                       3177\n",
       "Finder                          2602\n",
       "Email eChoice Database          2314\n",
       "Domain Campaigns CPA            1975\n",
       "Domain Competitions             1791\n",
       "Phone                           1532\n",
       "Folio                           1173\n",
       "Dynamic Home Loans              1034\n",
       "Refinancing AdWords              893\n",
       "Referrer                         579\n",
       "Social Media                     548\n",
       "Partners                         455\n",
       "Home Hound                       403\n",
       "Portal Campaigns                 371\n",
       "External Email                   282\n",
       "Retention                        266\n",
       "Money Manager                    213\n",
       "Refinancing Domain               212\n",
       "Refinancing Direct               194\n",
       "Domain Campaigns CPL             193\n",
       "Real Estate View                 162\n",
       "Domain Bonus Display             155\n",
       "None                              82\n",
       "Self Employed Loans AdWords       61\n",
       "On The House                      52\n",
       "Portals                           35\n",
       "Club FS                           19\n",
       "Sponsored News                    18\n",
       "Remarketing                       11\n",
       "SMSF Loans                        10\n",
       "Manila                             7\n",
       "Australian Chinese Daily           6\n",
       "Self Employed Loans Direct         4\n",
       "Bloom                              3\n",
       "Domain Partners                    1\n",
       "Name: classification, dtype: int64"
      ]
     },
     "execution_count": 22,
     "metadata": {},
     "output_type": "execute_result"
    }
   ],
   "source": [
    "df['classification'].value_counts()"
   ]
  },
  {
   "cell_type": "code",
   "execution_count": 23,
   "metadata": {},
   "outputs": [
    {
     "name": "stdout",
     "output_type": "stream",
     "text": [
      "The number of null values in: classification == 0\n",
      "The number of null values in: enquired == 0\n",
      "The number of null values in: loan amount == 0\n",
      "The number of null values in: loan reason == 0\n",
      "The number of null values in: property use == 0\n",
      "The number of null values in: enquiry status == 0\n"
     ]
    }
   ],
   "source": [
    "for _ in df.columns:\n",
    "    print(\"The number of null values in: {} == {}\".format(_, df[_].isnull().sum()))"
   ]
  },
  {
   "cell_type": "code",
   "execution_count": 24,
   "metadata": {},
   "outputs": [
    {
     "data": {
      "text/plain": [
       "(162111, 6)"
      ]
     },
     "execution_count": 24,
     "metadata": {},
     "output_type": "execute_result"
    }
   ],
   "source": [
    "df.dropna(axis=0, how='any', inplace=True)\n",
    "df.shape"
   ]
  },
  {
   "cell_type": "code",
   "execution_count": 25,
   "metadata": {},
   "outputs": [
    {
     "data": {
      "text/html": [
       "<div>\n",
       "<style scoped>\n",
       "    .dataframe tbody tr th:only-of-type {\n",
       "        vertical-align: middle;\n",
       "    }\n",
       "\n",
       "    .dataframe tbody tr th {\n",
       "        vertical-align: top;\n",
       "    }\n",
       "\n",
       "    .dataframe thead th {\n",
       "        text-align: right;\n",
       "    }\n",
       "</style>\n",
       "<table border=\"1\" class=\"dataframe\">\n",
       "  <thead>\n",
       "    <tr style=\"text-align: right;\">\n",
       "      <th></th>\n",
       "      <th>classification</th>\n",
       "      <th>enquired</th>\n",
       "      <th>loan amount</th>\n",
       "      <th>loan reason</th>\n",
       "      <th>property use</th>\n",
       "      <th>enquiry status</th>\n",
       "    </tr>\n",
       "  </thead>\n",
       "  <tbody>\n",
       "    <tr>\n",
       "      <th>count</th>\n",
       "      <td>162111</td>\n",
       "      <td>162111</td>\n",
       "      <td>162111</td>\n",
       "      <td>162111</td>\n",
       "      <td>162111</td>\n",
       "      <td>162111</td>\n",
       "    </tr>\n",
       "    <tr>\n",
       "      <th>unique</th>\n",
       "      <td>47</td>\n",
       "      <td>134222</td>\n",
       "      <td>9156</td>\n",
       "      <td>5</td>\n",
       "      <td>3</td>\n",
       "      <td>2</td>\n",
       "    </tr>\n",
       "    <tr>\n",
       "      <th>top</th>\n",
       "      <td>Domain</td>\n",
       "      <td>25-Feb-2016 00:35:26</td>\n",
       "      <td>0</td>\n",
       "      <td>First HomeBuyer</td>\n",
       "      <td>Residence</td>\n",
       "      <td>Rejected</td>\n",
       "    </tr>\n",
       "    <tr>\n",
       "      <th>freq</th>\n",
       "      <td>34545</td>\n",
       "      <td>9</td>\n",
       "      <td>35804</td>\n",
       "      <td>64448</td>\n",
       "      <td>106511</td>\n",
       "      <td>136266</td>\n",
       "    </tr>\n",
       "  </tbody>\n",
       "</table>\n",
       "</div>"
      ],
      "text/plain": [
       "       classification              enquired loan amount      loan reason  \\\n",
       "count          162111                162111      162111           162111   \n",
       "unique             47                134222        9156                5   \n",
       "top            Domain  25-Feb-2016 00:35:26           0  First HomeBuyer   \n",
       "freq            34545                     9       35804            64448   \n",
       "\n",
       "       property use enquiry status  \n",
       "count        162111         162111  \n",
       "unique            3              2  \n",
       "top       Residence       Rejected  \n",
       "freq         106511         136266  "
      ]
     },
     "execution_count": 25,
     "metadata": {},
     "output_type": "execute_result"
    }
   ],
   "source": [
    "df.describe()"
   ]
  },
  {
   "cell_type": "code",
   "execution_count": 26,
   "metadata": {},
   "outputs": [
    {
     "name": "stdout",
     "output_type": "stream",
     "text": [
      "The number of null values in:classification == 0\n",
      "The number of null values in:enquired == 0\n",
      "The number of null values in:loan amount == 0\n",
      "The number of null values in:loan reason == 0\n",
      "The number of null values in:property use == 0\n",
      "The number of null values in:enquiry status == 0\n"
     ]
    }
   ],
   "source": [
    "for _ in df.columns:\n",
    "    print(\"The number of null values in:{} == {}\".format(_, df[_].isnull().sum()))"
   ]
  },
  {
   "cell_type": "code",
   "execution_count": 27,
   "metadata": {
    "collapsed": true
   },
   "outputs": [],
   "source": [
    "drop_values = ['QLD','victoria',\"270-1176\",\"VIC\",\"2575b\",\"6110r\",\"2150s\"]\n",
    "if 'post code' in df.columns: \n",
    "    df = df[~df['post code'].isin(drop_values)]"
   ]
  },
  {
   "cell_type": "code",
   "execution_count": 28,
   "metadata": {
    "collapsed": true
   },
   "outputs": [],
   "source": [
    "df.to_csv(\"2007-2017_origin.csv\",index=False)"
   ]
  },
  {
   "cell_type": "code",
   "execution_count": 29,
   "metadata": {
    "collapsed": true
   },
   "outputs": [],
   "source": [
    "def transform(df): \n",
    "    if 'loan amount' in df.columns: \n",
    "        df['loan amount'] = df['loan amount'].astype('float')\n",
    "        \n",
    "    if 'enquired' in df.columns: \n",
    "        df['enquired'] = pd.DatetimeIndex(df['enquired'])\n",
    "        df['year'] = df['enquired'].dt.year\n",
    "        df['month'] = df['enquired'].dt.month\n",
    "        df['day'] = df['enquired'].dt.day\n",
    "        df['hour'] = df['enquired'].dt.hour\n",
    "        df['weekday'] = df['enquired'].dt.dayofweek\n",
    "    \n",
    "    if 'post code' in df.columns: \n",
    "        df['post code'] = df['post code'].astype('int')\n",
    "    \n",
    "    if 'enquired'in df.columns:\n",
    "        df.drop(['enquired'], axis = 1, inplace = True)\n",
    "        \n",
    "    \n",
    "    df.apply(lambda x: x.astype(str).str.lower())"
   ]
  },
  {
   "cell_type": "code",
   "execution_count": 30,
   "metadata": {
    "collapsed": true
   },
   "outputs": [],
   "source": [
    "transform(df)"
   ]
  },
  {
   "cell_type": "code",
   "execution_count": null,
   "metadata": {
    "collapsed": true
   },
   "outputs": [],
   "source": []
  },
  {
   "cell_type": "code",
   "execution_count": 31,
   "metadata": {},
   "outputs": [
    {
     "data": {
      "text/html": [
       "<div>\n",
       "<style scoped>\n",
       "    .dataframe tbody tr th:only-of-type {\n",
       "        vertical-align: middle;\n",
       "    }\n",
       "\n",
       "    .dataframe tbody tr th {\n",
       "        vertical-align: top;\n",
       "    }\n",
       "\n",
       "    .dataframe thead th {\n",
       "        text-align: right;\n",
       "    }\n",
       "</style>\n",
       "<table border=\"1\" class=\"dataframe\">\n",
       "  <thead>\n",
       "    <tr style=\"text-align: right;\">\n",
       "      <th></th>\n",
       "      <th>classification</th>\n",
       "      <th>loan amount</th>\n",
       "      <th>loan reason</th>\n",
       "      <th>property use</th>\n",
       "      <th>enquiry status</th>\n",
       "      <th>year</th>\n",
       "      <th>month</th>\n",
       "      <th>day</th>\n",
       "      <th>hour</th>\n",
       "      <th>weekday</th>\n",
       "    </tr>\n",
       "  </thead>\n",
       "  <tbody>\n",
       "  </tbody>\n",
       "</table>\n",
       "</div>"
      ],
      "text/plain": [
       "Empty DataFrame\n",
       "Columns: [classification, loan amount, loan reason, property use, enquiry status, year, month, day, hour, weekday]\n",
       "Index: []"
      ]
     },
     "metadata": {},
     "output_type": "display_data"
    }
   ],
   "source": [
    "if 'year' in df.columns:\n",
    "    df = df[~(df['year'] < 2014)]\n",
    "    display(df[(df['year'] < 2014)])"
   ]
  },
  {
   "cell_type": "code",
   "execution_count": 32,
   "metadata": {
    "collapsed": true
   },
   "outputs": [],
   "source": [
    "df.reset_index(drop=True,inplace=True)"
   ]
  },
  {
   "cell_type": "code",
   "execution_count": null,
   "metadata": {
    "collapsed": true
   },
   "outputs": [],
   "source": []
  },
  {
   "cell_type": "code",
   "execution_count": 33,
   "metadata": {},
   "outputs": [
    {
     "data": {
      "text/plain": [
       "(133932, 10)"
      ]
     },
     "execution_count": 33,
     "metadata": {},
     "output_type": "execute_result"
    }
   ],
   "source": [
    "test = df[df['enquiry status'] == 'Rejected']\n",
    "test.shape"
   ]
  },
  {
   "cell_type": "code",
   "execution_count": 34,
   "metadata": {},
   "outputs": [
    {
     "data": {
      "text/plain": [
       "(25277, 10)"
      ]
     },
     "execution_count": 34,
     "metadata": {},
     "output_type": "execute_result"
    }
   ],
   "source": [
    "test = df[df['enquiry status'] == 'Accepted']\n",
    "test.shape"
   ]
  },
  {
   "cell_type": "code",
   "execution_count": 35,
   "metadata": {},
   "outputs": [
    {
     "data": {
      "text/plain": [
       "2015    7610\n",
       "2014    6841\n",
       "2016    6374\n",
       "2017    4452\n",
       "Name: year, dtype: int64"
      ]
     },
     "execution_count": 35,
     "metadata": {},
     "output_type": "execute_result"
    }
   ],
   "source": [
    "test['year'].value_counts()"
   ]
  },
  {
   "cell_type": "code",
   "execution_count": 36,
   "metadata": {},
   "outputs": [
    {
     "data": {
      "text/plain": [
       "classification     object\n",
       "loan amount       float64\n",
       "loan reason        object\n",
       "property use       object\n",
       "enquiry status     object\n",
       "year                int64\n",
       "month               int64\n",
       "day                 int64\n",
       "hour                int64\n",
       "weekday             int64\n",
       "dtype: object"
      ]
     },
     "execution_count": 36,
     "metadata": {},
     "output_type": "execute_result"
    }
   ],
   "source": [
    "df.dtypes"
   ]
  },
  {
   "cell_type": "code",
   "execution_count": 37,
   "metadata": {},
   "outputs": [
    {
     "data": {
      "text/plain": [
       "Domain                         33796\n",
       "Alternative Media              19131\n",
       "Google AdWords                 13962\n",
       "Coregistration                 13179\n",
       "Omnilead                       12845\n",
       "REA                            10941\n",
       "Home Sales                      8089\n",
       "All Homes                       7678\n",
       "First Home Buyers               5516\n",
       "Domain Campaigns                5114\n",
       "Direct                          4696\n",
       "Domain Internal CBA Program     3620\n",
       "Affiliate                       3140\n",
       "Finder                          2595\n",
       "Email eChoice Database          2287\n",
       "Domain Campaigns CPA            1975\n",
       "Domain Competitions             1791\n",
       "Phone                           1493\n",
       "Folio                           1173\n",
       "Dynamic Home Loans              1034\n",
       "Refinancing AdWords              893\n",
       "Referrer                         579\n",
       "Social Media                     544\n",
       "Partners                         436\n",
       "Home Hound                       403\n",
       "Portal Campaigns                 350\n",
       "Retention                        264\n",
       "External Email                   262\n",
       "Money Manager                    213\n",
       "Refinancing Domain               212\n",
       "Refinancing Direct               194\n",
       "Domain Campaigns CPL             193\n",
       "Real Estate View                 162\n",
       "Domain Bonus Display             155\n",
       "None                              78\n",
       "Self Employed Loans AdWords       61\n",
       "On The House                      52\n",
       "Portals                           33\n",
       "Club FS                           19\n",
       "Sponsored News                    18\n",
       "SMSF Loans                        10\n",
       "Remarketing                        9\n",
       "Australian Chinese Daily           6\n",
       "Self Employed Loans Direct         4\n",
       "Bloom                              3\n",
       "Domain Partners                    1\n",
       "Name: classification, dtype: int64"
      ]
     },
     "execution_count": 37,
     "metadata": {},
     "output_type": "execute_result"
    }
   ],
   "source": [
    "df['classification'].value_counts()"
   ]
  },
  {
   "cell_type": "code",
   "execution_count": 38,
   "metadata": {
    "collapsed": true
   },
   "outputs": [],
   "source": [
    "# df = df[~df['marketing code'].isin(rows_to_drop)]\n",
    "# df.shape\n",
    "# df.drop_duplicates()\n",
    "# duplicates = df[df.duplicated()]\n",
    "# duplicates[duplicates['enquiry status'] == 'Accepted']"
   ]
  },
  {
   "cell_type": "code",
   "execution_count": 39,
   "metadata": {
    "collapsed": true
   },
   "outputs": [],
   "source": [
    "hist = test.groupby(['year']).size().reset_index(name=\"counts\")"
   ]
  },
  {
   "cell_type": "code",
   "execution_count": 40,
   "metadata": {},
   "outputs": [
    {
     "data": {
      "image/png": "[encoded data removed]",
      "text/plain": [
       "<matplotlib.figure.Figure at 0x112ec21d0>"
      ]
     },
     "metadata": {},
     "output_type": "display_data"
    }
   ],
   "source": [
    "fig = plt.figure()\n",
    "plt.plot(hist[\"year\"], hist[\"counts\"], label='acceptance')\n",
    "plt.xlabel('year')\n",
    "plt.ylabel('counts')\n",
    "plt.title(\"Simple Plot\")\n",
    "plt.legend()\n",
    "plt.show()"
   ]
  },
  {
   "cell_type": "code",
   "execution_count": 41,
   "metadata": {},
   "outputs": [
    {
     "data": {
      "text/plain": [
       "(159209, 10)"
      ]
     },
     "execution_count": 41,
     "metadata": {},
     "output_type": "execute_result"
    }
   ],
   "source": [
    "df.shape"
   ]
  },
  {
   "cell_type": "code",
   "execution_count": 42,
   "metadata": {
    "collapsed": true
   },
   "outputs": [],
   "source": [
    "data_frame = df.drop('year', axis = 1) \n",
    "data_frame['loan amount'] = data_frame['loan amount'].astype(int)"
   ]
  },
  {
   "cell_type": "code",
   "execution_count": 43,
   "metadata": {
    "collapsed": true
   },
   "outputs": [],
   "source": [
    "# df.to_csv(\"2014-2017.csv\",index=False)"
   ]
  },
  {
   "cell_type": "code",
   "execution_count": 44,
   "metadata": {
    "collapsed": true
   },
   "outputs": [],
   "source": [
    "data_frame.to_csv(\"2014-2017.csv\",index=False)"
   ]
  },
  {
   "cell_type": "code",
   "execution_count": 45,
   "metadata": {},
   "outputs": [
    {
     "data": {
      "text/html": [
       "<div>\n",
       "<style scoped>\n",
       "    .dataframe tbody tr th:only-of-type {\n",
       "        vertical-align: middle;\n",
       "    }\n",
       "\n",
       "    .dataframe tbody tr th {\n",
       "        vertical-align: top;\n",
       "    }\n",
       "\n",
       "    .dataframe thead th {\n",
       "        text-align: right;\n",
       "    }\n",
       "</style>\n",
       "<table border=\"1\" class=\"dataframe\">\n",
       "  <thead>\n",
       "    <tr style=\"text-align: right;\">\n",
       "      <th></th>\n",
       "      <th>classification</th>\n",
       "      <th>loan amount</th>\n",
       "      <th>loan reason</th>\n",
       "      <th>property use</th>\n",
       "      <th>enquiry status</th>\n",
       "      <th>year</th>\n",
       "      <th>month</th>\n",
       "      <th>day</th>\n",
       "      <th>hour</th>\n",
       "      <th>weekday</th>\n",
       "    </tr>\n",
       "  </thead>\n",
       "  <tbody>\n",
       "    <tr>\n",
       "      <th>3</th>\n",
       "      <td>Coregistration</td>\n",
       "      <td>0.0</td>\n",
       "      <td>First HomeBuyer</td>\n",
       "      <td>Other</td>\n",
       "      <td>Rejected</td>\n",
       "      <td>2014</td>\n",
       "      <td>1</td>\n",
       "      <td>1</td>\n",
       "      <td>2</td>\n",
       "      <td>2</td>\n",
       "    </tr>\n",
       "    <tr>\n",
       "      <th>6</th>\n",
       "      <td>Coregistration</td>\n",
       "      <td>0.0</td>\n",
       "      <td>First HomeBuyer</td>\n",
       "      <td>Other</td>\n",
       "      <td>Rejected</td>\n",
       "      <td>2014</td>\n",
       "      <td>1</td>\n",
       "      <td>1</td>\n",
       "      <td>5</td>\n",
       "      <td>2</td>\n",
       "    </tr>\n",
       "    <tr>\n",
       "      <th>14</th>\n",
       "      <td>Coregistration</td>\n",
       "      <td>0.0</td>\n",
       "      <td>First HomeBuyer</td>\n",
       "      <td>Other</td>\n",
       "      <td>Rejected</td>\n",
       "      <td>2014</td>\n",
       "      <td>1</td>\n",
       "      <td>1</td>\n",
       "      <td>9</td>\n",
       "      <td>2</td>\n",
       "    </tr>\n",
       "    <tr>\n",
       "      <th>15</th>\n",
       "      <td>Coregistration</td>\n",
       "      <td>0.0</td>\n",
       "      <td>First HomeBuyer</td>\n",
       "      <td>Other</td>\n",
       "      <td>Rejected</td>\n",
       "      <td>2014</td>\n",
       "      <td>1</td>\n",
       "      <td>1</td>\n",
       "      <td>9</td>\n",
       "      <td>2</td>\n",
       "    </tr>\n",
       "    <tr>\n",
       "      <th>16</th>\n",
       "      <td>Coregistration</td>\n",
       "      <td>0.0</td>\n",
       "      <td>First HomeBuyer</td>\n",
       "      <td>Other</td>\n",
       "      <td>Rejected</td>\n",
       "      <td>2014</td>\n",
       "      <td>1</td>\n",
       "      <td>1</td>\n",
       "      <td>9</td>\n",
       "      <td>2</td>\n",
       "    </tr>\n",
       "    <tr>\n",
       "      <th>18</th>\n",
       "      <td>Coregistration</td>\n",
       "      <td>0.0</td>\n",
       "      <td>First HomeBuyer</td>\n",
       "      <td>Other</td>\n",
       "      <td>Rejected</td>\n",
       "      <td>2014</td>\n",
       "      <td>1</td>\n",
       "      <td>1</td>\n",
       "      <td>10</td>\n",
       "      <td>2</td>\n",
       "    </tr>\n",
       "    <tr>\n",
       "      <th>20</th>\n",
       "      <td>Coregistration</td>\n",
       "      <td>0.0</td>\n",
       "      <td>First HomeBuyer</td>\n",
       "      <td>Other</td>\n",
       "      <td>Rejected</td>\n",
       "      <td>2014</td>\n",
       "      <td>1</td>\n",
       "      <td>1</td>\n",
       "      <td>10</td>\n",
       "      <td>2</td>\n",
       "    </tr>\n",
       "    <tr>\n",
       "      <th>21</th>\n",
       "      <td>Coregistration</td>\n",
       "      <td>0.0</td>\n",
       "      <td>First HomeBuyer</td>\n",
       "      <td>Other</td>\n",
       "      <td>Rejected</td>\n",
       "      <td>2014</td>\n",
       "      <td>1</td>\n",
       "      <td>1</td>\n",
       "      <td>10</td>\n",
       "      <td>2</td>\n",
       "    </tr>\n",
       "    <tr>\n",
       "      <th>27</th>\n",
       "      <td>Coregistration</td>\n",
       "      <td>0.0</td>\n",
       "      <td>First HomeBuyer</td>\n",
       "      <td>Other</td>\n",
       "      <td>Rejected</td>\n",
       "      <td>2014</td>\n",
       "      <td>1</td>\n",
       "      <td>1</td>\n",
       "      <td>11</td>\n",
       "      <td>2</td>\n",
       "    </tr>\n",
       "    <tr>\n",
       "      <th>29</th>\n",
       "      <td>Coregistration</td>\n",
       "      <td>0.0</td>\n",
       "      <td>First HomeBuyer</td>\n",
       "      <td>Other</td>\n",
       "      <td>Rejected</td>\n",
       "      <td>2014</td>\n",
       "      <td>1</td>\n",
       "      <td>1</td>\n",
       "      <td>11</td>\n",
       "      <td>2</td>\n",
       "    </tr>\n",
       "    <tr>\n",
       "      <th>33</th>\n",
       "      <td>Coregistration</td>\n",
       "      <td>0.0</td>\n",
       "      <td>First HomeBuyer</td>\n",
       "      <td>Other</td>\n",
       "      <td>Rejected</td>\n",
       "      <td>2014</td>\n",
       "      <td>1</td>\n",
       "      <td>1</td>\n",
       "      <td>12</td>\n",
       "      <td>2</td>\n",
       "    </tr>\n",
       "    <tr>\n",
       "      <th>35</th>\n",
       "      <td>Coregistration</td>\n",
       "      <td>0.0</td>\n",
       "      <td>First HomeBuyer</td>\n",
       "      <td>Other</td>\n",
       "      <td>Rejected</td>\n",
       "      <td>2014</td>\n",
       "      <td>1</td>\n",
       "      <td>1</td>\n",
       "      <td>12</td>\n",
       "      <td>2</td>\n",
       "    </tr>\n",
       "    <tr>\n",
       "      <th>37</th>\n",
       "      <td>Coregistration</td>\n",
       "      <td>0.0</td>\n",
       "      <td>First HomeBuyer</td>\n",
       "      <td>Other</td>\n",
       "      <td>Rejected</td>\n",
       "      <td>2014</td>\n",
       "      <td>1</td>\n",
       "      <td>1</td>\n",
       "      <td>12</td>\n",
       "      <td>2</td>\n",
       "    </tr>\n",
       "    <tr>\n",
       "      <th>38</th>\n",
       "      <td>Coregistration</td>\n",
       "      <td>0.0</td>\n",
       "      <td>First HomeBuyer</td>\n",
       "      <td>Other</td>\n",
       "      <td>Rejected</td>\n",
       "      <td>2014</td>\n",
       "      <td>1</td>\n",
       "      <td>1</td>\n",
       "      <td>12</td>\n",
       "      <td>2</td>\n",
       "    </tr>\n",
       "    <tr>\n",
       "      <th>39</th>\n",
       "      <td>Coregistration</td>\n",
       "      <td>0.0</td>\n",
       "      <td>First HomeBuyer</td>\n",
       "      <td>Other</td>\n",
       "      <td>Rejected</td>\n",
       "      <td>2014</td>\n",
       "      <td>1</td>\n",
       "      <td>1</td>\n",
       "      <td>12</td>\n",
       "      <td>2</td>\n",
       "    </tr>\n",
       "    <tr>\n",
       "      <th>43</th>\n",
       "      <td>Coregistration</td>\n",
       "      <td>0.0</td>\n",
       "      <td>First HomeBuyer</td>\n",
       "      <td>Other</td>\n",
       "      <td>Rejected</td>\n",
       "      <td>2014</td>\n",
       "      <td>1</td>\n",
       "      <td>1</td>\n",
       "      <td>13</td>\n",
       "      <td>2</td>\n",
       "    </tr>\n",
       "    <tr>\n",
       "      <th>46</th>\n",
       "      <td>Coregistration</td>\n",
       "      <td>0.0</td>\n",
       "      <td>First HomeBuyer</td>\n",
       "      <td>Other</td>\n",
       "      <td>Rejected</td>\n",
       "      <td>2014</td>\n",
       "      <td>1</td>\n",
       "      <td>1</td>\n",
       "      <td>13</td>\n",
       "      <td>2</td>\n",
       "    </tr>\n",
       "    <tr>\n",
       "      <th>50</th>\n",
       "      <td>Coregistration</td>\n",
       "      <td>0.0</td>\n",
       "      <td>First HomeBuyer</td>\n",
       "      <td>Other</td>\n",
       "      <td>Rejected</td>\n",
       "      <td>2014</td>\n",
       "      <td>1</td>\n",
       "      <td>1</td>\n",
       "      <td>14</td>\n",
       "      <td>2</td>\n",
       "    </tr>\n",
       "    <tr>\n",
       "      <th>52</th>\n",
       "      <td>Coregistration</td>\n",
       "      <td>0.0</td>\n",
       "      <td>First HomeBuyer</td>\n",
       "      <td>Other</td>\n",
       "      <td>Rejected</td>\n",
       "      <td>2014</td>\n",
       "      <td>1</td>\n",
       "      <td>1</td>\n",
       "      <td>15</td>\n",
       "      <td>2</td>\n",
       "    </tr>\n",
       "    <tr>\n",
       "      <th>54</th>\n",
       "      <td>Coregistration</td>\n",
       "      <td>0.0</td>\n",
       "      <td>First HomeBuyer</td>\n",
       "      <td>Other</td>\n",
       "      <td>Rejected</td>\n",
       "      <td>2014</td>\n",
       "      <td>1</td>\n",
       "      <td>1</td>\n",
       "      <td>15</td>\n",
       "      <td>2</td>\n",
       "    </tr>\n",
       "    <tr>\n",
       "      <th>59</th>\n",
       "      <td>Coregistration</td>\n",
       "      <td>0.0</td>\n",
       "      <td>First HomeBuyer</td>\n",
       "      <td>Other</td>\n",
       "      <td>Rejected</td>\n",
       "      <td>2014</td>\n",
       "      <td>1</td>\n",
       "      <td>1</td>\n",
       "      <td>15</td>\n",
       "      <td>2</td>\n",
       "    </tr>\n",
       "    <tr>\n",
       "      <th>69</th>\n",
       "      <td>Coregistration</td>\n",
       "      <td>0.0</td>\n",
       "      <td>First HomeBuyer</td>\n",
       "      <td>Other</td>\n",
       "      <td>Rejected</td>\n",
       "      <td>2014</td>\n",
       "      <td>1</td>\n",
       "      <td>1</td>\n",
       "      <td>17</td>\n",
       "      <td>2</td>\n",
       "    </tr>\n",
       "    <tr>\n",
       "      <th>71</th>\n",
       "      <td>Coregistration</td>\n",
       "      <td>0.0</td>\n",
       "      <td>First HomeBuyer</td>\n",
       "      <td>Other</td>\n",
       "      <td>Rejected</td>\n",
       "      <td>2014</td>\n",
       "      <td>1</td>\n",
       "      <td>1</td>\n",
       "      <td>17</td>\n",
       "      <td>2</td>\n",
       "    </tr>\n",
       "    <tr>\n",
       "      <th>73</th>\n",
       "      <td>Coregistration</td>\n",
       "      <td>0.0</td>\n",
       "      <td>First HomeBuyer</td>\n",
       "      <td>Other</td>\n",
       "      <td>Rejected</td>\n",
       "      <td>2014</td>\n",
       "      <td>1</td>\n",
       "      <td>1</td>\n",
       "      <td>17</td>\n",
       "      <td>2</td>\n",
       "    </tr>\n",
       "    <tr>\n",
       "      <th>81</th>\n",
       "      <td>Coregistration</td>\n",
       "      <td>0.0</td>\n",
       "      <td>First HomeBuyer</td>\n",
       "      <td>Residence</td>\n",
       "      <td>Rejected</td>\n",
       "      <td>2014</td>\n",
       "      <td>1</td>\n",
       "      <td>1</td>\n",
       "      <td>18</td>\n",
       "      <td>2</td>\n",
       "    </tr>\n",
       "    <tr>\n",
       "      <th>83</th>\n",
       "      <td>Coregistration</td>\n",
       "      <td>0.0</td>\n",
       "      <td>First HomeBuyer</td>\n",
       "      <td>Other</td>\n",
       "      <td>Rejected</td>\n",
       "      <td>2014</td>\n",
       "      <td>1</td>\n",
       "      <td>1</td>\n",
       "      <td>18</td>\n",
       "      <td>2</td>\n",
       "    </tr>\n",
       "    <tr>\n",
       "      <th>89</th>\n",
       "      <td>Coregistration</td>\n",
       "      <td>0.0</td>\n",
       "      <td>First HomeBuyer</td>\n",
       "      <td>Other</td>\n",
       "      <td>Rejected</td>\n",
       "      <td>2014</td>\n",
       "      <td>1</td>\n",
       "      <td>1</td>\n",
       "      <td>19</td>\n",
       "      <td>2</td>\n",
       "    </tr>\n",
       "    <tr>\n",
       "      <th>90</th>\n",
       "      <td>Coregistration</td>\n",
       "      <td>0.0</td>\n",
       "      <td>First HomeBuyer</td>\n",
       "      <td>Other</td>\n",
       "      <td>Rejected</td>\n",
       "      <td>2014</td>\n",
       "      <td>1</td>\n",
       "      <td>1</td>\n",
       "      <td>19</td>\n",
       "      <td>2</td>\n",
       "    </tr>\n",
       "    <tr>\n",
       "      <th>95</th>\n",
       "      <td>Coregistration</td>\n",
       "      <td>0.0</td>\n",
       "      <td>First HomeBuyer</td>\n",
       "      <td>Other</td>\n",
       "      <td>Rejected</td>\n",
       "      <td>2014</td>\n",
       "      <td>1</td>\n",
       "      <td>1</td>\n",
       "      <td>20</td>\n",
       "      <td>2</td>\n",
       "    </tr>\n",
       "    <tr>\n",
       "      <th>97</th>\n",
       "      <td>Coregistration</td>\n",
       "      <td>0.0</td>\n",
       "      <td>First HomeBuyer</td>\n",
       "      <td>Other</td>\n",
       "      <td>Rejected</td>\n",
       "      <td>2014</td>\n",
       "      <td>1</td>\n",
       "      <td>1</td>\n",
       "      <td>20</td>\n",
       "      <td>2</td>\n",
       "    </tr>\n",
       "    <tr>\n",
       "      <th>...</th>\n",
       "      <td>...</td>\n",
       "      <td>...</td>\n",
       "      <td>...</td>\n",
       "      <td>...</td>\n",
       "      <td>...</td>\n",
       "      <td>...</td>\n",
       "      <td>...</td>\n",
       "      <td>...</td>\n",
       "      <td>...</td>\n",
       "      <td>...</td>\n",
       "    </tr>\n",
       "    <tr>\n",
       "      <th>159178</th>\n",
       "      <td>Coregistration</td>\n",
       "      <td>0.0</td>\n",
       "      <td>First HomeBuyer</td>\n",
       "      <td>Residence</td>\n",
       "      <td>Rejected</td>\n",
       "      <td>2016</td>\n",
       "      <td>1</td>\n",
       "      <td>31</td>\n",
       "      <td>2</td>\n",
       "      <td>6</td>\n",
       "    </tr>\n",
       "    <tr>\n",
       "      <th>159179</th>\n",
       "      <td>Coregistration</td>\n",
       "      <td>0.0</td>\n",
       "      <td>First HomeBuyer</td>\n",
       "      <td>Other</td>\n",
       "      <td>Rejected</td>\n",
       "      <td>2016</td>\n",
       "      <td>1</td>\n",
       "      <td>31</td>\n",
       "      <td>2</td>\n",
       "      <td>6</td>\n",
       "    </tr>\n",
       "    <tr>\n",
       "      <th>159180</th>\n",
       "      <td>Coregistration</td>\n",
       "      <td>0.0</td>\n",
       "      <td>First HomeBuyer</td>\n",
       "      <td>Other</td>\n",
       "      <td>Rejected</td>\n",
       "      <td>2016</td>\n",
       "      <td>1</td>\n",
       "      <td>31</td>\n",
       "      <td>2</td>\n",
       "      <td>6</td>\n",
       "    </tr>\n",
       "    <tr>\n",
       "      <th>159181</th>\n",
       "      <td>Affiliate</td>\n",
       "      <td>810000.0</td>\n",
       "      <td>Buying Again</td>\n",
       "      <td>Residence</td>\n",
       "      <td>Rejected</td>\n",
       "      <td>2016</td>\n",
       "      <td>1</td>\n",
       "      <td>31</td>\n",
       "      <td>3</td>\n",
       "      <td>6</td>\n",
       "    </tr>\n",
       "    <tr>\n",
       "      <th>159182</th>\n",
       "      <td>Money Manager</td>\n",
       "      <td>0.0</td>\n",
       "      <td>Other Loan Reason</td>\n",
       "      <td>Other</td>\n",
       "      <td>Rejected</td>\n",
       "      <td>2016</td>\n",
       "      <td>1</td>\n",
       "      <td>31</td>\n",
       "      <td>3</td>\n",
       "      <td>6</td>\n",
       "    </tr>\n",
       "    <tr>\n",
       "      <th>159183</th>\n",
       "      <td>Coregistration</td>\n",
       "      <td>0.0</td>\n",
       "      <td>First HomeBuyer</td>\n",
       "      <td>Other</td>\n",
       "      <td>Rejected</td>\n",
       "      <td>2016</td>\n",
       "      <td>1</td>\n",
       "      <td>31</td>\n",
       "      <td>4</td>\n",
       "      <td>6</td>\n",
       "    </tr>\n",
       "    <tr>\n",
       "      <th>159184</th>\n",
       "      <td>Coregistration</td>\n",
       "      <td>0.0</td>\n",
       "      <td>First HomeBuyer</td>\n",
       "      <td>Other</td>\n",
       "      <td>Rejected</td>\n",
       "      <td>2016</td>\n",
       "      <td>1</td>\n",
       "      <td>31</td>\n",
       "      <td>6</td>\n",
       "      <td>6</td>\n",
       "    </tr>\n",
       "    <tr>\n",
       "      <th>159185</th>\n",
       "      <td>Affiliate</td>\n",
       "      <td>0.0</td>\n",
       "      <td>First HomeBuyer</td>\n",
       "      <td>Residence</td>\n",
       "      <td>Rejected</td>\n",
       "      <td>2016</td>\n",
       "      <td>1</td>\n",
       "      <td>31</td>\n",
       "      <td>8</td>\n",
       "      <td>6</td>\n",
       "    </tr>\n",
       "    <tr>\n",
       "      <th>159186</th>\n",
       "      <td>Google AdWords</td>\n",
       "      <td>368000.0</td>\n",
       "      <td>Buying Again</td>\n",
       "      <td>Investment</td>\n",
       "      <td>Accepted</td>\n",
       "      <td>2016</td>\n",
       "      <td>1</td>\n",
       "      <td>31</td>\n",
       "      <td>9</td>\n",
       "      <td>6</td>\n",
       "    </tr>\n",
       "    <tr>\n",
       "      <th>159187</th>\n",
       "      <td>Google AdWords</td>\n",
       "      <td>0.0</td>\n",
       "      <td>Buying Again</td>\n",
       "      <td>Residence</td>\n",
       "      <td>Rejected</td>\n",
       "      <td>2016</td>\n",
       "      <td>1</td>\n",
       "      <td>31</td>\n",
       "      <td>9</td>\n",
       "      <td>6</td>\n",
       "    </tr>\n",
       "    <tr>\n",
       "      <th>159188</th>\n",
       "      <td>Domain Campaigns</td>\n",
       "      <td>300000.0</td>\n",
       "      <td>Buying Again</td>\n",
       "      <td>Residence</td>\n",
       "      <td>Rejected</td>\n",
       "      <td>2016</td>\n",
       "      <td>1</td>\n",
       "      <td>31</td>\n",
       "      <td>10</td>\n",
       "      <td>6</td>\n",
       "    </tr>\n",
       "    <tr>\n",
       "      <th>159189</th>\n",
       "      <td>On The House</td>\n",
       "      <td>570000.0</td>\n",
       "      <td>First HomeBuyer</td>\n",
       "      <td>Residence</td>\n",
       "      <td>Accepted</td>\n",
       "      <td>2016</td>\n",
       "      <td>1</td>\n",
       "      <td>31</td>\n",
       "      <td>10</td>\n",
       "      <td>6</td>\n",
       "    </tr>\n",
       "    <tr>\n",
       "      <th>159190</th>\n",
       "      <td>Google AdWords</td>\n",
       "      <td>0.0</td>\n",
       "      <td>Buying Again</td>\n",
       "      <td>Residence</td>\n",
       "      <td>Rejected</td>\n",
       "      <td>2016</td>\n",
       "      <td>1</td>\n",
       "      <td>31</td>\n",
       "      <td>10</td>\n",
       "      <td>6</td>\n",
       "    </tr>\n",
       "    <tr>\n",
       "      <th>159191</th>\n",
       "      <td>Google AdWords</td>\n",
       "      <td>0.0</td>\n",
       "      <td>Buying Again</td>\n",
       "      <td>Residence</td>\n",
       "      <td>Rejected</td>\n",
       "      <td>2016</td>\n",
       "      <td>1</td>\n",
       "      <td>31</td>\n",
       "      <td>10</td>\n",
       "      <td>6</td>\n",
       "    </tr>\n",
       "    <tr>\n",
       "      <th>159192</th>\n",
       "      <td>REA</td>\n",
       "      <td>525000.0</td>\n",
       "      <td>First HomeBuyer</td>\n",
       "      <td>Residence</td>\n",
       "      <td>Accepted</td>\n",
       "      <td>2016</td>\n",
       "      <td>1</td>\n",
       "      <td>31</td>\n",
       "      <td>11</td>\n",
       "      <td>6</td>\n",
       "    </tr>\n",
       "    <tr>\n",
       "      <th>159193</th>\n",
       "      <td>REA</td>\n",
       "      <td>0.0</td>\n",
       "      <td>Buying Again</td>\n",
       "      <td>Residence</td>\n",
       "      <td>Rejected</td>\n",
       "      <td>2016</td>\n",
       "      <td>1</td>\n",
       "      <td>31</td>\n",
       "      <td>11</td>\n",
       "      <td>6</td>\n",
       "    </tr>\n",
       "    <tr>\n",
       "      <th>159194</th>\n",
       "      <td>REA</td>\n",
       "      <td>310000.0</td>\n",
       "      <td>Buying Again</td>\n",
       "      <td>Residence</td>\n",
       "      <td>Rejected</td>\n",
       "      <td>2016</td>\n",
       "      <td>1</td>\n",
       "      <td>31</td>\n",
       "      <td>11</td>\n",
       "      <td>6</td>\n",
       "    </tr>\n",
       "    <tr>\n",
       "      <th>159195</th>\n",
       "      <td>First Home Buyers</td>\n",
       "      <td>0.0</td>\n",
       "      <td>Other Loan Reason</td>\n",
       "      <td>Other</td>\n",
       "      <td>Rejected</td>\n",
       "      <td>2016</td>\n",
       "      <td>1</td>\n",
       "      <td>31</td>\n",
       "      <td>11</td>\n",
       "      <td>6</td>\n",
       "    </tr>\n",
       "    <tr>\n",
       "      <th>159196</th>\n",
       "      <td>Home Hound</td>\n",
       "      <td>70000.0</td>\n",
       "      <td>Buying Again</td>\n",
       "      <td>Investment</td>\n",
       "      <td>Rejected</td>\n",
       "      <td>2016</td>\n",
       "      <td>1</td>\n",
       "      <td>31</td>\n",
       "      <td>11</td>\n",
       "      <td>6</td>\n",
       "    </tr>\n",
       "    <tr>\n",
       "      <th>159197</th>\n",
       "      <td>Affiliate</td>\n",
       "      <td>190000.0</td>\n",
       "      <td>First HomeBuyer</td>\n",
       "      <td>Residence</td>\n",
       "      <td>Rejected</td>\n",
       "      <td>2016</td>\n",
       "      <td>1</td>\n",
       "      <td>31</td>\n",
       "      <td>12</td>\n",
       "      <td>6</td>\n",
       "    </tr>\n",
       "    <tr>\n",
       "      <th>159198</th>\n",
       "      <td>Google AdWords</td>\n",
       "      <td>660000.0</td>\n",
       "      <td>Buying Again</td>\n",
       "      <td>Residence</td>\n",
       "      <td>Accepted</td>\n",
       "      <td>2016</td>\n",
       "      <td>1</td>\n",
       "      <td>31</td>\n",
       "      <td>13</td>\n",
       "      <td>6</td>\n",
       "    </tr>\n",
       "    <tr>\n",
       "      <th>159199</th>\n",
       "      <td>Affiliate</td>\n",
       "      <td>0.0</td>\n",
       "      <td>Other Loan Reason</td>\n",
       "      <td>Other</td>\n",
       "      <td>Rejected</td>\n",
       "      <td>2016</td>\n",
       "      <td>1</td>\n",
       "      <td>31</td>\n",
       "      <td>13</td>\n",
       "      <td>6</td>\n",
       "    </tr>\n",
       "    <tr>\n",
       "      <th>159200</th>\n",
       "      <td>Home Sales</td>\n",
       "      <td>200000.0</td>\n",
       "      <td>First HomeBuyer</td>\n",
       "      <td>Residence</td>\n",
       "      <td>Rejected</td>\n",
       "      <td>2016</td>\n",
       "      <td>1</td>\n",
       "      <td>31</td>\n",
       "      <td>14</td>\n",
       "      <td>6</td>\n",
       "    </tr>\n",
       "    <tr>\n",
       "      <th>159201</th>\n",
       "      <td>Home Sales</td>\n",
       "      <td>399000.0</td>\n",
       "      <td>Buying Again</td>\n",
       "      <td>Residence</td>\n",
       "      <td>Rejected</td>\n",
       "      <td>2016</td>\n",
       "      <td>1</td>\n",
       "      <td>31</td>\n",
       "      <td>16</td>\n",
       "      <td>6</td>\n",
       "    </tr>\n",
       "    <tr>\n",
       "      <th>159202</th>\n",
       "      <td>First Home Buyers</td>\n",
       "      <td>0.0</td>\n",
       "      <td>Other Loan Reason</td>\n",
       "      <td>Other</td>\n",
       "      <td>Rejected</td>\n",
       "      <td>2016</td>\n",
       "      <td>1</td>\n",
       "      <td>31</td>\n",
       "      <td>16</td>\n",
       "      <td>6</td>\n",
       "    </tr>\n",
       "    <tr>\n",
       "      <th>159203</th>\n",
       "      <td>On The House</td>\n",
       "      <td>31000.0</td>\n",
       "      <td>First HomeBuyer</td>\n",
       "      <td>Residence</td>\n",
       "      <td>Rejected</td>\n",
       "      <td>2016</td>\n",
       "      <td>1</td>\n",
       "      <td>31</td>\n",
       "      <td>16</td>\n",
       "      <td>6</td>\n",
       "    </tr>\n",
       "    <tr>\n",
       "      <th>159204</th>\n",
       "      <td>Home Hound</td>\n",
       "      <td>500000.0</td>\n",
       "      <td>Buying Again</td>\n",
       "      <td>Residence</td>\n",
       "      <td>Rejected</td>\n",
       "      <td>2016</td>\n",
       "      <td>1</td>\n",
       "      <td>31</td>\n",
       "      <td>18</td>\n",
       "      <td>6</td>\n",
       "    </tr>\n",
       "    <tr>\n",
       "      <th>159205</th>\n",
       "      <td>Direct</td>\n",
       "      <td>434000.0</td>\n",
       "      <td>Buying Again</td>\n",
       "      <td>Residence</td>\n",
       "      <td>Accepted</td>\n",
       "      <td>2016</td>\n",
       "      <td>1</td>\n",
       "      <td>31</td>\n",
       "      <td>19</td>\n",
       "      <td>6</td>\n",
       "    </tr>\n",
       "    <tr>\n",
       "      <th>159207</th>\n",
       "      <td>Affiliate</td>\n",
       "      <td>304000.0</td>\n",
       "      <td>First HomeBuyer</td>\n",
       "      <td>Investment</td>\n",
       "      <td>Accepted</td>\n",
       "      <td>2016</td>\n",
       "      <td>1</td>\n",
       "      <td>31</td>\n",
       "      <td>20</td>\n",
       "      <td>6</td>\n",
       "    </tr>\n",
       "    <tr>\n",
       "      <th>159208</th>\n",
       "      <td>Home Sales</td>\n",
       "      <td>500000.0</td>\n",
       "      <td>Buying Again</td>\n",
       "      <td>Residence</td>\n",
       "      <td>Rejected</td>\n",
       "      <td>2016</td>\n",
       "      <td>1</td>\n",
       "      <td>31</td>\n",
       "      <td>21</td>\n",
       "      <td>6</td>\n",
       "    </tr>\n",
       "  </tbody>\n",
       "</table>\n",
       "<p>44268 rows × 10 columns</p>\n",
       "</div>"
      ],
      "text/plain": [
       "           classification  loan amount        loan reason property use  \\\n",
       "3          Coregistration          0.0    First HomeBuyer        Other   \n",
       "6          Coregistration          0.0    First HomeBuyer        Other   \n",
       "14         Coregistration          0.0    First HomeBuyer        Other   \n",
       "15         Coregistration          0.0    First HomeBuyer        Other   \n",
       "16         Coregistration          0.0    First HomeBuyer        Other   \n",
       "18         Coregistration          0.0    First HomeBuyer        Other   \n",
       "20         Coregistration          0.0    First HomeBuyer        Other   \n",
       "21         Coregistration          0.0    First HomeBuyer        Other   \n",
       "27         Coregistration          0.0    First HomeBuyer        Other   \n",
       "29         Coregistration          0.0    First HomeBuyer        Other   \n",
       "33         Coregistration          0.0    First HomeBuyer        Other   \n",
       "35         Coregistration          0.0    First HomeBuyer        Other   \n",
       "37         Coregistration          0.0    First HomeBuyer        Other   \n",
       "38         Coregistration          0.0    First HomeBuyer        Other   \n",
       "39         Coregistration          0.0    First HomeBuyer        Other   \n",
       "43         Coregistration          0.0    First HomeBuyer        Other   \n",
       "46         Coregistration          0.0    First HomeBuyer        Other   \n",
       "50         Coregistration          0.0    First HomeBuyer        Other   \n",
       "52         Coregistration          0.0    First HomeBuyer        Other   \n",
       "54         Coregistration          0.0    First HomeBuyer        Other   \n",
       "59         Coregistration          0.0    First HomeBuyer        Other   \n",
       "69         Coregistration          0.0    First HomeBuyer        Other   \n",
       "71         Coregistration          0.0    First HomeBuyer        Other   \n",
       "73         Coregistration          0.0    First HomeBuyer        Other   \n",
       "81         Coregistration          0.0    First HomeBuyer    Residence   \n",
       "83         Coregistration          0.0    First HomeBuyer        Other   \n",
       "89         Coregistration          0.0    First HomeBuyer        Other   \n",
       "90         Coregistration          0.0    First HomeBuyer        Other   \n",
       "95         Coregistration          0.0    First HomeBuyer        Other   \n",
       "97         Coregistration          0.0    First HomeBuyer        Other   \n",
       "...                   ...          ...                ...          ...   \n",
       "159178     Coregistration          0.0    First HomeBuyer    Residence   \n",
       "159179     Coregistration          0.0    First HomeBuyer        Other   \n",
       "159180     Coregistration          0.0    First HomeBuyer        Other   \n",
       "159181          Affiliate     810000.0       Buying Again    Residence   \n",
       "159182      Money Manager          0.0  Other Loan Reason        Other   \n",
       "159183     Coregistration          0.0    First HomeBuyer        Other   \n",
       "159184     Coregistration          0.0    First HomeBuyer        Other   \n",
       "159185          Affiliate          0.0    First HomeBuyer    Residence   \n",
       "159186     Google AdWords     368000.0       Buying Again   Investment   \n",
       "159187     Google AdWords          0.0       Buying Again    Residence   \n",
       "159188   Domain Campaigns     300000.0       Buying Again    Residence   \n",
       "159189       On The House     570000.0    First HomeBuyer    Residence   \n",
       "159190     Google AdWords          0.0       Buying Again    Residence   \n",
       "159191     Google AdWords          0.0       Buying Again    Residence   \n",
       "159192                REA     525000.0    First HomeBuyer    Residence   \n",
       "159193                REA          0.0       Buying Again    Residence   \n",
       "159194                REA     310000.0       Buying Again    Residence   \n",
       "159195  First Home Buyers          0.0  Other Loan Reason        Other   \n",
       "159196         Home Hound      70000.0       Buying Again   Investment   \n",
       "159197          Affiliate     190000.0    First HomeBuyer    Residence   \n",
       "159198     Google AdWords     660000.0       Buying Again    Residence   \n",
       "159199          Affiliate          0.0  Other Loan Reason        Other   \n",
       "159200         Home Sales     200000.0    First HomeBuyer    Residence   \n",
       "159201         Home Sales     399000.0       Buying Again    Residence   \n",
       "159202  First Home Buyers          0.0  Other Loan Reason        Other   \n",
       "159203       On The House      31000.0    First HomeBuyer    Residence   \n",
       "159204         Home Hound     500000.0       Buying Again    Residence   \n",
       "159205             Direct     434000.0       Buying Again    Residence   \n",
       "159207          Affiliate     304000.0    First HomeBuyer   Investment   \n",
       "159208         Home Sales     500000.0       Buying Again    Residence   \n",
       "\n",
       "       enquiry status  year  month  day  hour  weekday  \n",
       "3            Rejected  2014      1    1     2        2  \n",
       "6            Rejected  2014      1    1     5        2  \n",
       "14           Rejected  2014      1    1     9        2  \n",
       "15           Rejected  2014      1    1     9        2  \n",
       "16           Rejected  2014      1    1     9        2  \n",
       "18           Rejected  2014      1    1    10        2  \n",
       "20           Rejected  2014      1    1    10        2  \n",
       "21           Rejected  2014      1    1    10        2  \n",
       "27           Rejected  2014      1    1    11        2  \n",
       "29           Rejected  2014      1    1    11        2  \n",
       "33           Rejected  2014      1    1    12        2  \n",
       "35           Rejected  2014      1    1    12        2  \n",
       "37           Rejected  2014      1    1    12        2  \n",
       "38           Rejected  2014      1    1    12        2  \n",
       "39           Rejected  2014      1    1    12        2  \n",
       "43           Rejected  2014      1    1    13        2  \n",
       "46           Rejected  2014      1    1    13        2  \n",
       "50           Rejected  2014      1    1    14        2  \n",
       "52           Rejected  2014      1    1    15        2  \n",
       "54           Rejected  2014      1    1    15        2  \n",
       "59           Rejected  2014      1    1    15        2  \n",
       "69           Rejected  2014      1    1    17        2  \n",
       "71           Rejected  2014      1    1    17        2  \n",
       "73           Rejected  2014      1    1    17        2  \n",
       "81           Rejected  2014      1    1    18        2  \n",
       "83           Rejected  2014      1    1    18        2  \n",
       "89           Rejected  2014      1    1    19        2  \n",
       "90           Rejected  2014      1    1    19        2  \n",
       "95           Rejected  2014      1    1    20        2  \n",
       "97           Rejected  2014      1    1    20        2  \n",
       "...               ...   ...    ...  ...   ...      ...  \n",
       "159178       Rejected  2016      1   31     2        6  \n",
       "159179       Rejected  2016      1   31     2        6  \n",
       "159180       Rejected  2016      1   31     2        6  \n",
       "159181       Rejected  2016      1   31     3        6  \n",
       "159182       Rejected  2016      1   31     3        6  \n",
       "159183       Rejected  2016      1   31     4        6  \n",
       "159184       Rejected  2016      1   31     6        6  \n",
       "159185       Rejected  2016      1   31     8        6  \n",
       "159186       Accepted  2016      1   31     9        6  \n",
       "159187       Rejected  2016      1   31     9        6  \n",
       "159188       Rejected  2016      1   31    10        6  \n",
       "159189       Accepted  2016      1   31    10        6  \n",
       "159190       Rejected  2016      1   31    10        6  \n",
       "159191       Rejected  2016      1   31    10        6  \n",
       "159192       Accepted  2016      1   31    11        6  \n",
       "159193       Rejected  2016      1   31    11        6  \n",
       "159194       Rejected  2016      1   31    11        6  \n",
       "159195       Rejected  2016      1   31    11        6  \n",
       "159196       Rejected  2016      1   31    11        6  \n",
       "159197       Rejected  2016      1   31    12        6  \n",
       "159198       Accepted  2016      1   31    13        6  \n",
       "159199       Rejected  2016      1   31    13        6  \n",
       "159200       Rejected  2016      1   31    14        6  \n",
       "159201       Rejected  2016      1   31    16        6  \n",
       "159202       Rejected  2016      1   31    16        6  \n",
       "159203       Rejected  2016      1   31    16        6  \n",
       "159204       Rejected  2016      1   31    18        6  \n",
       "159205       Accepted  2016      1   31    19        6  \n",
       "159207       Accepted  2016      1   31    20        6  \n",
       "159208       Rejected  2016      1   31    21        6  \n",
       "\n",
       "[44268 rows x 10 columns]"
      ]
     },
     "execution_count": 45,
     "metadata": {},
     "output_type": "execute_result"
    }
   ],
   "source": [
    "df[df.duplicated]"
   ]
  },
  {
   "cell_type": "markdown",
   "metadata": {},
   "source": [
    "Because marketing code is variable that has changed in so many years, so it has much less impact on the result compare to other features"
   ]
  }
 ],
 "metadata": {
  "kernelspec": {
   "display_name": "Python 3",
   "language": "python",
   "name": "python3"
  },
  "language_info": {
   "codemirror_mode": {
    "name": "ipython",
    "version": 3
   },
   "file_extension": ".py",
   "mimetype": "text/x-python",
   "name": "python",
   "nbconvert_exporter": "python",
   "pygments_lexer": "ipython3",
   "version": "3.6.3"
  }
 },
 "nbformat": 4,
 "nbformat_minor": 2
}
