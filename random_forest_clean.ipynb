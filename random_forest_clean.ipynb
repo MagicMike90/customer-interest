{
 "cells": [
  {
   "cell_type": "code",
   "execution_count": 1,
   "metadata": {
    "collapsed": true
   },
   "outputs": [],
   "source": [
    "%matplotlib inline\n",
    "import numpy as np\n",
    "import matplotlib.pyplot as plt\n",
    "import matplotlib as mpl\n",
    "import pandas as pd\n",
    "import glob\n",
    "import warnings\n",
    "from IPython.display import display\n",
    "\n",
    "warnings.filterwarnings('ignore')\n",
    "mpl.rcParams['savefig.dpi'] = 128\n",
    "mpl.rcParams['figure.dpi'] = 128\n",
    "# Plot size to 14\" x 7\"\n",
    "mpl.rc('figure', figsize = (14, 7))\n",
    "# Font size to 14\n",
    "mpl.rc('font', size = 14)\n",
    "# Do not display top and right frame lines\n",
    "mpl.rc('axes.spines', top = False, right = False)\n",
    "# Remove grid lines\n",
    "mpl.rc('axes', grid = False)\n",
    "# Set backgound color to white\n",
    "mpl.rc('axes', facecolor = 'white')"
   ]
  },
  {
   "cell_type": "code",
   "execution_count": 2,
   "metadata": {},
   "outputs": [
    {
     "data": {
      "text/plain": [
       "(159209, 9)"
      ]
     },
     "execution_count": 2,
     "metadata": {},
     "output_type": "execute_result"
    }
   ],
   "source": [
    "df = pd.read_csv(\"2014-2017.csv\")\n",
    "df.shape"
   ]
  },
  {
   "cell_type": "code",
   "execution_count": 3,
   "metadata": {},
   "outputs": [
    {
     "data": {
      "text/plain": [
       "Accepted    25277\n",
       "Rejected    25277\n",
       "Name: enquiry status, dtype: int64"
      ]
     },
     "execution_count": 3,
     "metadata": {},
     "output_type": "execute_result"
    }
   ],
   "source": [
    "from sklearn.utils import resample\n",
    "\n",
    "df_majority = df[df['enquiry status'] == 'Rejected']\n",
    "df_minority = df[df['enquiry status'] == 'Accepted']\n",
    "\n",
    "\n",
    "# Upsample minority class\n",
    "df_majority_downsampled = resample(df_majority, \n",
    "                                 replace=False,     # sample with replacement\n",
    "                                 n_samples=25277,    # to match majority class\n",
    "                                 random_state=123) # reproducible results\n",
    "\n",
    "\n",
    "\n",
    "# Combine majority class with upsampled minority class\n",
    "df_downsampled = pd.concat([df_majority_downsampled, df_minority])\n",
    "\n",
    "# Display new class counts\n",
    "df_downsampled['enquiry status'].value_counts()"
   ]
  },
  {
   "cell_type": "code",
   "execution_count": 4,
   "metadata": {
    "collapsed": true
   },
   "outputs": [],
   "source": [
    "# # Separate majority and minority classes\n",
    "# df_majority = df[df['enquiry status'] == 'Rejected']\n",
    "# df_minority = df[df['enquiry status'] == 'Accepted']\n",
    " \n",
    "# # Upsample minority class\n",
    "# df_minority_upsampled = resample(df_minority, \n",
    "#                                  replace=True,     # sample with replacement\n",
    "#                                  n_samples=218370,    # to match majority class\n",
    "#                                  random_state=123) # reproducible results\n",
    " \n",
    "# # Combine majority class with upsampled minority class\n",
    "# df_upsampled = pd.concat([df_majority, df_minority_upsampled])\n",
    " \n",
    "# # Display new class counts\n",
    "# df_upsampled['enquiry status'].value_counts()"
   ]
  },
  {
   "cell_type": "code",
   "execution_count": 5,
   "metadata": {
    "collapsed": true
   },
   "outputs": [],
   "source": [
    "df = df_downsampled"
   ]
  },
  {
   "cell_type": "code",
   "execution_count": 6,
   "metadata": {
    "collapsed": true
   },
   "outputs": [],
   "source": [
    "target = 'enquiry status';\n",
    "\n",
    "X = df[df.keys()]\n",
    "X = df.loc[:,df.columns != target]\n",
    "y = df[target]"
   ]
  },
  {
   "cell_type": "code",
   "execution_count": 7,
   "metadata": {
    "collapsed": true
   },
   "outputs": [],
   "source": [
    "category_column = X.select_dtypes(include='object')"
   ]
  },
  {
   "cell_type": "code",
   "execution_count": 8,
   "metadata": {
    "collapsed": true
   },
   "outputs": [],
   "source": [
    "# X = pd.get_dummies(X)"
   ]
  },
  {
   "cell_type": "code",
   "execution_count": 9,
   "metadata": {
    "collapsed": true
   },
   "outputs": [],
   "source": [
    "from sklearn import preprocessing\n",
    "\n",
    "transform_dict = {}\n",
    "for col in category_column.columns:\n",
    "    le = preprocessing.LabelEncoder()\n",
    "    X[col] = le.fit_transform(X[col])\n",
    "    transform_dict[col] = dict(zip(le.classes_, le.transform(le.classes_)))\n",
    "    \n",
    "\n",
    "le = preprocessing.LabelEncoder()\n",
    "y = le.fit_transform(y)"
   ]
  },
  {
   "cell_type": "code",
   "execution_count": 10,
   "metadata": {
    "collapsed": true
   },
   "outputs": [],
   "source": [
    "from sklearn.preprocessing import StandardScaler\n",
    "\n",
    "feat_labels = X.columns[0:]\n",
    "scaler = StandardScaler()\n",
    "X = scaler.fit_transform(X)"
   ]
  },
  {
   "cell_type": "code",
   "execution_count": null,
   "metadata": {
    "collapsed": true
   },
   "outputs": [],
   "source": []
  },
  {
   "cell_type": "code",
   "execution_count": 11,
   "metadata": {
    "collapsed": true
   },
   "outputs": [],
   "source": [
    "# from sklearn.model_selection import GridSearchCV\n",
    "# from sklearn import linear_model\n",
    "# from sklearn.ensemble import RandomForestClassifier\n",
    "\n",
    "# # Create logistic regression\n",
    "# randomForest = RandomForestClassifier()\n",
    "\n",
    "# # Create range of candidate penalty hyperparameter values\n",
    "# n_estimators = [100, 500, 1000]\n",
    "# max_features = [3, 5, 8]\n",
    "\n",
    "# # Create dictionary hyperparameter candidates\n",
    "# hyperparameters = dict(n_estimators=n_estimators, max_features=max_features)\n",
    "\n",
    "# # Create grid search\n",
    "# gridsearch = GridSearchCV(randomForest, hyperparameters, cv=5, verbose=0 , n_jobs=-1)\n",
    "\n",
    "# # Fit grid search\n",
    "# best_model = gridsearch.fit(X, y)"
   ]
  },
  {
   "cell_type": "code",
   "execution_count": 12,
   "metadata": {
    "collapsed": true
   },
   "outputs": [],
   "source": [
    "# # View best hyperparameters\n",
    "# print('Best n_estimators:', best_model.best_estimator_.get_params()['n_estimators'])\n",
    "# print('Best max_features:', best_model.best_estimator_.get_params()['max_features'])"
   ]
  },
  {
   "cell_type": "code",
   "execution_count": 13,
   "metadata": {
    "collapsed": true
   },
   "outputs": [],
   "source": [
    "from sklearn.model_selection import train_test_split\n",
    "\n",
    "# split data and labels into a training and a test set\n",
    "X_train, X_test, y_train, y_test = train_test_split(X, y,\n",
    "                     test_size=0.2,\n",
    "                     random_state=0,\n",
    "                     stratify=y)"
   ]
  },
  {
   "cell_type": "code",
   "execution_count": 14,
   "metadata": {},
   "outputs": [
    {
     "name": "stdout",
     "output_type": "stream",
     "text": [
      "Test Accuracy: 0.760\n"
     ]
    }
   ],
   "source": [
    "from sklearn.ensemble import RandomForestClassifier\n",
    "\n",
    "randomForest = RandomForestClassifier(n_estimators=500, n_jobs=-1)\n",
    "randomForest.fit(X_train, y_train)\n",
    "rf_label = randomForest.predict(X_test)\n",
    "print('Test Accuracy: %.3f' % randomForest.score(X_test, y_test))"
   ]
  },
  {
   "cell_type": "code",
   "execution_count": 15,
   "metadata": {},
   "outputs": [
    {
     "name": "stderr",
     "output_type": "stream",
     "text": [
      "/Users/mluo/anaconda3/lib/python3.6/site-packages/sklearn/cross_validation.py:41: DeprecationWarning: This module was deprecated in version 0.18 in favor of the model_selection module into which all the refactored classes and functions are moved. Also note that the interface of the new CV iterators are different from that of this module. This module will be removed in 0.20.\n",
      "  \"This module will be removed in 0.20.\", DeprecationWarning)\n"
     ]
    },
    {
     "name": "stdout",
     "output_type": "stream",
     "text": [
      "Random forest cross_validation: 0.75\n",
      "Random forest\n",
      "             precision    recall  f1-score   support\n",
      "\n",
      "          0       0.73      0.83      0.78      5056\n",
      "          1       0.80      0.69      0.74      5055\n",
      "\n",
      "avg / total       0.77      0.76      0.76     10111\n",
      "\n"
     ]
    }
   ],
   "source": [
    "from sklearn.model_selection import cross_val_score\n",
    "from sklearn.metrics import classification_report\n",
    "from sklearn.metrics import roc_auc_score\n",
    "from sklearn import cross_validation\n",
    "\n",
    "scores = cross_validation.cross_val_score(randomForest, X_train, y_train, cv=3)\n",
    "print(\"Random forest cross_validation: {:.2f}\".format(np.mean(scores, axis=0)))\n",
    "\n",
    "print(\"Random forest\")\n",
    "print(classification_report(y_test, rf_label))"
   ]
  },
  {
   "cell_type": "code",
   "execution_count": null,
   "metadata": {},
   "outputs": [
    {
     "name": "stdout",
     "output_type": "stream",
     "text": [
      "0.991408298869\n"
     ]
    }
   ],
   "source": [
    "prob_y_2 = randomForest.predict_proba(X)\n",
    "prob_y_2 = [p[1] for p in prob_y_2]\n",
    "print( roc_auc_score(y, prob_y_2) )"
   ]
  },
  {
   "cell_type": "code",
   "execution_count": null,
   "metadata": {},
   "outputs": [
    {
     "name": "stdout",
     "output_type": "stream",
     "text": [
      "[learning_curve] Training set sizes: [ 3639  7279 10919 14558 18198 21838 25477 29117 32757 36397]\n",
      "[CV]  ................................................................\n",
      "[CV]  ................................................................\n",
      "[CV]  ................................................................\n",
      "[CV]  ................................................................\n",
      "[CV]  ................................................................\n",
      "[CV]  ................................................................\n",
      "[CV]  ................................................................\n",
      "[CV]  ................................................................\n",
      "[CV] ....................... , score=0.7068709836875927, total=   4.2s\n",
      "[CV]  ................................................................\n",
      "[CV] ....................... , score=0.7286208601087494, total=   6.4s\n",
      "[CV]  ................................................................\n",
      "[CV] ....................... , score=0.7355412753336629, total=   9.2s\n",
      "[CV]  ................................................................\n",
      "[CV] ....................... , score=0.7412259021255561, total=  12.2s\n",
      "[CV]  ................................................................\n",
      "[CV] ........................ , score=0.740731586752348, total=  15.5s\n",
      "[CV]  ................................................................\n",
      "[CV] ........................ , score=0.750370736529906, total=  18.5s\n",
      "[CV]  ................................................................\n",
      "[CV] ....................... , score=0.7122373300370828, total=  11.0s\n",
      "[CV]  ................................................................\n",
      "[CV] ....................... , score=0.7530894710825506, total=  21.7s\n",
      "[CV]  ................................................................\n",
      "[CV] ....................... , score=0.7582797825012358, total=  23.7s\n",
      "[CV] ....................... , score=0.7233621755253399, total=  12.3s\n",
      "[CV]  ................................................................\n",
      "[CV]  ................................................................\n",
      "[CV] ....................... , score=0.7233621755253399, total=  13.2s\n",
      "[CV]  ................................................................\n",
      "[CV] ....................... , score=0.7339925834363412, total=  16.1s\n",
      "[CV]  ................................................................\n",
      "[CV] ....................... , score=0.7676717745921898, total=  32.2s\n",
      "[CV]  ................................................................\n",
      "[CV] ....................... , score=0.7357231149567367, total=  19.9s\n",
      "[CV]  ................................................................\n",
      "[CV] ....................... , score=0.7575383094414236, total=  36.5s\n",
      "[CV]  ................................................................\n",
      "[CV] ....................... , score=0.7396786155747836, total=  23.5s\n",
      "[CV]  ................................................................\n",
      "[CV] ....................... , score=0.7198318496538081, total=  10.5s\n",
      "[CV]  ................................................................\n",
      "[CV] ....................... , score=0.7414091470951792, total=  26.4s\n",
      "[CV]  ................................................................\n",
      "[CV] ....................... , score=0.7237883283877349, total=  11.7s\n",
      "[CV]  ................................................................\n",
      "[CV] ....................... , score=0.7473423980222497, total=  29.1s\n",
      "[CV]  ................................................................\n",
      "[CV] ....................... , score=0.7321958456973294, total=  14.1s\n",
      "[CV]  ................................................................\n",
      "[CV] ....................... , score=0.7366468842729971, total=  17.4s\n",
      "[CV]  ................................................................\n",
      "[CV] ....................... , score=0.7411619283065513, total=  33.4s\n"
     ]
    },
    {
     "name": "stderr",
     "output_type": "stream",
     "text": [
      "[Parallel(n_jobs=-1)]: Done  23 out of 100 | elapsed:  1.2min remaining:  3.9min\n"
     ]
    },
    {
     "name": "stdout",
     "output_type": "stream",
     "text": [
      "[CV]  ................................................................\n",
      "[CV] ....................... , score=0.7378832838773491, total=  20.6s\n",
      "[CV]  ................................................................\n",
      "[CV] ....................... , score=0.7495673671199011, total=  36.2s\n",
      "[CV]  ................................................................\n",
      "[CV] ....................... , score=0.7116716122650841, total=  11.3s\n",
      "[CV]  ................................................................\n",
      "[CV] ....................... , score=0.7403560830860534, total=  24.7s\n",
      "[CV]  ................................................................\n",
      "[CV] ....................... , score=0.7487636003956478, total=  27.3s\n",
      "[CV]  ................................................................\n",
      "[CV] ....................... , score=0.7260138476755688, total=  12.1s\n",
      "[CV]  ................................................................\n",
      "[CV] ....................... , score=0.7507418397626113, total=  29.5s\n",
      "[CV]  ................................................................\n",
      "[CV] ....................... , score=0.7292284866468842, total=  14.0s\n",
      "[CV]  ................................................................\n",
      "[CV] ....................... , score=0.7368941641938674, total=  16.8s\n",
      "[CV]  ................................................................\n",
      "[CV] ....................... , score=0.7559347181008902, total=  32.9s\n",
      "[CV]  ................................................................\n",
      "[CV] ........................ , score=0.743570722057369, total=  20.3s\n",
      "[CV]  ................................................................\n",
      "[CV] ....................... , score=0.7613748763600395, total=  35.4s\n",
      "[CV]  ................................................................\n",
      "[CV] ....................... , score=0.7460435212660732, total=  23.7s\n",
      "[CV] ........................ , score=0.712166172106825, total=  10.6s\n",
      "[CV]  ................................................................\n",
      "[CV]  ................................................................\n",
      "[CV] ....................... , score=0.7183481701285855, total=  11.7s\n",
      "[CV]  ................................................................\n",
      "[CV] ....................... , score=0.7487636003956478, total=  26.0s\n",
      "[CV]  ................................................................\n",
      "[CV] ....................... , score=0.7497527200791295, total=  28.4s\n",
      "[CV]  ................................................................\n",
      "[CV] ....................... , score=0.7287339268051434, total=  14.8s\n",
      "[CV]  ................................................................\n",
      "[CV] ....................... , score=0.7215628090999011, total=  23.0s\n",
      "[CV]  ................................................................\n",
      "[CV] ....................... , score=0.7579129574678536, total=  39.5s\n",
      "[CV]  ................................................................\n",
      "[CV] ....................... , score=0.7289812067260139, total=  27.3s\n",
      "[CV] ....................... , score=0.7049950544015826, total=  12.7s\n",
      "[CV]  ................................................................\n",
      "[CV]  ................................................................\n",
      "[CV] ....................... , score=0.7329376854599406, total=  30.8s\n",
      "[CV]  ................................................................\n",
      "[CV] ....................... , score=0.7166172106824926, total=  14.6s\n",
      "[CV]  ................................................................\n",
      "[CV] ....................... , score=0.7195845697329377, total=  17.9s\n",
      "[CV]  ................................................................\n",
      "[CV] ....................... , score=0.7351632047477745, total=  33.5s\n",
      "[CV]  ................................................................\n",
      "[CV] ....................... , score=0.7314540059347181, total=  21.6s\n",
      "[CV]  ................................................................\n",
      "[CV] ....................... , score=0.7346686449060337, total=  38.7s\n",
      "[CV]  ................................................................\n",
      "[CV] ....................... , score=0.7334322453016815, total=  25.7s\n",
      "[CV]  ................................................................\n",
      "[CV] ........................ , score=0.740108803165183, total=  42.7s\n",
      "[CV]  ................................................................\n",
      "[CV] ....................... , score=0.7346686449060337, total=  29.3s\n",
      "[CV]  ................................................................\n",
      "[CV] ....................... , score=0.7205736894164194, total=  13.2s\n",
      "[CV]  ................................................................\n",
      "[CV] ....................... , score=0.7445598417408507, total=  33.6s\n",
      "[CV]  ................................................................\n",
      "[CV] ....................... , score=0.7279920870425322, total=  15.6s\n",
      "[CV]  ................................................................\n",
      "[CV] ....................... , score=0.7381305637982196, total=  18.8s\n",
      "[CV]  ................................................................\n",
      "[CV] ....................... , score=0.7509891196834817, total=  36.3s\n",
      "[CV]  ................................................................\n",
      "[CV] ....................... , score=0.7388724035608308, total=  22.5s\n",
      "[CV]  ................................................................\n",
      "[CV] ....................... , score=0.7524727992087042, total=  40.8s\n",
      "[CV]  ................................................................\n",
      "[CV] ....................... , score=0.7430761622156281, total=  25.6s\n",
      "[CV]  ................................................................\n",
      "[CV] ....................... , score=0.7569238377843719, total=  43.4s\n"
     ]
    },
    {
     "name": "stderr",
     "output_type": "stream",
     "text": [
      "[Parallel(n_jobs=-1)]: Done  75 out of 100 | elapsed:  4.2min remaining:  1.4min\n"
     ]
    },
    {
     "name": "stdout",
     "output_type": "stream",
     "text": [
      "[CV]  ................................................................\n",
      "[CV] ....................... , score=0.7542037586547973, total=  28.0s\n",
      "[CV]  ................................................................\n",
      "[CV] ....................... , score=0.7072205736894164, total=  11.3s\n",
      "[CV]  ................................................................\n",
      "[CV] ....................... , score=0.7561819980217607, total=  31.2s\n",
      "[CV]  ................................................................\n",
      "[CV] ....................... , score=0.7205736894164194, total=  13.3s\n",
      "[CV]  ................................................................\n",
      "[CV] ....................... , score=0.7240356083086054, total=  16.3s\n",
      "[CV]  ................................................................\n",
      "[CV] ....................... , score=0.7603857566765578, total=  30.9s\n",
      "[CV]  ................................................................\n",
      "[CV] ....................... , score=0.7289812067260139, total=  19.8s\n",
      "[CV]  ................................................................\n",
      "[CV] ....................... , score=0.7690405539070228, total=  35.7s\n",
      "[CV]  ................................................................\n",
      "[CV] ....................... , score=0.7415924826904056, total=  22.6s\n",
      "[CV]  ................................................................\n",
      "[CV] ....................... , score=0.7682987141444114, total=  38.5s\n",
      "[CV]  ................................................................\n",
      "[CV] ....................... , score=0.7472799208704253, total=  26.2s\n",
      "[CV]  ................................................................\n",
      "[CV] ........................ , score=0.701780415430267, total=  11.8s\n",
      "[CV]  ................................................................\n",
      "[CV] ....................... , score=0.7433234421364985, total=  29.5s\n",
      "[CV]  ................................................................\n",
      "[CV] ....................... , score=0.7124134520276953, total=  14.1s\n",
      "[CV]  ................................................................\n",
      "[CV] ....................... , score=0.7215628090999011, total=  17.2s\n",
      "[CV]  ................................................................\n",
      "[CV] ....................... , score=0.7490108803165183, total=  32.7s\n",
      "[CV]  ................................................................\n",
      "[CV] ....................... , score=0.7242828882294757, total=  21.2s\n",
      "[CV]  ................................................................\n",
      "[CV] ....................... , score=0.7556874381800198, total=  36.8s\n",
      "[CV] ....................... , score=0.7326904055390703, total=  24.4s\n",
      "[CV] ....................... , score=0.7584075173095944, total=  40.0s\n",
      "[CV] ....................... , score=0.7415924826904056, total=  27.2s\n",
      "[CV] ....................... , score=0.7455489614243324, total=  29.2s\n",
      "[CV] ....................... , score=0.7532146389713156, total=  27.2s\n",
      "[CV] ....................... , score=0.7546983184965381, total=  26.4s\n",
      "[CV] ....................... , score=0.7596439169139466, total=  25.3s\n"
     ]
    },
    {
     "name": "stderr",
     "output_type": "stream",
     "text": [
      "[Parallel(n_jobs=-1)]: Done 100 out of 100 | elapsed:  5.7min finished\n"
     ]
    }
   ],
   "source": [
    "from sklearn.model_selection import learning_curve\n",
    "\n",
    "train_sizes, train_scores, test_scores = learning_curve(estimator=randomForest,\n",
    "                                                        X=X_train,y=y_train,train_sizes=np.linspace(0.1, 1.0, 10),\n",
    "                                                        cv=10,n_jobs=-1,verbose=4)\n",
    "train_mean = np.mean(train_scores,axis=1)\n",
    "train_std = np.std(train_scores, axis=1)      \n",
    "test_mean = np.mean(test_scores, axis=1)\n",
    "test_std = np.std(test_scores, axis=1)\n",
    "\n"
   ]
  },
  {
   "cell_type": "code",
   "execution_count": null,
   "metadata": {},
   "outputs": [
    {
     "name": "stdout",
     "output_type": "stream",
     "text": [
      "train_mean [ 0.99994504  0.99975271  0.99983515  0.99987636  0.99985713  0.99982599\n",
      "  0.99975272  0.99969777  0.99967946  0.99959337]\n",
      "train_std [  1.64880462e-04   8.24289051e-05   5.49500870e-05   4.12144525e-05\n",
      "   4.39608748e-05   4.48665582e-05   5.83509391e-05   4.80818766e-05\n",
      "   4.96957004e-05   4.88402584e-05]\n",
      "train_mean [ 0.99994504  0.99975271  0.99983515  0.99987636  0.99985713  0.99982599\n",
      "  0.99975272  0.99969777  0.99967946  0.99959337]\n",
      "test_std [ 0.00594182  0.0062424   0.00847813  0.00632889  0.00626115  0.0070514\n",
      "  0.00626507  0.00667891  0.00989599  0.00709079]\n"
     ]
    },
    {
     "data": {
      "image/png": "[encoded data removed]",
      "text/plain": [
       "<matplotlib.figure.Figure at 0x10f4ded30>"
      ]
     },
     "metadata": {},
     "output_type": "display_data"
    }
   ],
   "source": [
    "print(\"train_mean\",train_mean)\n",
    "print(\"train_std\",train_std)\n",
    "print(\"train_mean\",train_mean)\n",
    "print(\"test_std\",test_std)\n",
    "\n",
    "\n",
    "plt.plot(train_sizes, train_mean,color='blue', marker='o',markersize=5,label='training accuracy')\n",
    "plt.fill_between(train_sizes,train_mean + train_std,train_mean - train_std,alpha=0.15, color='blue')\n",
    "plt.plot(train_sizes, test_mean,color='green', linestyle='--',marker='s', markersize=5,label='validation accuracy')\n",
    "plt.fill_between(train_sizes,test_mean + test_std,test_mean - test_std,alpha=0.15, color='green')\n",
    "plt.grid()\n",
    "plt.xlabel('Number of training samples')\n",
    "plt.ylabel('Accuracy')               \n",
    "plt.legend(loc='lower right')\n",
    "plt.ylim([0.6, 1.0])\n",
    "plt.show()"
   ]
  },
  {
   "cell_type": "code",
   "execution_count": null,
   "metadata": {
    "collapsed": true
   },
   "outputs": [],
   "source": [
    "# # feat_labels = X.columns[0:]\n",
    "# importances = randomForest.feature_importances_\n",
    "\n",
    "# # reverse the list\n",
    "# indices = np.argsort(importances)[::-1]\n",
    "\n",
    "# for f in range(X_train.shape[1]):\n",
    "#     print(\"%2d) %-*s %f\" % (f + 1, 30,feat_labels[indices[f]],importances[indices[f]]))"
   ]
  },
  {
   "cell_type": "code",
   "execution_count": null,
   "metadata": {},
   "outputs": [],
   "source": [
    "from sklearn.metrics import roc_curve\n",
    "from sklearn.model_selection import cross_val_predict\n",
    "\n",
    "y_scores = cross_val_predict(randomForest, X_train, y_train, cv=3,\n",
    "                            n_jobs=-1)\n",
    "fpr, tpr, thresholds = roc_curve(X_train, y_scores)"
   ]
  },
  {
   "cell_type": "code",
   "execution_count": null,
   "metadata": {
    "collapsed": true
   },
   "outputs": [],
   "source": [
    "def plot_roc_curve(fpr, tpr, label=None):\n",
    "    plt.plot(fpr, tpr, linewidth=2, label=label)\n",
    "    plt.plot([0, 1], [0, 1], 'k--')\n",
    "    plt.axis([0, 1, 0, 1])\n",
    "    plt.xlabel('False Positive Rate', fontsize=16)\n",
    "    plt.ylabel('True Positive Rate', fontsize=16)\n",
    "\n",
    "plt.figure(figsize=(8, 6))\n",
    "plot_roc_curve(fpr, tpr)\n",
    "save_fig(\"roc_curve_plot\")\n",
    "plt.show()"
   ]
  },
  {
   "cell_type": "code",
   "execution_count": null,
   "metadata": {
    "collapsed": true
   },
   "outputs": [],
   "source": [
    "from sklearn.externals import joblib\n",
    "encoder = joblib.load('app/models/encoder.pkl')"
   ]
  },
  {
   "cell_type": "code",
   "execution_count": null,
   "metadata": {
    "collapsed": true
   },
   "outputs": [],
   "source": [
    "import json\n",
    "my_json_string = json.dumps({\n",
    "#     'marketing_code':'P0001',\n",
    "    \"classification\": \"Direct\",\n",
    "    \"enquired\":\"29/1/15 12:10\",\n",
    "    \"loan amount\": \"1184000\",\n",
    "    \"property_use\": \"Residence\",\n",
    "    \"loan_reason\": \"Refinance\"\n",
    "})"
   ]
  },
  {
   "cell_type": "code",
   "execution_count": null,
   "metadata": {
    "collapsed": true
   },
   "outputs": [],
   "source": [
    "data = json.loads(my_json_string)\n",
    "data = pd.DataFrame(data,index=[0])"
   ]
  },
  {
   "cell_type": "code",
   "execution_count": null,
   "metadata": {
    "collapsed": true
   },
   "outputs": [],
   "source": [
    "def transform_cols(df):\n",
    "    df.columns = map(str.lower, df.columns)\n",
    "    df.columns = df.columns.str.replace('_', ' ')\n",
    "    return df"
   ]
  },
  {
   "cell_type": "code",
   "execution_count": null,
   "metadata": {
    "collapsed": true
   },
   "outputs": [],
   "source": [
    "transform_cols(data)"
   ]
  },
  {
   "cell_type": "code",
   "execution_count": null,
   "metadata": {
    "collapsed": true
   },
   "outputs": [],
   "source": [
    "data.dtypes"
   ]
  },
  {
   "cell_type": "code",
   "execution_count": null,
   "metadata": {
    "collapsed": true
   },
   "outputs": [],
   "source": [
    "def transform(df): \n",
    "    if 'loan amount' in df.columns: \n",
    "        df['loan amount'] = df['loan amount'].astype('float')\n",
    "        \n",
    "    if 'enquired' in df.columns: \n",
    "        df['enquired'] = pd.DatetimeIndex(df['enquired'])\n",
    "        df['month'] = df['enquired'].dt.month\n",
    "        df['day'] = df['enquired'].dt.day\n",
    "        df['hour'] = df['enquired'].dt.hour\n",
    "        df['weekday'] = df['enquired'].dt.dayofweek\n",
    "    \n",
    "    if 'post code' in df.columns: \n",
    "        df['post code'] = df['post code'].astype('int')\n",
    "    \n",
    "    if 'enquired'in df.columns:\n",
    "        df.drop(['enquired'], axis = 1, inplace = True)\n",
    "\n",
    "    return df.replace(encoder)"
   ]
  },
  {
   "cell_type": "code",
   "execution_count": null,
   "metadata": {
    "collapsed": true
   },
   "outputs": [],
   "source": [
    "data = transform(data)\n",
    "data.dtypes"
   ]
  },
  {
   "cell_type": "code",
   "execution_count": null,
   "metadata": {
    "collapsed": true
   },
   "outputs": [],
   "source": [
    "# data = pd.get_dummies(data)"
   ]
  },
  {
   "cell_type": "code",
   "execution_count": null,
   "metadata": {
    "collapsed": true
   },
   "outputs": [],
   "source": [
    "randomForest.predict(data)"
   ]
  },
  {
   "cell_type": "code",
   "execution_count": null,
   "metadata": {
    "collapsed": true
   },
   "outputs": [],
   "source": [
    "print(\"posibility is: {}\".format(np.max(randomForest.predict_proba(data))))"
   ]
  },
  {
   "cell_type": "code",
   "execution_count": null,
   "metadata": {
    "collapsed": true
   },
   "outputs": [],
   "source": [
    "df = pd.read_csv(\"2007-2017_origin.csv\")"
   ]
  },
  {
   "cell_type": "code",
   "execution_count": null,
   "metadata": {
    "collapsed": true
   },
   "outputs": [],
   "source": [
    "df['classification'].value_counts()"
   ]
  },
  {
   "cell_type": "code",
   "execution_count": null,
   "metadata": {
    "collapsed": true
   },
   "outputs": [],
   "source": [
    "test = df[df['enquiry status'] == 'Accepted']\n",
    "# test = test[test['classification'] == 'Domain']\n",
    "test = test.loc[:,test.columns != 'enquiry status']"
   ]
  },
  {
   "cell_type": "code",
   "execution_count": null,
   "metadata": {
    "collapsed": true
   },
   "outputs": [],
   "source": [
    "test = transform(test)"
   ]
  },
  {
   "cell_type": "code",
   "execution_count": null,
   "metadata": {
    "collapsed": true
   },
   "outputs": [],
   "source": [
    "# test"
   ]
  },
  {
   "cell_type": "code",
   "execution_count": null,
   "metadata": {
    "collapsed": true
   },
   "outputs": [],
   "source": [
    "prediction = randomForest.predict(test)"
   ]
  },
  {
   "cell_type": "code",
   "execution_count": null,
   "metadata": {
    "collapsed": true
   },
   "outputs": [],
   "source": [
    "proba = []\n",
    "result = randomForest.predict_proba(test)\n",
    "for row in range(len(result)):\n",
    "    proba.append(np.max(result[row]))"
   ]
  },
  {
   "cell_type": "code",
   "execution_count": null,
   "metadata": {
    "collapsed": true
   },
   "outputs": [],
   "source": [
    "test[\"prediction\"] = prediction\n",
    "test[\"proba\"] = proba"
   ]
  },
  {
   "cell_type": "code",
   "execution_count": null,
   "metadata": {
    "collapsed": true
   },
   "outputs": [],
   "source": [
    "test.sort_values(by=['proba'],ascending=False)"
   ]
  },
  {
   "cell_type": "code",
   "execution_count": null,
   "metadata": {
    "collapsed": true
   },
   "outputs": [],
   "source": [
    "test[test['proba'] < 0.56].count()"
   ]
  },
  {
   "cell_type": "code",
   "execution_count": null,
   "metadata": {
    "collapsed": true
   },
   "outputs": [],
   "source": [
    "test[test[\"prediction\"] == 1].count()"
   ]
  },
  {
   "cell_type": "code",
   "execution_count": null,
   "metadata": {
    "collapsed": true
   },
   "outputs": [],
   "source": [
    "test[test[\"prediction\"] == 0].count()"
   ]
  },
  {
   "cell_type": "code",
   "execution_count": null,
   "metadata": {
    "collapsed": true
   },
   "outputs": [],
   "source": [
    "X_train.shape"
   ]
  },
  {
   "cell_type": "code",
   "execution_count": null,
   "metadata": {
    "collapsed": true
   },
   "outputs": [],
   "source": []
  }
 ],
 "metadata": {
  "kernelspec": {
   "display_name": "Python 3",
   "language": "python",
   "name": "python3"
  },
  "language_info": {
   "codemirror_mode": {
    "name": "ipython",
    "version": 3
   },
   "file_extension": ".py",
   "mimetype": "text/x-python",
   "name": "python",
   "nbconvert_exporter": "python",
   "pygments_lexer": "ipython3",
   "version": "3.6.3"
  }
 },
 "nbformat": 4,
 "nbformat_minor": 2
}
