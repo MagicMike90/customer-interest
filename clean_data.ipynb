{
 "cells": [
  {
   "cell_type": "code",
   "execution_count": 1,
   "metadata": {
    "collapsed": true
   },
   "outputs": [],
   "source": [
    "# %matplotlib inline\n",
    "import numpy as np\n",
    "import matplotlib.pyplot as plt\n",
    "import matplotlib as mpl\n",
    "import pandas as pd\n",
    "import glob\n",
    "import warnings\n",
    "from IPython.display import display\n",
    "\n",
    "warnings.filterwarnings('ignore')\n",
    "mpl.rcParams['savefig.dpi'] = 128\n",
    "mpl.rcParams['figure.dpi'] = 128\n",
    "# Plot size to 14\" x 7\"\n",
    "mpl.rc('figure', figsize = (14, 7))\n",
    "# Font size to 14\n",
    "mpl.rc('font', size = 14)\n",
    "# Do not display top and right frame lines\n",
    "mpl.rc('axes.spines', top = False, right = False)\n",
    "# Remove grid lines\n",
    "mpl.rc('axes', grid = False)\n",
    "# Set backgound color to white\n",
    "mpl.rc('axes', facecolor = 'white')"
   ]
  },
  {
   "cell_type": "code",
   "execution_count": 2,
   "metadata": {},
   "outputs": [
    {
     "data": {
      "text/plain": [
       "(387804, 49)"
      ]
     },
     "execution_count": 2,
     "metadata": {},
     "output_type": "execute_result"
    }
   ],
   "source": [
    "# read whole year data\n",
    "allFiles = glob.glob(\"data/*/*.csv\")\n",
    "df = pd.DataFrame()\n",
    "list_ = []\n",
    "for file_ in allFiles:\n",
    "    df = pd.read_csv(file_,index_col=None, header=0,encoding=\"utf-8\")\n",
    "    list_.append(df)\n",
    "df = pd.concat(list_)\n",
    "\n",
    "df.shape"
   ]
  },
  {
   "cell_type": "code",
   "execution_count": 3,
   "metadata": {},
   "outputs": [
    {
     "data": {
      "text/plain": [
       "(349403, 49)"
      ]
     },
     "execution_count": 3,
     "metadata": {},
     "output_type": "execute_result"
    }
   ],
   "source": [
    "df.drop_duplicates(inplace=True)\n",
    "df.shape"
   ]
  },
  {
   "cell_type": "code",
   "execution_count": 4,
   "metadata": {
    "collapsed": true
   },
   "outputs": [],
   "source": [
    "def transform_cols(df):\n",
    "    df.columns = map(str.lower, df.columns)\n",
    "    df.columns = df.columns.str.replace('_', ' ')\n",
    "    return df"
   ]
  },
  {
   "cell_type": "code",
   "execution_count": 5,
   "metadata": {
    "collapsed": true
   },
   "outputs": [],
   "source": [
    "df = transform_cols(df)"
   ]
  },
  {
   "cell_type": "code",
   "execution_count": null,
   "metadata": {
    "collapsed": true
   },
   "outputs": [],
   "source": []
  },
  {
   "cell_type": "code",
   "execution_count": 6,
   "metadata": {
    "collapsed": true
   },
   "outputs": [],
   "source": [
    "selected_features = ['classification','enquired',\n",
    "                     'loan amount','loan reason','property use']\n",
    "# selected_features = ['marketing code','enquired',\n",
    "#                      'loan amount','loan reason','property use']\n",
    "# selected_features = ['classification','enquired']\n",
    "# selected_features = ['marketing code','classification','enquired',\n",
    "#                      'loan amount','loan reason','property use']\n",
    "\n",
    "target = 'enquiry status';\n",
    "whole_set = selected_features + [target]\n",
    "\n",
    "df = df[whole_set]"
   ]
  },
  {
   "cell_type": "code",
   "execution_count": 7,
   "metadata": {},
   "outputs": [
    {
     "data": {
      "text/plain": [
       "(344804, 6)"
      ]
     },
     "execution_count": 7,
     "metadata": {},
     "output_type": "execute_result"
    }
   ],
   "source": [
    "df = df[~df[target].isin(['In Progress','Just Received','On Hold'])]\n",
    "df.shape"
   ]
  },
  {
   "cell_type": "code",
   "execution_count": null,
   "metadata": {
    "collapsed": true
   },
   "outputs": [],
   "source": []
  },
  {
   "cell_type": "code",
   "execution_count": 8,
   "metadata": {
    "collapsed": true
   },
   "outputs": [],
   "source": [
    "def clearnLoanAmount(df): \n",
    "    invalid_columns= ['500001-$1000000',\n",
    "                  '300001-$500000',\n",
    "                  '0-$300000',\n",
    "                  '250000 - 300000',\n",
    "                  '250000-350000',\n",
    "                  '2600 monthly',\n",
    "                  'not_sure',\n",
    "                  '1000,001+',\n",
    "                 '9999-',\n",
    "                  'I50000',\n",
    "                  '1.5 M',\n",
    "                  '1000001+',\n",
    "                  '9999-',\n",
    "                  '80-90k']\n",
    "    if 'loan amount' in df.columns: \n",
    "        df['loan amount'].fillna(0,inplace=True)\n",
    "        # convert to string to do replacement\n",
    "        df['loan amount'] = df['loan amount'].astype(\"str\")\n",
    "        df['loan amount'] = df['loan amount'].str.replace(\",\",\"\")\n",
    "        df = df[~df['loan amount'].isin(invalid_columns)]\n",
    "    return df"
   ]
  },
  {
   "cell_type": "code",
   "execution_count": 9,
   "metadata": {
    "collapsed": true
   },
   "outputs": [],
   "source": [
    "df = clearnLoanAmount(df)"
   ]
  },
  {
   "cell_type": "code",
   "execution_count": 10,
   "metadata": {},
   "outputs": [
    {
     "data": {
      "text/plain": [
       "(344042, 6)"
      ]
     },
     "execution_count": 10,
     "metadata": {},
     "output_type": "execute_result"
    }
   ],
   "source": [
    "df.shape"
   ]
  },
  {
   "cell_type": "code",
   "execution_count": 11,
   "metadata": {
    "collapsed": true
   },
   "outputs": [],
   "source": [
    "df['loan reason'].fillna('Other Loan Reason',inplace=True)"
   ]
  },
  {
   "cell_type": "code",
   "execution_count": 12,
   "metadata": {},
   "outputs": [
    {
     "data": {
      "text/plain": [
       "First HomeBuyer                                           155485\n",
       "Buying Again                                              102536\n",
       "Refinance                                                  38610\n",
       "Other Loan Reason                                          23646\n",
       "Buying Again,Refinance                                     12986\n",
       "Refinance With Cash Out                                     7487\n",
       "Buying Again,Refinance With Cash Out                         779\n",
       "Refinance,Refinance With Cash Out                            741\n",
       "First HomeBuyer,Buying Again                                 570\n",
       "First HomeBuyer,Refinance                                    565\n",
       "Loan Topup                                                   320\n",
       "Buying Again,Refinance,Refinance With Cash Out                64\n",
       "Refinance,Loan Topup                                          60\n",
       "Buying Again,Other Loan Reason                                40\n",
       "First HomeBuyer,Refinance With Cash Out                       35\n",
       "Refinance,Other Loan Reason                                   35\n",
       "First HomeBuyer,Buying Again,Refinance                        22\n",
       "Buying Again,Refinance,Other Loan Reason                      14\n",
       "Buying Again,Loan Topup                                       11\n",
       "First HomeBuyer,Other Loan Reason                             11\n",
       "First HomeBuyer,Buying Again,Refinance With Cash Out           6\n",
       "First HomeBuyer,Refinance,Refinance With Cash Out              6\n",
       "Refinance With Cash Out,Loan Topup                             4\n",
       "Buying Again,Refinance,Loan Topup                              3\n",
       "First HomeBuyer,Loan Topup                                     2\n",
       "Refinance With Cash Out,Other Loan Reason                      2\n",
       "Refinance,Refinance With Cash Out,Loan Topup                   1\n",
       "Buying Again,Refinance With Cash Out,Other Loan Reason         1\n",
       "Name: loan reason, dtype: int64"
      ]
     },
     "execution_count": 12,
     "metadata": {},
     "output_type": "execute_result"
    }
   ],
   "source": [
    "df['loan reason'].value_counts()"
   ]
  },
  {
   "cell_type": "code",
   "execution_count": 13,
   "metadata": {
    "collapsed": true
   },
   "outputs": [],
   "source": [
    "# df.loc[df['loan reason'].str.contains('First HomeBuyer'),'loan reason'] = 'First HomeBuyer'\n",
    "# df.loc[df['loan reason'].str.contains('Buying Again'),'loan reason'] = 'Buying Again'\n",
    "# df.loc[df['loan reason'].str.contains('Refinance'),'loan reason'] = 'Refinance'\n",
    "\n",
    "df['loan reason'] = df['loan reason'].apply(lambda x: 'First HomeBuyer' if 'First HomeBuyer' in x else x)\n",
    "df['loan reason'] = df['loan reason'].apply(lambda x: 'Buying Again' if 'Buying Again' in x else x)\n",
    "df['loan reason'] = df['loan reason'].apply(lambda x: 'Refinance' if 'Refinance' in x else x)"
   ]
  },
  {
   "cell_type": "code",
   "execution_count": 14,
   "metadata": {},
   "outputs": [
    {
     "data": {
      "text/plain": [
       "First HomeBuyer      156702\n",
       "Buying Again         116434\n",
       "Refinance             46940\n",
       "Other Loan Reason     23646\n",
       "Loan Topup              320\n",
       "Name: loan reason, dtype: int64"
      ]
     },
     "execution_count": 14,
     "metadata": {},
     "output_type": "execute_result"
    }
   ],
   "source": [
    "df['loan reason'].value_counts()"
   ]
  },
  {
   "cell_type": "code",
   "execution_count": 15,
   "metadata": {
    "collapsed": true
   },
   "outputs": [],
   "source": [
    "df['property use'].fillna('Other',inplace=True)"
   ]
  },
  {
   "cell_type": "code",
   "execution_count": 16,
   "metadata": {},
   "outputs": [
    {
     "data": {
      "text/plain": [
       "Residence                     240102\n",
       "Other                          59056\n",
       "Investment                     31916\n",
       "Residence,Investment           12581\n",
       "Residence,Other                  282\n",
       "Investment,Other                  65\n",
       "Residence,Investment,Other        40\n",
       "Name: property use, dtype: int64"
      ]
     },
     "execution_count": 16,
     "metadata": {},
     "output_type": "execute_result"
    }
   ],
   "source": [
    "df['property use'].value_counts()"
   ]
  },
  {
   "cell_type": "code",
   "execution_count": 17,
   "metadata": {
    "collapsed": true
   },
   "outputs": [],
   "source": [
    "df['property use'] = df['property use'].apply(lambda x: 'Residence' if 'Residence' in x else x)\n",
    "df['property use'] = df['property use'].apply(lambda x: 'Investment' if 'Investment' in x else x)"
   ]
  },
  {
   "cell_type": "code",
   "execution_count": 18,
   "metadata": {},
   "outputs": [
    {
     "data": {
      "text/plain": [
       "Residence     253005\n",
       "Other          59056\n",
       "Investment     31981\n",
       "Name: property use, dtype: int64"
      ]
     },
     "execution_count": 18,
     "metadata": {},
     "output_type": "execute_result"
    }
   ],
   "source": [
    "df['property use'].value_counts()"
   ]
  },
  {
   "cell_type": "code",
   "execution_count": null,
   "metadata": {
    "collapsed": true
   },
   "outputs": [],
   "source": []
  },
  {
   "cell_type": "code",
   "execution_count": 19,
   "metadata": {
    "collapsed": true
   },
   "outputs": [],
   "source": [
    "df['classification'].fillna('None',inplace=True)"
   ]
  },
  {
   "cell_type": "code",
   "execution_count": 20,
   "metadata": {},
   "outputs": [
    {
     "data": {
      "text/plain": [
       "None                           63710\n",
       "Domain                         47801\n",
       "Direct                         40712\n",
       "Google AdWords                 26868\n",
       "REA                            24888\n",
       "Coregistration                 21864\n",
       "Alternative Media              19131\n",
       "Affiliate                      17365\n",
       "Omnilead                       12845\n",
       "Phone                           9146\n",
       "Home Sales                      8089\n",
       "All Homes                       7678\n",
       "Partners                        6380\n",
       "First Home Buyers               5516\n",
       "Domain Campaigns                5171\n",
       "Email eChoice Database          4357\n",
       "Finder                          3971\n",
       "Domain Internal CBA Program     3620\n",
       "Domain Campaigns CPA            1975\n",
       "Domain Competitions             1791\n",
       "External Email                  1275\n",
       "Folio                           1173\n",
       "Dynamic Home Loans              1093\n",
       "Retention                       1078\n",
       "Refinancing AdWords              893\n",
       "Portals                          787\n",
       "Portal Campaigns                 735\n",
       "Manila                           675\n",
       "Referrer                         639\n",
       "Social Media                     560\n",
       "Club FS                          473\n",
       "Home Hound                       403\n",
       "Money Manager                    213\n",
       "Refinancing Domain               212\n",
       "Refinancing Direct               194\n",
       "Domain Campaigns CPL             193\n",
       "Real Estate View                 162\n",
       "Domain Bonus Display             155\n",
       "Self Employed Loans AdWords       61\n",
       "Bloom                             60\n",
       "On The House                      52\n",
       "Remarketing                       39\n",
       "Sponsored News                    18\n",
       "SMSF Loans                        10\n",
       "Australian Chinese Daily           6\n",
       "Self Employed Loans Direct         4\n",
       "Domain Partners                    1\n",
       "Name: classification, dtype: int64"
      ]
     },
     "execution_count": 20,
     "metadata": {},
     "output_type": "execute_result"
    }
   ],
   "source": [
    "df['classification'].value_counts()"
   ]
  },
  {
   "cell_type": "code",
   "execution_count": 21,
   "metadata": {},
   "outputs": [
    {
     "name": "stdout",
     "output_type": "stream",
     "text": [
      "The number of null values in: classification == 0\n",
      "The number of null values in: enquired == 0\n",
      "The number of null values in: loan amount == 0\n",
      "The number of null values in: loan reason == 0\n",
      "The number of null values in: property use == 0\n",
      "The number of null values in: enquiry status == 0\n"
     ]
    }
   ],
   "source": [
    "for _ in df.columns:\n",
    "    print(\"The number of null values in: {} == {}\".format(_, df[_].isnull().sum()))"
   ]
  },
  {
   "cell_type": "code",
   "execution_count": 22,
   "metadata": {},
   "outputs": [
    {
     "data": {
      "text/plain": [
       "(344042, 6)"
      ]
     },
     "execution_count": 22,
     "metadata": {},
     "output_type": "execute_result"
    }
   ],
   "source": [
    "df.dropna(axis=0, how='any', inplace=True)\n",
    "df.shape"
   ]
  },
  {
   "cell_type": "code",
   "execution_count": 23,
   "metadata": {},
   "outputs": [
    {
     "data": {
      "text/html": [
       "<div>\n",
       "<style scoped>\n",
       "    .dataframe tbody tr th:only-of-type {\n",
       "        vertical-align: middle;\n",
       "    }\n",
       "\n",
       "    .dataframe tbody tr th {\n",
       "        vertical-align: top;\n",
       "    }\n",
       "\n",
       "    .dataframe thead th {\n",
       "        text-align: right;\n",
       "    }\n",
       "</style>\n",
       "<table border=\"1\" class=\"dataframe\">\n",
       "  <thead>\n",
       "    <tr style=\"text-align: right;\">\n",
       "      <th></th>\n",
       "      <th>classification</th>\n",
       "      <th>enquired</th>\n",
       "      <th>loan amount</th>\n",
       "      <th>loan reason</th>\n",
       "      <th>property use</th>\n",
       "      <th>enquiry status</th>\n",
       "    </tr>\n",
       "  </thead>\n",
       "  <tbody>\n",
       "    <tr>\n",
       "      <th>count</th>\n",
       "      <td>344042</td>\n",
       "      <td>344042</td>\n",
       "      <td>344042</td>\n",
       "      <td>344042</td>\n",
       "      <td>344042</td>\n",
       "      <td>344042</td>\n",
       "    </tr>\n",
       "    <tr>\n",
       "      <th>unique</th>\n",
       "      <td>47</td>\n",
       "      <td>298778</td>\n",
       "      <td>14774</td>\n",
       "      <td>5</td>\n",
       "      <td>3</td>\n",
       "      <td>3</td>\n",
       "    </tr>\n",
       "    <tr>\n",
       "      <th>top</th>\n",
       "      <td>None</td>\n",
       "      <td>25-Feb-2016 00:35:26</td>\n",
       "      <td>0.0</td>\n",
       "      <td>First HomeBuyer</td>\n",
       "      <td>Residence</td>\n",
       "      <td>Rejected</td>\n",
       "    </tr>\n",
       "    <tr>\n",
       "      <th>freq</th>\n",
       "      <td>63710</td>\n",
       "      <td>9</td>\n",
       "      <td>43068</td>\n",
       "      <td>156702</td>\n",
       "      <td>253005</td>\n",
       "      <td>257604</td>\n",
       "    </tr>\n",
       "  </tbody>\n",
       "</table>\n",
       "</div>"
      ],
      "text/plain": [
       "       classification              enquired loan amount      loan reason  \\\n",
       "count          344042                344042      344042           344042   \n",
       "unique             47                298778       14774                5   \n",
       "top              None  25-Feb-2016 00:35:26         0.0  First HomeBuyer   \n",
       "freq            63710                     9       43068           156702   \n",
       "\n",
       "       property use enquiry status  \n",
       "count        344042         344042  \n",
       "unique            3              3  \n",
       "top       Residence       Rejected  \n",
       "freq         253005         257604  "
      ]
     },
     "execution_count": 23,
     "metadata": {},
     "output_type": "execute_result"
    }
   ],
   "source": [
    "df.describe()"
   ]
  },
  {
   "cell_type": "code",
   "execution_count": 24,
   "metadata": {},
   "outputs": [
    {
     "name": "stdout",
     "output_type": "stream",
     "text": [
      "The number of null values in:classification == 0\n",
      "The number of null values in:enquired == 0\n",
      "The number of null values in:loan amount == 0\n",
      "The number of null values in:loan reason == 0\n",
      "The number of null values in:property use == 0\n",
      "The number of null values in:enquiry status == 0\n"
     ]
    }
   ],
   "source": [
    "for _ in df.columns:\n",
    "    print(\"The number of null values in:{} == {}\".format(_, df[_].isnull().sum()))"
   ]
  },
  {
   "cell_type": "code",
   "execution_count": 25,
   "metadata": {
    "collapsed": true
   },
   "outputs": [],
   "source": [
    "drop_values = ['QLD','victoria',\"270-1176\",\"VIC\",\"2575b\",\"6110r\",\"2150s\"]\n",
    "if 'post code' in df.columns: \n",
    "    df = df[~df['post code'].isin(drop_values)]"
   ]
  },
  {
   "cell_type": "code",
   "execution_count": 26,
   "metadata": {},
   "outputs": [],
   "source": [
    "df.to_csv(\"2007-2017_origin.csv\",index=False)"
   ]
  },
  {
   "cell_type": "code",
   "execution_count": 27,
   "metadata": {
    "collapsed": true
   },
   "outputs": [],
   "source": [
    "def transform(df): \n",
    "    if 'loan amount' in df.columns: \n",
    "        df['loan amount'] = df['loan amount'].astype('float')\n",
    "        \n",
    "    if 'enquired' in df.columns: \n",
    "        df['enquired'] = pd.DatetimeIndex(df['enquired'])\n",
    "        df['year'] = df['enquired'].dt.year\n",
    "        df['month'] = df['enquired'].dt.month\n",
    "        df['day'] = df['enquired'].dt.day\n",
    "        df['hour'] = df['enquired'].dt.hour\n",
    "        df['weekday'] = df['enquired'].dt.dayofweek\n",
    "    \n",
    "    if 'post code' in df.columns: \n",
    "        df['post code'] = df['post code'].astype('int')\n",
    "    \n",
    "    if 'enquired'in df.columns:\n",
    "        df.drop(['enquired'], axis = 1, inplace = True)\n",
    "        \n",
    "    \n",
    "    df.apply(lambda x: x.astype(str).str.lower())"
   ]
  },
  {
   "cell_type": "code",
   "execution_count": 28,
   "metadata": {
    "collapsed": true
   },
   "outputs": [],
   "source": [
    "transform(df)"
   ]
  },
  {
   "cell_type": "code",
   "execution_count": null,
   "metadata": {
    "collapsed": true
   },
   "outputs": [],
   "source": []
  },
  {
   "cell_type": "code",
   "execution_count": 43,
   "metadata": {
    "collapsed": true
   },
   "outputs": [
    {
     "data": {
      "text/html": [
       "<div>\n",
       "<style scoped>\n",
       "    .dataframe tbody tr th:only-of-type {\n",
       "        vertical-align: middle;\n",
       "    }\n",
       "\n",
       "    .dataframe tbody tr th {\n",
       "        vertical-align: top;\n",
       "    }\n",
       "\n",
       "    .dataframe thead th {\n",
       "        text-align: right;\n",
       "    }\n",
       "</style>\n",
       "<table border=\"1\" class=\"dataframe\">\n",
       "  <thead>\n",
       "    <tr style=\"text-align: right;\">\n",
       "      <th></th>\n",
       "      <th>classification</th>\n",
       "      <th>loan amount</th>\n",
       "      <th>loan reason</th>\n",
       "      <th>property use</th>\n",
       "      <th>enquiry status</th>\n",
       "      <th>year</th>\n",
       "      <th>month</th>\n",
       "      <th>day</th>\n",
       "      <th>hour</th>\n",
       "      <th>weekday</th>\n",
       "    </tr>\n",
       "  </thead>\n",
       "  <tbody>\n",
       "  </tbody>\n",
       "</table>\n",
       "</div>"
      ],
      "text/plain": [
       "Empty DataFrame\n",
       "Columns: [classification, loan amount, loan reason, property use, enquiry status, year, month, day, hour, weekday]\n",
       "Index: []"
      ]
     },
     "metadata": {},
     "output_type": "display_data"
    }
   ],
   "source": [
    "if 'year' in df.columns:\n",
    "    df = df[~(df['year'] < 2007)]\n",
    "    display(df[(df['year'] < 2007)])"
   ]
  },
  {
   "cell_type": "code",
   "execution_count": 30,
   "metadata": {
    "collapsed": true
   },
   "outputs": [],
   "source": [
    "df.reset_index(drop=True,inplace=True)"
   ]
  },
  {
   "cell_type": "code",
   "execution_count": null,
   "metadata": {
    "collapsed": true
   },
   "outputs": [],
   "source": []
  },
  {
   "cell_type": "code",
   "execution_count": 31,
   "metadata": {},
   "outputs": [
    {
     "data": {
      "text/plain": [
       "(257021, 10)"
      ]
     },
     "execution_count": 31,
     "metadata": {},
     "output_type": "execute_result"
    }
   ],
   "source": [
    "test = df[df['enquiry status'] == 'Rejected']\n",
    "test.shape"
   ]
  },
  {
   "cell_type": "code",
   "execution_count": 32,
   "metadata": {},
   "outputs": [
    {
     "data": {
      "text/plain": [
       "(84136, 10)"
      ]
     },
     "execution_count": 32,
     "metadata": {},
     "output_type": "execute_result"
    }
   ],
   "source": [
    "test = df[df['enquiry status'] == 'Accepted']\n",
    "test.shape"
   ]
  },
  {
   "cell_type": "code",
   "execution_count": 33,
   "metadata": {},
   "outputs": [
    {
     "data": {
      "text/plain": [
       "2008    13222\n",
       "2007    13118\n",
       "2009     7927\n",
       "2015     7610\n",
       "2010     7001\n",
       "2014     6841\n",
       "2016     6374\n",
       "2013     6358\n",
       "2011     6039\n",
       "2012     5194\n",
       "2017     4452\n",
       "Name: year, dtype: int64"
      ]
     },
     "execution_count": 33,
     "metadata": {},
     "output_type": "execute_result"
    }
   ],
   "source": [
    "test['year'].value_counts()"
   ]
  },
  {
   "cell_type": "code",
   "execution_count": 34,
   "metadata": {},
   "outputs": [
    {
     "data": {
      "text/plain": [
       "classification     object\n",
       "loan amount       float64\n",
       "loan reason        object\n",
       "property use       object\n",
       "enquiry status     object\n",
       "year                int64\n",
       "month               int64\n",
       "day                 int64\n",
       "hour                int64\n",
       "weekday             int64\n",
       "dtype: object"
      ]
     },
     "execution_count": 34,
     "metadata": {},
     "output_type": "execute_result"
    }
   ],
   "source": [
    "df.dtypes"
   ]
  },
  {
   "cell_type": "code",
   "execution_count": 35,
   "metadata": {},
   "outputs": [
    {
     "data": {
      "text/plain": [
       "None                           61849\n",
       "Domain                         47801\n",
       "Direct                         40045\n",
       "Google AdWords                 26868\n",
       "REA                            24721\n",
       "Coregistration                 21864\n",
       "Alternative Media              19131\n",
       "Affiliate                      17365\n",
       "Omnilead                       12845\n",
       "Phone                           8975\n",
       "Home Sales                      8089\n",
       "All Homes                       7678\n",
       "Partners                        6380\n",
       "First Home Buyers               5516\n",
       "Domain Campaigns                5171\n",
       "Email eChoice Database          4357\n",
       "Finder                          3971\n",
       "Domain Internal CBA Program     3620\n",
       "Domain Campaigns CPA            1975\n",
       "Domain Competitions             1791\n",
       "External Email                  1275\n",
       "Folio                           1173\n",
       "Dynamic Home Loans              1093\n",
       "Retention                       1078\n",
       "Refinancing AdWords              893\n",
       "Portals                          787\n",
       "Portal Campaigns                 735\n",
       "Manila                           669\n",
       "Referrer                         639\n",
       "Social Media                     560\n",
       "Club FS                          473\n",
       "Home Hound                       403\n",
       "Money Manager                    213\n",
       "Refinancing Domain               212\n",
       "Refinancing Direct               194\n",
       "Domain Campaigns CPL             193\n",
       "Real Estate View                 162\n",
       "Domain Bonus Display             155\n",
       "Self Employed Loans AdWords       61\n",
       "Bloom                             60\n",
       "On The House                      52\n",
       "Remarketing                       39\n",
       "Sponsored News                    18\n",
       "SMSF Loans                        10\n",
       "Australian Chinese Daily           6\n",
       "Self Employed Loans Direct         4\n",
       "Domain Partners                    1\n",
       "Name: classification, dtype: int64"
      ]
     },
     "execution_count": 35,
     "metadata": {},
     "output_type": "execute_result"
    }
   ],
   "source": [
    "df['classification'].value_counts()"
   ]
  },
  {
   "cell_type": "code",
   "execution_count": 36,
   "metadata": {
    "collapsed": true
   },
   "outputs": [],
   "source": [
    "# df = df[~df['marketing code'].isin(rows_to_drop)]\n",
    "# df.shape\n",
    "# df.drop_duplicates()\n",
    "# duplicates = df[df.duplicated()]\n",
    "# duplicates[duplicates['enquiry status'] == 'Accepted']"
   ]
  },
  {
   "cell_type": "code",
   "execution_count": 37,
   "metadata": {
    "collapsed": true
   },
   "outputs": [],
   "source": [
    "hist = test.groupby(['year']).size().reset_index(name=\"counts\")"
   ]
  },
  {
   "cell_type": "code",
   "execution_count": 38,
   "metadata": {},
   "outputs": [
    {
     "data": {
      "image/png": "[encoded data removed]",
      "text/plain": [
       "<matplotlib.figure.Figure at 0x126db0860>"
      ]
     },
     "metadata": {},
     "output_type": "display_data"
    }
   ],
   "source": [
    "fig = plt.figure()\n",
    "plt.plot(hist[\"year\"], hist[\"counts\"], label='acceptance')\n",
    "plt.xlabel('year')\n",
    "plt.ylabel('counts')\n",
    "plt.title(\"Simple Plot\")\n",
    "plt.legend()\n",
    "plt.show()"
   ]
  },
  {
   "cell_type": "code",
   "execution_count": 39,
   "metadata": {},
   "outputs": [
    {
     "data": {
      "text/plain": [
       "(341170, 10)"
      ]
     },
     "execution_count": 39,
     "metadata": {},
     "output_type": "execute_result"
    }
   ],
   "source": [
    "df.shape"
   ]
  },
  {
   "cell_type": "code",
   "execution_count": 40,
   "metadata": {
    "collapsed": true
   },
   "outputs": [],
   "source": [
    "data_frame = df.drop('year', axis = 1) \n",
    "data_frame['loan amount'] = data_frame['loan amount'].astype(int)"
   ]
  },
  {
   "cell_type": "code",
   "execution_count": 41,
   "metadata": {
    "collapsed": true
   },
   "outputs": [],
   "source": [
    "# df.to_csv(\"2014-2017.csv\",index=False)"
   ]
  },
  {
   "cell_type": "code",
   "execution_count": 42,
   "metadata": {
    "collapsed": true
   },
   "outputs": [],
   "source": [
    "data_frame.to_csv(\"2007-2017.csv\",index=False)"
   ]
  },
  {
   "cell_type": "code",
   "execution_count": 45,
   "metadata": {
    "collapsed": true
   },
   "outputs": [
    {
     "data": {
      "text/html": [
       "<div>\n",
       "<style scoped>\n",
       "    .dataframe tbody tr th:only-of-type {\n",
       "        vertical-align: middle;\n",
       "    }\n",
       "\n",
       "    .dataframe tbody tr th {\n",
       "        vertical-align: top;\n",
       "    }\n",
       "\n",
       "    .dataframe thead th {\n",
       "        text-align: right;\n",
       "    }\n",
       "</style>\n",
       "<table border=\"1\" class=\"dataframe\">\n",
       "  <thead>\n",
       "    <tr style=\"text-align: right;\">\n",
       "      <th></th>\n",
       "      <th>classification</th>\n",
       "      <th>loan amount</th>\n",
       "      <th>loan reason</th>\n",
       "      <th>property use</th>\n",
       "      <th>enquiry status</th>\n",
       "      <th>year</th>\n",
       "      <th>month</th>\n",
       "      <th>day</th>\n",
       "      <th>hour</th>\n",
       "      <th>weekday</th>\n",
       "    </tr>\n",
       "  </thead>\n",
       "  <tbody>\n",
       "    <tr>\n",
       "      <th>200</th>\n",
       "      <td>Affiliate</td>\n",
       "      <td>0.0</td>\n",
       "      <td>First HomeBuyer</td>\n",
       "      <td>Other</td>\n",
       "      <td>Rejected</td>\n",
       "      <td>2013</td>\n",
       "      <td>3</td>\n",
       "      <td>18</td>\n",
       "      <td>13</td>\n",
       "      <td>0</td>\n",
       "    </tr>\n",
       "    <tr>\n",
       "      <th>203</th>\n",
       "      <td>Affiliate</td>\n",
       "      <td>0.0</td>\n",
       "      <td>First HomeBuyer</td>\n",
       "      <td>Other</td>\n",
       "      <td>Rejected</td>\n",
       "      <td>2013</td>\n",
       "      <td>3</td>\n",
       "      <td>18</td>\n",
       "      <td>15</td>\n",
       "      <td>0</td>\n",
       "    </tr>\n",
       "    <tr>\n",
       "      <th>205</th>\n",
       "      <td>Affiliate</td>\n",
       "      <td>0.0</td>\n",
       "      <td>Refinance</td>\n",
       "      <td>Residence</td>\n",
       "      <td>Rejected</td>\n",
       "      <td>2013</td>\n",
       "      <td>3</td>\n",
       "      <td>18</td>\n",
       "      <td>15</td>\n",
       "      <td>0</td>\n",
       "    </tr>\n",
       "    <tr>\n",
       "      <th>243</th>\n",
       "      <td>Affiliate</td>\n",
       "      <td>0.0</td>\n",
       "      <td>First HomeBuyer</td>\n",
       "      <td>Other</td>\n",
       "      <td>Rejected</td>\n",
       "      <td>2013</td>\n",
       "      <td>3</td>\n",
       "      <td>25</td>\n",
       "      <td>14</td>\n",
       "      <td>0</td>\n",
       "    </tr>\n",
       "    <tr>\n",
       "      <th>244</th>\n",
       "      <td>Affiliate</td>\n",
       "      <td>0.0</td>\n",
       "      <td>First HomeBuyer</td>\n",
       "      <td>Other</td>\n",
       "      <td>Rejected</td>\n",
       "      <td>2013</td>\n",
       "      <td>3</td>\n",
       "      <td>25</td>\n",
       "      <td>14</td>\n",
       "      <td>0</td>\n",
       "    </tr>\n",
       "    <tr>\n",
       "      <th>247</th>\n",
       "      <td>Affiliate</td>\n",
       "      <td>0.0</td>\n",
       "      <td>First HomeBuyer</td>\n",
       "      <td>Other</td>\n",
       "      <td>Rejected</td>\n",
       "      <td>2013</td>\n",
       "      <td>3</td>\n",
       "      <td>25</td>\n",
       "      <td>14</td>\n",
       "      <td>0</td>\n",
       "    </tr>\n",
       "    <tr>\n",
       "      <th>248</th>\n",
       "      <td>Affiliate</td>\n",
       "      <td>0.0</td>\n",
       "      <td>First HomeBuyer</td>\n",
       "      <td>Other</td>\n",
       "      <td>Rejected</td>\n",
       "      <td>2013</td>\n",
       "      <td>3</td>\n",
       "      <td>25</td>\n",
       "      <td>14</td>\n",
       "      <td>0</td>\n",
       "    </tr>\n",
       "    <tr>\n",
       "      <th>250</th>\n",
       "      <td>Affiliate</td>\n",
       "      <td>0.0</td>\n",
       "      <td>First HomeBuyer</td>\n",
       "      <td>Other</td>\n",
       "      <td>Rejected</td>\n",
       "      <td>2013</td>\n",
       "      <td>3</td>\n",
       "      <td>25</td>\n",
       "      <td>14</td>\n",
       "      <td>0</td>\n",
       "    </tr>\n",
       "    <tr>\n",
       "      <th>273</th>\n",
       "      <td>Affiliate</td>\n",
       "      <td>0.0</td>\n",
       "      <td>First HomeBuyer</td>\n",
       "      <td>Other</td>\n",
       "      <td>Rejected</td>\n",
       "      <td>2013</td>\n",
       "      <td>3</td>\n",
       "      <td>26</td>\n",
       "      <td>14</td>\n",
       "      <td>1</td>\n",
       "    </tr>\n",
       "    <tr>\n",
       "      <th>274</th>\n",
       "      <td>Affiliate</td>\n",
       "      <td>0.0</td>\n",
       "      <td>First HomeBuyer</td>\n",
       "      <td>Other</td>\n",
       "      <td>Rejected</td>\n",
       "      <td>2013</td>\n",
       "      <td>3</td>\n",
       "      <td>26</td>\n",
       "      <td>14</td>\n",
       "      <td>1</td>\n",
       "    </tr>\n",
       "    <tr>\n",
       "      <th>287</th>\n",
       "      <td>Affiliate</td>\n",
       "      <td>0.0</td>\n",
       "      <td>First HomeBuyer</td>\n",
       "      <td>Other</td>\n",
       "      <td>Rejected</td>\n",
       "      <td>2013</td>\n",
       "      <td>3</td>\n",
       "      <td>27</td>\n",
       "      <td>9</td>\n",
       "      <td>2</td>\n",
       "    </tr>\n",
       "    <tr>\n",
       "      <th>288</th>\n",
       "      <td>Affiliate</td>\n",
       "      <td>0.0</td>\n",
       "      <td>First HomeBuyer</td>\n",
       "      <td>Other</td>\n",
       "      <td>Rejected</td>\n",
       "      <td>2013</td>\n",
       "      <td>3</td>\n",
       "      <td>27</td>\n",
       "      <td>9</td>\n",
       "      <td>2</td>\n",
       "    </tr>\n",
       "    <tr>\n",
       "      <th>289</th>\n",
       "      <td>Affiliate</td>\n",
       "      <td>0.0</td>\n",
       "      <td>First HomeBuyer</td>\n",
       "      <td>Other</td>\n",
       "      <td>Rejected</td>\n",
       "      <td>2013</td>\n",
       "      <td>3</td>\n",
       "      <td>27</td>\n",
       "      <td>9</td>\n",
       "      <td>2</td>\n",
       "    </tr>\n",
       "    <tr>\n",
       "      <th>291</th>\n",
       "      <td>Affiliate</td>\n",
       "      <td>0.0</td>\n",
       "      <td>First HomeBuyer</td>\n",
       "      <td>Other</td>\n",
       "      <td>Rejected</td>\n",
       "      <td>2013</td>\n",
       "      <td>3</td>\n",
       "      <td>27</td>\n",
       "      <td>10</td>\n",
       "      <td>2</td>\n",
       "    </tr>\n",
       "    <tr>\n",
       "      <th>293</th>\n",
       "      <td>Affiliate</td>\n",
       "      <td>0.0</td>\n",
       "      <td>First HomeBuyer</td>\n",
       "      <td>Other</td>\n",
       "      <td>Rejected</td>\n",
       "      <td>2013</td>\n",
       "      <td>3</td>\n",
       "      <td>27</td>\n",
       "      <td>10</td>\n",
       "      <td>2</td>\n",
       "    </tr>\n",
       "    <tr>\n",
       "      <th>294</th>\n",
       "      <td>Affiliate</td>\n",
       "      <td>0.0</td>\n",
       "      <td>First HomeBuyer</td>\n",
       "      <td>Other</td>\n",
       "      <td>Rejected</td>\n",
       "      <td>2013</td>\n",
       "      <td>3</td>\n",
       "      <td>27</td>\n",
       "      <td>10</td>\n",
       "      <td>2</td>\n",
       "    </tr>\n",
       "    <tr>\n",
       "      <th>301</th>\n",
       "      <td>Coregistration</td>\n",
       "      <td>0.0</td>\n",
       "      <td>First HomeBuyer</td>\n",
       "      <td>Other</td>\n",
       "      <td>Rejected</td>\n",
       "      <td>2013</td>\n",
       "      <td>3</td>\n",
       "      <td>27</td>\n",
       "      <td>11</td>\n",
       "      <td>2</td>\n",
       "    </tr>\n",
       "    <tr>\n",
       "      <th>304</th>\n",
       "      <td>Coregistration</td>\n",
       "      <td>0.0</td>\n",
       "      <td>First HomeBuyer</td>\n",
       "      <td>Other</td>\n",
       "      <td>Rejected</td>\n",
       "      <td>2013</td>\n",
       "      <td>3</td>\n",
       "      <td>27</td>\n",
       "      <td>11</td>\n",
       "      <td>2</td>\n",
       "    </tr>\n",
       "    <tr>\n",
       "      <th>306</th>\n",
       "      <td>Affiliate</td>\n",
       "      <td>0.0</td>\n",
       "      <td>First HomeBuyer</td>\n",
       "      <td>Other</td>\n",
       "      <td>Rejected</td>\n",
       "      <td>2013</td>\n",
       "      <td>3</td>\n",
       "      <td>27</td>\n",
       "      <td>11</td>\n",
       "      <td>2</td>\n",
       "    </tr>\n",
       "    <tr>\n",
       "      <th>309</th>\n",
       "      <td>REA</td>\n",
       "      <td>0.0</td>\n",
       "      <td>Buying Again</td>\n",
       "      <td>Residence</td>\n",
       "      <td>Rejected</td>\n",
       "      <td>2013</td>\n",
       "      <td>3</td>\n",
       "      <td>27</td>\n",
       "      <td>12</td>\n",
       "      <td>2</td>\n",
       "    </tr>\n",
       "    <tr>\n",
       "      <th>311</th>\n",
       "      <td>Affiliate</td>\n",
       "      <td>0.0</td>\n",
       "      <td>First HomeBuyer</td>\n",
       "      <td>Other</td>\n",
       "      <td>Rejected</td>\n",
       "      <td>2013</td>\n",
       "      <td>3</td>\n",
       "      <td>27</td>\n",
       "      <td>13</td>\n",
       "      <td>2</td>\n",
       "    </tr>\n",
       "    <tr>\n",
       "      <th>312</th>\n",
       "      <td>Affiliate</td>\n",
       "      <td>0.0</td>\n",
       "      <td>First HomeBuyer</td>\n",
       "      <td>Other</td>\n",
       "      <td>Rejected</td>\n",
       "      <td>2013</td>\n",
       "      <td>3</td>\n",
       "      <td>27</td>\n",
       "      <td>13</td>\n",
       "      <td>2</td>\n",
       "    </tr>\n",
       "    <tr>\n",
       "      <th>313</th>\n",
       "      <td>Affiliate</td>\n",
       "      <td>0.0</td>\n",
       "      <td>First HomeBuyer</td>\n",
       "      <td>Other</td>\n",
       "      <td>Rejected</td>\n",
       "      <td>2013</td>\n",
       "      <td>3</td>\n",
       "      <td>27</td>\n",
       "      <td>13</td>\n",
       "      <td>2</td>\n",
       "    </tr>\n",
       "    <tr>\n",
       "      <th>314</th>\n",
       "      <td>Affiliate</td>\n",
       "      <td>0.0</td>\n",
       "      <td>First HomeBuyer</td>\n",
       "      <td>Other</td>\n",
       "      <td>Rejected</td>\n",
       "      <td>2013</td>\n",
       "      <td>3</td>\n",
       "      <td>27</td>\n",
       "      <td>13</td>\n",
       "      <td>2</td>\n",
       "    </tr>\n",
       "    <tr>\n",
       "      <th>315</th>\n",
       "      <td>Affiliate</td>\n",
       "      <td>0.0</td>\n",
       "      <td>First HomeBuyer</td>\n",
       "      <td>Other</td>\n",
       "      <td>Rejected</td>\n",
       "      <td>2013</td>\n",
       "      <td>3</td>\n",
       "      <td>27</td>\n",
       "      <td>13</td>\n",
       "      <td>2</td>\n",
       "    </tr>\n",
       "    <tr>\n",
       "      <th>316</th>\n",
       "      <td>Affiliate</td>\n",
       "      <td>0.0</td>\n",
       "      <td>First HomeBuyer</td>\n",
       "      <td>Other</td>\n",
       "      <td>Rejected</td>\n",
       "      <td>2013</td>\n",
       "      <td>3</td>\n",
       "      <td>27</td>\n",
       "      <td>13</td>\n",
       "      <td>2</td>\n",
       "    </tr>\n",
       "    <tr>\n",
       "      <th>338</th>\n",
       "      <td>Affiliate</td>\n",
       "      <td>0.0</td>\n",
       "      <td>First HomeBuyer</td>\n",
       "      <td>Other</td>\n",
       "      <td>Rejected</td>\n",
       "      <td>2013</td>\n",
       "      <td>3</td>\n",
       "      <td>28</td>\n",
       "      <td>11</td>\n",
       "      <td>3</td>\n",
       "    </tr>\n",
       "    <tr>\n",
       "      <th>339</th>\n",
       "      <td>Affiliate</td>\n",
       "      <td>0.0</td>\n",
       "      <td>First HomeBuyer</td>\n",
       "      <td>Other</td>\n",
       "      <td>Rejected</td>\n",
       "      <td>2013</td>\n",
       "      <td>3</td>\n",
       "      <td>28</td>\n",
       "      <td>11</td>\n",
       "      <td>3</td>\n",
       "    </tr>\n",
       "    <tr>\n",
       "      <th>340</th>\n",
       "      <td>Affiliate</td>\n",
       "      <td>0.0</td>\n",
       "      <td>First HomeBuyer</td>\n",
       "      <td>Other</td>\n",
       "      <td>Rejected</td>\n",
       "      <td>2013</td>\n",
       "      <td>3</td>\n",
       "      <td>28</td>\n",
       "      <td>11</td>\n",
       "      <td>3</td>\n",
       "    </tr>\n",
       "    <tr>\n",
       "      <th>341</th>\n",
       "      <td>Affiliate</td>\n",
       "      <td>0.0</td>\n",
       "      <td>First HomeBuyer</td>\n",
       "      <td>Other</td>\n",
       "      <td>Rejected</td>\n",
       "      <td>2013</td>\n",
       "      <td>3</td>\n",
       "      <td>28</td>\n",
       "      <td>11</td>\n",
       "      <td>3</td>\n",
       "    </tr>\n",
       "    <tr>\n",
       "      <th>...</th>\n",
       "      <td>...</td>\n",
       "      <td>...</td>\n",
       "      <td>...</td>\n",
       "      <td>...</td>\n",
       "      <td>...</td>\n",
       "      <td>...</td>\n",
       "      <td>...</td>\n",
       "      <td>...</td>\n",
       "      <td>...</td>\n",
       "      <td>...</td>\n",
       "    </tr>\n",
       "    <tr>\n",
       "      <th>341139</th>\n",
       "      <td>Coregistration</td>\n",
       "      <td>0.0</td>\n",
       "      <td>First HomeBuyer</td>\n",
       "      <td>Residence</td>\n",
       "      <td>Rejected</td>\n",
       "      <td>2016</td>\n",
       "      <td>1</td>\n",
       "      <td>31</td>\n",
       "      <td>2</td>\n",
       "      <td>6</td>\n",
       "    </tr>\n",
       "    <tr>\n",
       "      <th>341140</th>\n",
       "      <td>Coregistration</td>\n",
       "      <td>0.0</td>\n",
       "      <td>First HomeBuyer</td>\n",
       "      <td>Other</td>\n",
       "      <td>Rejected</td>\n",
       "      <td>2016</td>\n",
       "      <td>1</td>\n",
       "      <td>31</td>\n",
       "      <td>2</td>\n",
       "      <td>6</td>\n",
       "    </tr>\n",
       "    <tr>\n",
       "      <th>341141</th>\n",
       "      <td>Coregistration</td>\n",
       "      <td>0.0</td>\n",
       "      <td>First HomeBuyer</td>\n",
       "      <td>Other</td>\n",
       "      <td>Rejected</td>\n",
       "      <td>2016</td>\n",
       "      <td>1</td>\n",
       "      <td>31</td>\n",
       "      <td>2</td>\n",
       "      <td>6</td>\n",
       "    </tr>\n",
       "    <tr>\n",
       "      <th>341142</th>\n",
       "      <td>Affiliate</td>\n",
       "      <td>810000.0</td>\n",
       "      <td>Buying Again</td>\n",
       "      <td>Residence</td>\n",
       "      <td>Rejected</td>\n",
       "      <td>2016</td>\n",
       "      <td>1</td>\n",
       "      <td>31</td>\n",
       "      <td>3</td>\n",
       "      <td>6</td>\n",
       "    </tr>\n",
       "    <tr>\n",
       "      <th>341143</th>\n",
       "      <td>Money Manager</td>\n",
       "      <td>0.0</td>\n",
       "      <td>Other Loan Reason</td>\n",
       "      <td>Other</td>\n",
       "      <td>Rejected</td>\n",
       "      <td>2016</td>\n",
       "      <td>1</td>\n",
       "      <td>31</td>\n",
       "      <td>3</td>\n",
       "      <td>6</td>\n",
       "    </tr>\n",
       "    <tr>\n",
       "      <th>341144</th>\n",
       "      <td>Coregistration</td>\n",
       "      <td>0.0</td>\n",
       "      <td>First HomeBuyer</td>\n",
       "      <td>Other</td>\n",
       "      <td>Rejected</td>\n",
       "      <td>2016</td>\n",
       "      <td>1</td>\n",
       "      <td>31</td>\n",
       "      <td>4</td>\n",
       "      <td>6</td>\n",
       "    </tr>\n",
       "    <tr>\n",
       "      <th>341145</th>\n",
       "      <td>Coregistration</td>\n",
       "      <td>0.0</td>\n",
       "      <td>First HomeBuyer</td>\n",
       "      <td>Other</td>\n",
       "      <td>Rejected</td>\n",
       "      <td>2016</td>\n",
       "      <td>1</td>\n",
       "      <td>31</td>\n",
       "      <td>6</td>\n",
       "      <td>6</td>\n",
       "    </tr>\n",
       "    <tr>\n",
       "      <th>341146</th>\n",
       "      <td>Affiliate</td>\n",
       "      <td>0.0</td>\n",
       "      <td>First HomeBuyer</td>\n",
       "      <td>Residence</td>\n",
       "      <td>Rejected</td>\n",
       "      <td>2016</td>\n",
       "      <td>1</td>\n",
       "      <td>31</td>\n",
       "      <td>8</td>\n",
       "      <td>6</td>\n",
       "    </tr>\n",
       "    <tr>\n",
       "      <th>341147</th>\n",
       "      <td>Google AdWords</td>\n",
       "      <td>368000.0</td>\n",
       "      <td>Buying Again</td>\n",
       "      <td>Investment</td>\n",
       "      <td>Accepted</td>\n",
       "      <td>2016</td>\n",
       "      <td>1</td>\n",
       "      <td>31</td>\n",
       "      <td>9</td>\n",
       "      <td>6</td>\n",
       "    </tr>\n",
       "    <tr>\n",
       "      <th>341148</th>\n",
       "      <td>Google AdWords</td>\n",
       "      <td>0.0</td>\n",
       "      <td>Buying Again</td>\n",
       "      <td>Residence</td>\n",
       "      <td>Rejected</td>\n",
       "      <td>2016</td>\n",
       "      <td>1</td>\n",
       "      <td>31</td>\n",
       "      <td>9</td>\n",
       "      <td>6</td>\n",
       "    </tr>\n",
       "    <tr>\n",
       "      <th>341149</th>\n",
       "      <td>Domain Campaigns</td>\n",
       "      <td>300000.0</td>\n",
       "      <td>Buying Again</td>\n",
       "      <td>Residence</td>\n",
       "      <td>Rejected</td>\n",
       "      <td>2016</td>\n",
       "      <td>1</td>\n",
       "      <td>31</td>\n",
       "      <td>10</td>\n",
       "      <td>6</td>\n",
       "    </tr>\n",
       "    <tr>\n",
       "      <th>341150</th>\n",
       "      <td>On The House</td>\n",
       "      <td>570000.0</td>\n",
       "      <td>First HomeBuyer</td>\n",
       "      <td>Residence</td>\n",
       "      <td>Accepted</td>\n",
       "      <td>2016</td>\n",
       "      <td>1</td>\n",
       "      <td>31</td>\n",
       "      <td>10</td>\n",
       "      <td>6</td>\n",
       "    </tr>\n",
       "    <tr>\n",
       "      <th>341151</th>\n",
       "      <td>Google AdWords</td>\n",
       "      <td>0.0</td>\n",
       "      <td>Buying Again</td>\n",
       "      <td>Residence</td>\n",
       "      <td>Rejected</td>\n",
       "      <td>2016</td>\n",
       "      <td>1</td>\n",
       "      <td>31</td>\n",
       "      <td>10</td>\n",
       "      <td>6</td>\n",
       "    </tr>\n",
       "    <tr>\n",
       "      <th>341152</th>\n",
       "      <td>Google AdWords</td>\n",
       "      <td>0.0</td>\n",
       "      <td>Buying Again</td>\n",
       "      <td>Residence</td>\n",
       "      <td>Rejected</td>\n",
       "      <td>2016</td>\n",
       "      <td>1</td>\n",
       "      <td>31</td>\n",
       "      <td>10</td>\n",
       "      <td>6</td>\n",
       "    </tr>\n",
       "    <tr>\n",
       "      <th>341153</th>\n",
       "      <td>REA</td>\n",
       "      <td>525000.0</td>\n",
       "      <td>First HomeBuyer</td>\n",
       "      <td>Residence</td>\n",
       "      <td>Accepted</td>\n",
       "      <td>2016</td>\n",
       "      <td>1</td>\n",
       "      <td>31</td>\n",
       "      <td>11</td>\n",
       "      <td>6</td>\n",
       "    </tr>\n",
       "    <tr>\n",
       "      <th>341154</th>\n",
       "      <td>REA</td>\n",
       "      <td>0.0</td>\n",
       "      <td>Buying Again</td>\n",
       "      <td>Residence</td>\n",
       "      <td>Rejected</td>\n",
       "      <td>2016</td>\n",
       "      <td>1</td>\n",
       "      <td>31</td>\n",
       "      <td>11</td>\n",
       "      <td>6</td>\n",
       "    </tr>\n",
       "    <tr>\n",
       "      <th>341155</th>\n",
       "      <td>REA</td>\n",
       "      <td>310000.0</td>\n",
       "      <td>Buying Again</td>\n",
       "      <td>Residence</td>\n",
       "      <td>Rejected</td>\n",
       "      <td>2016</td>\n",
       "      <td>1</td>\n",
       "      <td>31</td>\n",
       "      <td>11</td>\n",
       "      <td>6</td>\n",
       "    </tr>\n",
       "    <tr>\n",
       "      <th>341156</th>\n",
       "      <td>First Home Buyers</td>\n",
       "      <td>0.0</td>\n",
       "      <td>Other Loan Reason</td>\n",
       "      <td>Other</td>\n",
       "      <td>Rejected</td>\n",
       "      <td>2016</td>\n",
       "      <td>1</td>\n",
       "      <td>31</td>\n",
       "      <td>11</td>\n",
       "      <td>6</td>\n",
       "    </tr>\n",
       "    <tr>\n",
       "      <th>341157</th>\n",
       "      <td>Home Hound</td>\n",
       "      <td>70000.0</td>\n",
       "      <td>Buying Again</td>\n",
       "      <td>Investment</td>\n",
       "      <td>Rejected</td>\n",
       "      <td>2016</td>\n",
       "      <td>1</td>\n",
       "      <td>31</td>\n",
       "      <td>11</td>\n",
       "      <td>6</td>\n",
       "    </tr>\n",
       "    <tr>\n",
       "      <th>341158</th>\n",
       "      <td>Affiliate</td>\n",
       "      <td>190000.0</td>\n",
       "      <td>First HomeBuyer</td>\n",
       "      <td>Residence</td>\n",
       "      <td>Rejected</td>\n",
       "      <td>2016</td>\n",
       "      <td>1</td>\n",
       "      <td>31</td>\n",
       "      <td>12</td>\n",
       "      <td>6</td>\n",
       "    </tr>\n",
       "    <tr>\n",
       "      <th>341159</th>\n",
       "      <td>Google AdWords</td>\n",
       "      <td>660000.0</td>\n",
       "      <td>Buying Again</td>\n",
       "      <td>Residence</td>\n",
       "      <td>Accepted</td>\n",
       "      <td>2016</td>\n",
       "      <td>1</td>\n",
       "      <td>31</td>\n",
       "      <td>13</td>\n",
       "      <td>6</td>\n",
       "    </tr>\n",
       "    <tr>\n",
       "      <th>341160</th>\n",
       "      <td>Affiliate</td>\n",
       "      <td>0.0</td>\n",
       "      <td>Other Loan Reason</td>\n",
       "      <td>Other</td>\n",
       "      <td>Rejected</td>\n",
       "      <td>2016</td>\n",
       "      <td>1</td>\n",
       "      <td>31</td>\n",
       "      <td>13</td>\n",
       "      <td>6</td>\n",
       "    </tr>\n",
       "    <tr>\n",
       "      <th>341161</th>\n",
       "      <td>Home Sales</td>\n",
       "      <td>200000.0</td>\n",
       "      <td>First HomeBuyer</td>\n",
       "      <td>Residence</td>\n",
       "      <td>Rejected</td>\n",
       "      <td>2016</td>\n",
       "      <td>1</td>\n",
       "      <td>31</td>\n",
       "      <td>14</td>\n",
       "      <td>6</td>\n",
       "    </tr>\n",
       "    <tr>\n",
       "      <th>341162</th>\n",
       "      <td>Home Sales</td>\n",
       "      <td>399000.0</td>\n",
       "      <td>Buying Again</td>\n",
       "      <td>Residence</td>\n",
       "      <td>Rejected</td>\n",
       "      <td>2016</td>\n",
       "      <td>1</td>\n",
       "      <td>31</td>\n",
       "      <td>16</td>\n",
       "      <td>6</td>\n",
       "    </tr>\n",
       "    <tr>\n",
       "      <th>341163</th>\n",
       "      <td>First Home Buyers</td>\n",
       "      <td>0.0</td>\n",
       "      <td>Other Loan Reason</td>\n",
       "      <td>Other</td>\n",
       "      <td>Rejected</td>\n",
       "      <td>2016</td>\n",
       "      <td>1</td>\n",
       "      <td>31</td>\n",
       "      <td>16</td>\n",
       "      <td>6</td>\n",
       "    </tr>\n",
       "    <tr>\n",
       "      <th>341164</th>\n",
       "      <td>On The House</td>\n",
       "      <td>31000.0</td>\n",
       "      <td>First HomeBuyer</td>\n",
       "      <td>Residence</td>\n",
       "      <td>Rejected</td>\n",
       "      <td>2016</td>\n",
       "      <td>1</td>\n",
       "      <td>31</td>\n",
       "      <td>16</td>\n",
       "      <td>6</td>\n",
       "    </tr>\n",
       "    <tr>\n",
       "      <th>341165</th>\n",
       "      <td>Home Hound</td>\n",
       "      <td>500000.0</td>\n",
       "      <td>Buying Again</td>\n",
       "      <td>Residence</td>\n",
       "      <td>Rejected</td>\n",
       "      <td>2016</td>\n",
       "      <td>1</td>\n",
       "      <td>31</td>\n",
       "      <td>18</td>\n",
       "      <td>6</td>\n",
       "    </tr>\n",
       "    <tr>\n",
       "      <th>341166</th>\n",
       "      <td>Direct</td>\n",
       "      <td>434000.0</td>\n",
       "      <td>Buying Again</td>\n",
       "      <td>Residence</td>\n",
       "      <td>Accepted</td>\n",
       "      <td>2016</td>\n",
       "      <td>1</td>\n",
       "      <td>31</td>\n",
       "      <td>19</td>\n",
       "      <td>6</td>\n",
       "    </tr>\n",
       "    <tr>\n",
       "      <th>341168</th>\n",
       "      <td>Affiliate</td>\n",
       "      <td>304000.0</td>\n",
       "      <td>First HomeBuyer</td>\n",
       "      <td>Investment</td>\n",
       "      <td>Accepted</td>\n",
       "      <td>2016</td>\n",
       "      <td>1</td>\n",
       "      <td>31</td>\n",
       "      <td>20</td>\n",
       "      <td>6</td>\n",
       "    </tr>\n",
       "    <tr>\n",
       "      <th>341169</th>\n",
       "      <td>Home Sales</td>\n",
       "      <td>500000.0</td>\n",
       "      <td>Buying Again</td>\n",
       "      <td>Residence</td>\n",
       "      <td>Rejected</td>\n",
       "      <td>2016</td>\n",
       "      <td>1</td>\n",
       "      <td>31</td>\n",
       "      <td>21</td>\n",
       "      <td>6</td>\n",
       "    </tr>\n",
       "  </tbody>\n",
       "</table>\n",
       "<p>71360 rows × 10 columns</p>\n",
       "</div>"
      ],
      "text/plain": [
       "           classification  loan amount        loan reason property use  \\\n",
       "200             Affiliate          0.0    First HomeBuyer        Other   \n",
       "203             Affiliate          0.0    First HomeBuyer        Other   \n",
       "205             Affiliate          0.0          Refinance    Residence   \n",
       "243             Affiliate          0.0    First HomeBuyer        Other   \n",
       "244             Affiliate          0.0    First HomeBuyer        Other   \n",
       "247             Affiliate          0.0    First HomeBuyer        Other   \n",
       "248             Affiliate          0.0    First HomeBuyer        Other   \n",
       "250             Affiliate          0.0    First HomeBuyer        Other   \n",
       "273             Affiliate          0.0    First HomeBuyer        Other   \n",
       "274             Affiliate          0.0    First HomeBuyer        Other   \n",
       "287             Affiliate          0.0    First HomeBuyer        Other   \n",
       "288             Affiliate          0.0    First HomeBuyer        Other   \n",
       "289             Affiliate          0.0    First HomeBuyer        Other   \n",
       "291             Affiliate          0.0    First HomeBuyer        Other   \n",
       "293             Affiliate          0.0    First HomeBuyer        Other   \n",
       "294             Affiliate          0.0    First HomeBuyer        Other   \n",
       "301        Coregistration          0.0    First HomeBuyer        Other   \n",
       "304        Coregistration          0.0    First HomeBuyer        Other   \n",
       "306             Affiliate          0.0    First HomeBuyer        Other   \n",
       "309                   REA          0.0       Buying Again    Residence   \n",
       "311             Affiliate          0.0    First HomeBuyer        Other   \n",
       "312             Affiliate          0.0    First HomeBuyer        Other   \n",
       "313             Affiliate          0.0    First HomeBuyer        Other   \n",
       "314             Affiliate          0.0    First HomeBuyer        Other   \n",
       "315             Affiliate          0.0    First HomeBuyer        Other   \n",
       "316             Affiliate          0.0    First HomeBuyer        Other   \n",
       "338             Affiliate          0.0    First HomeBuyer        Other   \n",
       "339             Affiliate          0.0    First HomeBuyer        Other   \n",
       "340             Affiliate          0.0    First HomeBuyer        Other   \n",
       "341             Affiliate          0.0    First HomeBuyer        Other   \n",
       "...                   ...          ...                ...          ...   \n",
       "341139     Coregistration          0.0    First HomeBuyer    Residence   \n",
       "341140     Coregistration          0.0    First HomeBuyer        Other   \n",
       "341141     Coregistration          0.0    First HomeBuyer        Other   \n",
       "341142          Affiliate     810000.0       Buying Again    Residence   \n",
       "341143      Money Manager          0.0  Other Loan Reason        Other   \n",
       "341144     Coregistration          0.0    First HomeBuyer        Other   \n",
       "341145     Coregistration          0.0    First HomeBuyer        Other   \n",
       "341146          Affiliate          0.0    First HomeBuyer    Residence   \n",
       "341147     Google AdWords     368000.0       Buying Again   Investment   \n",
       "341148     Google AdWords          0.0       Buying Again    Residence   \n",
       "341149   Domain Campaigns     300000.0       Buying Again    Residence   \n",
       "341150       On The House     570000.0    First HomeBuyer    Residence   \n",
       "341151     Google AdWords          0.0       Buying Again    Residence   \n",
       "341152     Google AdWords          0.0       Buying Again    Residence   \n",
       "341153                REA     525000.0    First HomeBuyer    Residence   \n",
       "341154                REA          0.0       Buying Again    Residence   \n",
       "341155                REA     310000.0       Buying Again    Residence   \n",
       "341156  First Home Buyers          0.0  Other Loan Reason        Other   \n",
       "341157         Home Hound      70000.0       Buying Again   Investment   \n",
       "341158          Affiliate     190000.0    First HomeBuyer    Residence   \n",
       "341159     Google AdWords     660000.0       Buying Again    Residence   \n",
       "341160          Affiliate          0.0  Other Loan Reason        Other   \n",
       "341161         Home Sales     200000.0    First HomeBuyer    Residence   \n",
       "341162         Home Sales     399000.0       Buying Again    Residence   \n",
       "341163  First Home Buyers          0.0  Other Loan Reason        Other   \n",
       "341164       On The House      31000.0    First HomeBuyer    Residence   \n",
       "341165         Home Hound     500000.0       Buying Again    Residence   \n",
       "341166             Direct     434000.0       Buying Again    Residence   \n",
       "341168          Affiliate     304000.0    First HomeBuyer   Investment   \n",
       "341169         Home Sales     500000.0       Buying Again    Residence   \n",
       "\n",
       "       enquiry status  year  month  day  hour  weekday  \n",
       "200          Rejected  2013      3   18    13        0  \n",
       "203          Rejected  2013      3   18    15        0  \n",
       "205          Rejected  2013      3   18    15        0  \n",
       "243          Rejected  2013      3   25    14        0  \n",
       "244          Rejected  2013      3   25    14        0  \n",
       "247          Rejected  2013      3   25    14        0  \n",
       "248          Rejected  2013      3   25    14        0  \n",
       "250          Rejected  2013      3   25    14        0  \n",
       "273          Rejected  2013      3   26    14        1  \n",
       "274          Rejected  2013      3   26    14        1  \n",
       "287          Rejected  2013      3   27     9        2  \n",
       "288          Rejected  2013      3   27     9        2  \n",
       "289          Rejected  2013      3   27     9        2  \n",
       "291          Rejected  2013      3   27    10        2  \n",
       "293          Rejected  2013      3   27    10        2  \n",
       "294          Rejected  2013      3   27    10        2  \n",
       "301          Rejected  2013      3   27    11        2  \n",
       "304          Rejected  2013      3   27    11        2  \n",
       "306          Rejected  2013      3   27    11        2  \n",
       "309          Rejected  2013      3   27    12        2  \n",
       "311          Rejected  2013      3   27    13        2  \n",
       "312          Rejected  2013      3   27    13        2  \n",
       "313          Rejected  2013      3   27    13        2  \n",
       "314          Rejected  2013      3   27    13        2  \n",
       "315          Rejected  2013      3   27    13        2  \n",
       "316          Rejected  2013      3   27    13        2  \n",
       "338          Rejected  2013      3   28    11        3  \n",
       "339          Rejected  2013      3   28    11        3  \n",
       "340          Rejected  2013      3   28    11        3  \n",
       "341          Rejected  2013      3   28    11        3  \n",
       "...               ...   ...    ...  ...   ...      ...  \n",
       "341139       Rejected  2016      1   31     2        6  \n",
       "341140       Rejected  2016      1   31     2        6  \n",
       "341141       Rejected  2016      1   31     2        6  \n",
       "341142       Rejected  2016      1   31     3        6  \n",
       "341143       Rejected  2016      1   31     3        6  \n",
       "341144       Rejected  2016      1   31     4        6  \n",
       "341145       Rejected  2016      1   31     6        6  \n",
       "341146       Rejected  2016      1   31     8        6  \n",
       "341147       Accepted  2016      1   31     9        6  \n",
       "341148       Rejected  2016      1   31     9        6  \n",
       "341149       Rejected  2016      1   31    10        6  \n",
       "341150       Accepted  2016      1   31    10        6  \n",
       "341151       Rejected  2016      1   31    10        6  \n",
       "341152       Rejected  2016      1   31    10        6  \n",
       "341153       Accepted  2016      1   31    11        6  \n",
       "341154       Rejected  2016      1   31    11        6  \n",
       "341155       Rejected  2016      1   31    11        6  \n",
       "341156       Rejected  2016      1   31    11        6  \n",
       "341157       Rejected  2016      1   31    11        6  \n",
       "341158       Rejected  2016      1   31    12        6  \n",
       "341159       Accepted  2016      1   31    13        6  \n",
       "341160       Rejected  2016      1   31    13        6  \n",
       "341161       Rejected  2016      1   31    14        6  \n",
       "341162       Rejected  2016      1   31    16        6  \n",
       "341163       Rejected  2016      1   31    16        6  \n",
       "341164       Rejected  2016      1   31    16        6  \n",
       "341165       Rejected  2016      1   31    18        6  \n",
       "341166       Accepted  2016      1   31    19        6  \n",
       "341168       Accepted  2016      1   31    20        6  \n",
       "341169       Rejected  2016      1   31    21        6  \n",
       "\n",
       "[71360 rows x 10 columns]"
      ]
     },
     "execution_count": 45,
     "metadata": {},
     "output_type": "execute_result"
    }
   ],
   "source": [
    "df[df.duplicated]"
   ]
  },
  {
   "cell_type": "markdown",
   "metadata": {},
   "source": [
    "Because marketing code is variable that has changed in so many years, so it has much less impact on the result compare to other features"
   ]
  }
 ],
 "metadata": {
  "kernelspec": {
   "display_name": "Python 3",
   "language": "python",
   "name": "python3"
  },
  "language_info": {
   "codemirror_mode": {
    "name": "ipython",
    "version": 3
   },
   "file_extension": ".py",
   "mimetype": "text/x-python",
   "name": "python",
   "nbconvert_exporter": "python",
   "pygments_lexer": "ipython3",
   "version": "3.6.3"
  }
 },
 "nbformat": 4,
 "nbformat_minor": 2
}
