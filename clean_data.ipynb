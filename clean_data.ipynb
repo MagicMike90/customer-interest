{
 "cells": [
  {
   "cell_type": "code",
   "execution_count": 1,
   "metadata": {
    "collapsed": true
   },
   "outputs": [],
   "source": [
    "%matplotlib inline\n",
    "import numpy as np\n",
    "import matplotlib.pyplot as plt\n",
    "import matplotlib as mpl\n",
    "import pandas as pd\n",
    "import glob\n",
    "import warnings\n",
    "from IPython.display import display\n",
    "\n",
    "warnings.filterwarnings('ignore')\n",
    "mpl.rcParams['savefig.dpi'] = 128\n",
    "mpl.rcParams['figure.dpi'] = 128\n",
    "# Plot size to 14\" x 7\"\n",
    "mpl.rc('figure', figsize = (14, 7))\n",
    "# Font size to 14\n",
    "mpl.rc('font', size = 14)\n",
    "# Do not display top and right frame lines\n",
    "mpl.rc('axes.spines', top = False, right = False)\n",
    "# Remove grid lines\n",
    "mpl.rc('axes', grid = False)\n",
    "# Set backgound color to white\n",
    "mpl.rc('axes', facecolor = 'white')"
   ]
  },
  {
   "cell_type": "code",
   "execution_count": 2,
   "metadata": {},
   "outputs": [
    {
     "data": {
      "text/plain": [
       "(300285, 49)"
      ]
     },
     "execution_count": 2,
     "metadata": {},
     "output_type": "execute_result"
    }
   ],
   "source": [
    "# read whole year data\n",
    "allFiles = glob.glob(\"data/*/*.csv\")\n",
    "df = pd.DataFrame()\n",
    "list_ = []\n",
    "for file_ in allFiles:\n",
    "    df = pd.read_csv(file_,index_col=None, header=0,encoding=\"utf-8\")\n",
    "    list_.append(df)\n",
    "df = pd.concat(list_)\n",
    "\n",
    "df.shape"
   ]
  },
  {
   "cell_type": "code",
   "execution_count": 3,
   "metadata": {},
   "outputs": [
    {
     "data": {
      "text/plain": [
       "(274129, 49)"
      ]
     },
     "execution_count": 3,
     "metadata": {},
     "output_type": "execute_result"
    }
   ],
   "source": [
    "df.drop_duplicates(inplace=True)\n",
    "df.shape"
   ]
  },
  {
   "cell_type": "code",
   "execution_count": 4,
   "metadata": {
    "collapsed": true
   },
   "outputs": [],
   "source": [
    "def transform_cols(df):\n",
    "    df.columns = map(str.lower, df.columns)\n",
    "    df.columns = df.columns.str.replace('_', ' ')\n",
    "    return df"
   ]
  },
  {
   "cell_type": "code",
   "execution_count": 5,
   "metadata": {
    "collapsed": true
   },
   "outputs": [],
   "source": [
    "df = transform_cols(df)"
   ]
  },
  {
   "cell_type": "code",
   "execution_count": null,
   "metadata": {
    "collapsed": true
   },
   "outputs": [],
   "source": []
  },
  {
   "cell_type": "code",
   "execution_count": 6,
   "metadata": {
    "collapsed": true
   },
   "outputs": [],
   "source": [
    "selected_features = ['classification','enquired',\n",
    "                     'loan amount','loan reason','property use']\n",
    "# selected_features = ['marketing code','enquired',\n",
    "#                      'loan amount','loan reason','property use']\n",
    "# selected_features = ['classification','enquired']\n",
    "target = 'enquiry status';\n",
    "whole_set = selected_features + [target]\n",
    "\n",
    "df = df[whole_set]"
   ]
  },
  {
   "cell_type": "code",
   "execution_count": 7,
   "metadata": {},
   "outputs": [
    {
     "data": {
      "text/plain": [
       "(269530, 6)"
      ]
     },
     "execution_count": 7,
     "metadata": {},
     "output_type": "execute_result"
    }
   ],
   "source": [
    "df = df[~df[target].isin(['In Progress','Just Received','On Hold'])]\n",
    "df.shape"
   ]
  },
  {
   "cell_type": "code",
   "execution_count": null,
   "metadata": {
    "collapsed": true
   },
   "outputs": [],
   "source": []
  },
  {
   "cell_type": "code",
   "execution_count": 8,
   "metadata": {
    "collapsed": true
   },
   "outputs": [],
   "source": [
    "def clearnLoanAmount(df): \n",
    "    invalid_columns= ['500001-$1000000',\n",
    "                  '300001-$500000',\n",
    "                  '0-$300000',\n",
    "                  '250000 - 300000',\n",
    "                  '250000-350000',\n",
    "                  '2600 monthly',\n",
    "                  'not_sure',\n",
    "                  '1000,001+',\n",
    "                 '9999-',\n",
    "                  'I50000',\n",
    "                  '1.5 M',\n",
    "                  '1000001+',\n",
    "                  '9999-',\n",
    "                  '80-90k']\n",
    "    if 'loan amount' in df.columns: \n",
    "        df['loan amount'].fillna(0,inplace=True)\n",
    "        # convert to string to do replacement\n",
    "        df['loan amount'] = df['loan amount'].astype(\"str\")\n",
    "        df['loan amount'] = df['loan amount'].str.replace(\",\",\"\")\n",
    "        df = df[~df['loan amount'].isin(invalid_columns)]\n",
    "    return df"
   ]
  },
  {
   "cell_type": "code",
   "execution_count": 9,
   "metadata": {
    "collapsed": true
   },
   "outputs": [],
   "source": [
    "df = clearnLoanAmount(df)"
   ]
  },
  {
   "cell_type": "code",
   "execution_count": 10,
   "metadata": {},
   "outputs": [
    {
     "data": {
      "text/plain": [
       "(268768, 6)"
      ]
     },
     "execution_count": 10,
     "metadata": {},
     "output_type": "execute_result"
    }
   ],
   "source": [
    "df.shape"
   ]
  },
  {
   "cell_type": "code",
   "execution_count": 11,
   "metadata": {
    "collapsed": true
   },
   "outputs": [],
   "source": [
    "df['loan reason'].fillna('Other Loan Reason',inplace=True)"
   ]
  },
  {
   "cell_type": "code",
   "execution_count": 12,
   "metadata": {},
   "outputs": [
    {
     "data": {
      "text/plain": [
       "First HomeBuyer                                           116638\n",
       "Buying Again                                               84404\n",
       "Refinance                                                  25552\n",
       "Other Loan Reason                                          22786\n",
       "Buying Again,Refinance                                     10072\n",
       "Refinance With Cash Out                                     6837\n",
       "Buying Again,Refinance With Cash Out                         721\n",
       "Refinance,Refinance With Cash Out                            646\n",
       "First HomeBuyer,Refinance                                    385\n",
       "First HomeBuyer,Buying Again                                 278\n",
       "Loan Topup                                                   230\n",
       "Buying Again,Refinance,Refinance With Cash Out                59\n",
       "First HomeBuyer,Refinance With Cash Out                       32\n",
       "Refinance,Loan Topup                                          29\n",
       "Refinance,Other Loan Reason                                   23\n",
       "First HomeBuyer,Buying Again,Refinance                        19\n",
       "Buying Again,Other Loan Reason                                19\n",
       "Buying Again,Refinance,Other Loan Reason                      10\n",
       "First HomeBuyer,Refinance,Refinance With Cash Out              6\n",
       "First HomeBuyer,Buying Again,Refinance With Cash Out           6\n",
       "Buying Again,Loan Topup                                        4\n",
       "Refinance With Cash Out,Loan Topup                             3\n",
       "First HomeBuyer,Other Loan Reason                              3\n",
       "Refinance With Cash Out,Other Loan Reason                      2\n",
       "First HomeBuyer,Loan Topup                                     1\n",
       "Buying Again,Refinance,Loan Topup                              1\n",
       "Buying Again,Refinance With Cash Out,Other Loan Reason         1\n",
       "Refinance,Refinance With Cash Out,Loan Topup                   1\n",
       "Name: loan reason, dtype: int64"
      ]
     },
     "execution_count": 12,
     "metadata": {},
     "output_type": "execute_result"
    }
   ],
   "source": [
    "df['loan reason'].value_counts()"
   ]
  },
  {
   "cell_type": "code",
   "execution_count": 13,
   "metadata": {
    "collapsed": true
   },
   "outputs": [],
   "source": [
    "# df.loc[df['loan reason'].str.contains('First HomeBuyer'),'loan reason'] = 'First HomeBuyer'\n",
    "# df.loc[df['loan reason'].str.contains('Buying Again'),'loan reason'] = 'Buying Again'\n",
    "# df.loc[df['loan reason'].str.contains('Refinance'),'loan reason'] = 'Refinance'\n",
    "\n",
    "df['loan reason'] = df['loan reason'].apply(lambda x: 'First HomeBuyer' if 'First HomeBuyer' in x else x)\n",
    "df['loan reason'] = df['loan reason'].apply(lambda x: 'Buying Again' if 'Buying Again' in x else x)\n",
    "df['loan reason'] = df['loan reason'].apply(lambda x: 'Refinance' if 'Refinance' in x else x)"
   ]
  },
  {
   "cell_type": "code",
   "execution_count": 14,
   "metadata": {},
   "outputs": [
    {
     "data": {
      "text/plain": [
       "First HomeBuyer      117368\n",
       "Buying Again          95291\n",
       "Refinance             33093\n",
       "Other Loan Reason     22786\n",
       "Loan Topup              230\n",
       "Name: loan reason, dtype: int64"
      ]
     },
     "execution_count": 14,
     "metadata": {},
     "output_type": "execute_result"
    }
   ],
   "source": [
    "df['loan reason'].value_counts()"
   ]
  },
  {
   "cell_type": "code",
   "execution_count": 15,
   "metadata": {
    "collapsed": true
   },
   "outputs": [],
   "source": [
    "df['property use'].fillna('Other',inplace=True)"
   ]
  },
  {
   "cell_type": "code",
   "execution_count": 16,
   "metadata": {},
   "outputs": [
    {
     "data": {
      "text/plain": [
       "Residence                     175139\n",
       "Other                          56386\n",
       "Investment                     26698\n",
       "Residence,Investment           10253\n",
       "Residence,Other                  214\n",
       "Investment,Other                  45\n",
       "Residence,Investment,Other        33\n",
       "Name: property use, dtype: int64"
      ]
     },
     "execution_count": 16,
     "metadata": {},
     "output_type": "execute_result"
    }
   ],
   "source": [
    "df['property use'].value_counts()"
   ]
  },
  {
   "cell_type": "code",
   "execution_count": 17,
   "metadata": {
    "collapsed": true
   },
   "outputs": [],
   "source": [
    "df['property use'] = df['property use'].apply(lambda x: 'Residence' if 'Residence' in x else x)\n",
    "df['property use'] = df['property use'].apply(lambda x: 'Investment' if 'Investment' in x else x)"
   ]
  },
  {
   "cell_type": "code",
   "execution_count": 18,
   "metadata": {},
   "outputs": [
    {
     "data": {
      "text/plain": [
       "Residence     185639\n",
       "Other          56386\n",
       "Investment     26743\n",
       "Name: property use, dtype: int64"
      ]
     },
     "execution_count": 18,
     "metadata": {},
     "output_type": "execute_result"
    }
   ],
   "source": [
    "df['property use'].value_counts()"
   ]
  },
  {
   "cell_type": "code",
   "execution_count": 19,
   "metadata": {
    "collapsed": true
   },
   "outputs": [],
   "source": [
    "df['classification'].fillna('None',inplace=True)"
   ]
  },
  {
   "cell_type": "code",
   "execution_count": 20,
   "metadata": {},
   "outputs": [
    {
     "data": {
      "text/plain": [
       "Domain                         47775\n",
       "Google AdWords                 26835\n",
       "Direct                         25516\n",
       "Coregistration                 21864\n",
       "REA                            19767\n",
       "Alternative Media              19131\n",
       "Affiliate                      17338\n",
       "None                           14050\n",
       "Omnilead                       12845\n",
       "Home Sales                      8089\n",
       "All Homes                       7678\n",
       "Partners                        5800\n",
       "First Home Buyers               5516\n",
       "Domain Campaigns                5171\n",
       "Phone                           4731\n",
       "Email eChoice Database          4357\n",
       "Finder                          3971\n",
       "Domain Internal CBA Program     3620\n",
       "Domain Campaigns CPA            1975\n",
       "Domain Competitions             1791\n",
       "External Email                  1275\n",
       "Folio                           1173\n",
       "Dynamic Home Loans              1093\n",
       "Retention                        901\n",
       "Refinancing AdWords              893\n",
       "Portals                          775\n",
       "Portal Campaigns                 735\n",
       "Manila                           648\n",
       "Referrer                         639\n",
       "Social Media                     560\n",
       "Club FS                          473\n",
       "Home Hound                       403\n",
       "Money Manager                    213\n",
       "Refinancing Domain               212\n",
       "Refinancing Direct               194\n",
       "Domain Campaigns CPL             193\n",
       "Real Estate View                 162\n",
       "Domain Bonus Display             155\n",
       "Self Employed Loans AdWords       61\n",
       "Bloom                             60\n",
       "On The House                      52\n",
       "Remarketing                       39\n",
       "Sponsored News                    18\n",
       "SMSF Loans                        10\n",
       "Australian Chinese Daily           6\n",
       "Self Employed Loans Direct         4\n",
       "Domain Partners                    1\n",
       "Name: classification, dtype: int64"
      ]
     },
     "execution_count": 20,
     "metadata": {},
     "output_type": "execute_result"
    }
   ],
   "source": [
    "df['classification'].value_counts()"
   ]
  },
  {
   "cell_type": "code",
   "execution_count": 21,
   "metadata": {},
   "outputs": [
    {
     "name": "stdout",
     "output_type": "stream",
     "text": [
      "The number of null values in: classification == 0\n",
      "The number of null values in: enquired == 0\n",
      "The number of null values in: loan amount == 0\n",
      "The number of null values in: loan reason == 0\n",
      "The number of null values in: property use == 0\n",
      "The number of null values in: enquiry status == 0\n"
     ]
    }
   ],
   "source": [
    "for _ in df.columns:\n",
    "    print(\"The number of null values in: {} == {}\".format(_, df[_].isnull().sum()))"
   ]
  },
  {
   "cell_type": "code",
   "execution_count": 22,
   "metadata": {},
   "outputs": [
    {
     "data": {
      "text/plain": [
       "(268768, 6)"
      ]
     },
     "execution_count": 22,
     "metadata": {},
     "output_type": "execute_result"
    }
   ],
   "source": [
    "df.dropna(axis=0, how='any', inplace=True)\n",
    "df.shape"
   ]
  },
  {
   "cell_type": "code",
   "execution_count": null,
   "metadata": {},
   "outputs": [],
   "source": []
  },
  {
   "cell_type": "code",
   "execution_count": 23,
   "metadata": {},
   "outputs": [
    {
     "name": "stdout",
     "output_type": "stream",
     "text": [
      "The number of null values in:classification == 0\n",
      "The number of null values in:enquired == 0\n",
      "The number of null values in:loan amount == 0\n",
      "The number of null values in:loan reason == 0\n",
      "The number of null values in:property use == 0\n",
      "The number of null values in:enquiry status == 0\n"
     ]
    }
   ],
   "source": [
    "for _ in df.columns:\n",
    "    print(\"The number of null values in:{} == {}\".format(_, df[_].isnull().sum()))"
   ]
  },
  {
   "cell_type": "code",
   "execution_count": 24,
   "metadata": {
    "collapsed": true
   },
   "outputs": [],
   "source": [
    "drop_values = ['QLD','victoria',\"270-1176\",\"VIC\",\"2575b\",\"6110r\",\"2150s\"]\n",
    "if 'post code' in df.columns: \n",
    "    df = df[~df['post code'].isin(drop_values)]"
   ]
  },
  {
   "cell_type": "code",
   "execution_count": null,
   "metadata": {
    "collapsed": true
   },
   "outputs": [],
   "source": [
    "def transform(df): \n",
    "    if 'loan amount' in df.columns: \n",
    "        df['loan amount'] = df['loan amount'].astype('float')\n",
    "        \n",
    "    if 'enquired' in df.columns: \n",
    "        df['enquired'] = pd.DatetimeIndex(df['enquired'])\n",
    "        df['year'] = df['enquired'].dt.year\n",
    "        df['month'] = df['enquired'].dt.month\n",
    "        df['day'] = df['enquired'].dt.day\n",
    "        df['hour'] = df['enquired'].dt.hour\n",
    "        df['weekday'] = df['enquired'].dt.dayofweek\n",
    "    \n",
    "    if 'post code' in df.columns: \n",
    "        df['post code'] = df['post code'].astype('int')\n",
    "    \n",
    "    if 'enquired'in df.columns:\n",
    "        df.drop(['enquired'], axis = 1, inplace = True)\n",
    "        \n",
    "    \n",
    "    df.apply(lambda x: x.astype(str).str.lower())"
   ]
  },
  {
   "cell_type": "code",
   "execution_count": null,
   "metadata": {
    "collapsed": true
   },
   "outputs": [],
   "source": [
    "transform(df)"
   ]
  },
  {
   "cell_type": "code",
   "execution_count": null,
   "metadata": {
    "collapsed": true
   },
   "outputs": [],
   "source": []
  },
  {
   "cell_type": "code",
   "execution_count": null,
   "metadata": {
    "collapsed": true
   },
   "outputs": [],
   "source": [
    "if 'year' in df.columns:\n",
    "    df = df[~(df['year'] < 2009)]\n",
    "    df[(df['year'] < 2009)]"
   ]
  },
  {
   "cell_type": "code",
   "execution_count": null,
   "metadata": {
    "collapsed": true
   },
   "outputs": [],
   "source": [
    "df.reset_index(drop=True,inplace=True)"
   ]
  },
  {
   "cell_type": "code",
   "execution_count": null,
   "metadata": {
    "collapsed": true
   },
   "outputs": [],
   "source": []
  },
  {
   "cell_type": "code",
   "execution_count": null,
   "metadata": {},
   "outputs": [],
   "source": [
    "test = df[df['enquiry status'] == 'Rejected']\n",
    "test.shape"
   ]
  },
  {
   "cell_type": "code",
   "execution_count": null,
   "metadata": {},
   "outputs": [],
   "source": [
    "test = df[df['enquiry status'] == 'Accepted']\n",
    "test.shape"
   ]
  },
  {
   "cell_type": "code",
   "execution_count": null,
   "metadata": {},
   "outputs": [],
   "source": [
    "test['year'].value_counts()"
   ]
  },
  {
   "cell_type": "code",
   "execution_count": null,
   "metadata": {},
   "outputs": [],
   "source": [
    "df.dtypes"
   ]
  },
  {
   "cell_type": "code",
   "execution_count": null,
   "metadata": {},
   "outputs": [],
   "source": [
    "df['classification'].value_counts()"
   ]
  },
  {
   "cell_type": "code",
   "execution_count": null,
   "metadata": {
    "collapsed": true
   },
   "outputs": [],
   "source": [
    "# df = df[~df['marketing code'].isin(rows_to_drop)]\n",
    "# df.shape\n",
    "# df.drop_duplicates()\n",
    "# duplicates = df[df.duplicated()]\n",
    "# duplicates[duplicates['enquiry status'] == 'Accepted']"
   ]
  },
  {
   "cell_type": "code",
   "execution_count": null,
   "metadata": {
    "collapsed": true
   },
   "outputs": [],
   "source": [
    "hist = test.groupby(['year']).size().reset_index(name=\"counts\")"
   ]
  },
  {
   "cell_type": "code",
   "execution_count": null,
   "metadata": {},
   "outputs": [],
   "source": [
    "fig = plt.figure()\n",
    "plt.plot(hist[\"year\"], hist[\"counts\"], label='acceptance')\n",
    "plt.xlabel('year')\n",
    "plt.ylabel('counts')\n",
    "plt.title(\"Simple Plot\")\n",
    "plt.legend()\n",
    "plt.show()"
   ]
  },
  {
   "cell_type": "code",
   "execution_count": null,
   "metadata": {},
   "outputs": [],
   "source": [
    "df.shape"
   ]
  },
  {
   "cell_type": "code",
   "execution_count": null,
   "metadata": {
    "collapsed": true
   },
   "outputs": [],
   "source": [
    "data_frame = df.drop('year', axis = 1) \n",
    "data_frame.to_csv(\"2009-2017.csv\",index=False)"
   ]
  },
  {
   "cell_type": "code",
   "execution_count": null,
   "metadata": {
    "collapsed": true
   },
   "outputs": [],
   "source": [
    "# df.to_csv(\"2014-2017.csv\",index=False)"
   ]
  },
  {
   "cell_type": "code",
   "execution_count": null,
   "metadata": {
    "collapsed": true
   },
   "outputs": [],
   "source": []
  },
  {
   "cell_type": "markdown",
   "metadata": {},
   "source": [
    "Because marketing code is variable that has changed in so many years, so it has much less impact on the result compare to other features"
   ]
  }
 ],
 "metadata": {
  "kernelspec": {
   "display_name": "Python 3",
   "language": "python",
   "name": "python3"
  },
  "language_info": {
   "codemirror_mode": {
    "name": "ipython",
    "version": 3
   },
   "file_extension": ".py",
   "mimetype": "text/x-python",
   "name": "python",
   "nbconvert_exporter": "python",
   "pygments_lexer": "ipython3",
   "version": "3.6.3"
  }
 },
 "nbformat": 4,
 "nbformat_minor": 2
}
