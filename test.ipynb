{
 "cells": [
  {
   "cell_type": "code",
   "execution_count": 1,
   "metadata": {
    "collapsed": true
   },
   "outputs": [],
   "source": [
    "%matplotlib inline\n",
    "import numpy as np\n",
    "import matplotlib.pyplot as plt\n",
    "import matplotlib as mpl\n",
    "import pandas as pd\n",
    "import glob\n",
    "import warnings\n",
    "from IPython.display import display\n",
    "\n",
    "warnings.filterwarnings('ignore')\n",
    "mpl.rcParams['savefig.dpi'] = 128\n",
    "mpl.rcParams['figure.dpi'] = 128\n",
    "# Plot size to 14\" x 7\"\n",
    "mpl.rc('figure', figsize = (14, 7))\n",
    "# Font size to 14\n",
    "mpl.rc('font', size = 14)\n",
    "# Do not display top and right frame lines\n",
    "mpl.rc('axes.spines', top = False, right = False)\n",
    "# Remove grid lines\n",
    "mpl.rc('axes', grid = False)\n",
    "# Set backgound color to white\n",
    "mpl.rc('axes', facecolor = 'white')"
   ]
  },
  {
   "cell_type": "code",
   "execution_count": 2,
   "metadata": {},
   "outputs": [
    {
     "data": {
      "text/plain": [
       "(279386, 49)"
      ]
     },
     "execution_count": 2,
     "metadata": {},
     "output_type": "execute_result"
    }
   ],
   "source": [
    "# read whole year data\n",
    "allFiles = glob.glob(\"data/*/*.csv\")\n",
    "df = pd.DataFrame()\n",
    "list_ = []\n",
    "for file_ in allFiles:\n",
    "    df = pd.read_csv(file_,index_col=None, header=0,encoding=\"utf-8\")\n",
    "    list_.append(df)\n",
    "df = pd.concat(list_)\n",
    "df.shape"
   ]
  },
  {
   "cell_type": "code",
   "execution_count": 3,
   "metadata": {},
   "outputs": [],
   "source": [
    "df.drop_duplicates(inplace=True)"
   ]
  },
  {
   "cell_type": "code",
   "execution_count": 4,
   "metadata": {},
   "outputs": [],
   "source": [
    "def transform_cols(df):\n",
    "    df.columns = map(str.lower, df.columns)\n",
    "    df.columns = df.columns.str.replace('_', ' ')\n",
    "    return df"
   ]
  },
  {
   "cell_type": "code",
   "execution_count": 5,
   "metadata": {},
   "outputs": [
    {
     "data": {
      "text/plain": [
       "Index(['tracking id', 'marketing code', 'original code', 'marketing name',\n",
       "       'classification', 'app source', 'web source', 'enquired', 'first call',\n",
       "       'last access', 'last access by', 'next contact date', 'decision',\n",
       "       'appointed', 'submitted', 'lead approval date',\n",
       "       'reporting approval date', 'potential settlement date', 'settled',\n",
       "       'lender', 'hlc', 'rejected reason', 'loan amount', 'enquiry status',\n",
       "       'hot transfer', 'held', 'held by', 'processing system', 'lead status',\n",
       "       'client name', 'suburb', 'state', 'post code', 'area echoice direct',\n",
       "       'email', 'mobile', 'phone', 'home phone', 'dead reason', 'broker name',\n",
       "       'capacity area', 'lead source', 'commission in', 'commission out',\n",
       "       'lead assist', 'loan reason', 'property use', 'consumer comment',\n",
       "       'internal comment'],\n",
       "      dtype='object')"
      ]
     },
     "execution_count": 5,
     "metadata": {},
     "output_type": "execute_result"
    }
   ],
   "source": [
    "df = transform_cols(df)\n",
    "df.columns"
   ]
  },
  {
   "cell_type": "code",
   "execution_count": null,
   "metadata": {},
   "outputs": [],
   "source": []
  },
  {
   "cell_type": "code",
   "execution_count": 6,
   "metadata": {},
   "outputs": [
    {
     "data": {
      "text/plain": [
       "(256851, 9)"
      ]
     },
     "execution_count": 6,
     "metadata": {},
     "output_type": "execute_result"
    }
   ],
   "source": [
    "selected_features = ['marketing code','enquired',\n",
    "                     'loan amount','loan reason','property use',\n",
    "                     'suburb', 'state', 'post code']\n",
    "# selected_features = ['marketing code','enquired','loan amount','property use']\n",
    "target = 'enquiry status';\n",
    "whole_set = selected_features + [target]\n",
    "\n",
    "df = df[whole_set]\n",
    "df.shape"
   ]
  },
  {
   "cell_type": "code",
   "execution_count": 7,
   "metadata": {},
   "outputs": [],
   "source": [
    "df = df[~df[target].isin(['In Progress','Just Received','On Hold'])]"
   ]
  },
  {
   "cell_type": "code",
   "execution_count": 8,
   "metadata": {},
   "outputs": [],
   "source": [
    "df.dropna(axis=0, how='any', inplace=True)"
   ]
  },
  {
   "cell_type": "code",
   "execution_count": 9,
   "metadata": {
    "collapsed": true
   },
   "outputs": [],
   "source": [
    "# convert to string to do replacement\n",
    "df['loan amount'] = df['loan amount'].astype(\"str\")\n",
    "df['loan amount'] = df['loan amount'].str.replace(\",\",\"\")"
   ]
  },
  {
   "cell_type": "code",
   "execution_count": 10,
   "metadata": {
    "collapsed": true
   },
   "outputs": [],
   "source": [
    "def capitalizer(string: str) -> str:\n",
    "    return string.lower()"
   ]
  },
  {
   "cell_type": "code",
   "execution_count": null,
   "metadata": {},
   "outputs": [],
   "source": []
  },
  {
   "cell_type": "code",
   "execution_count": 11,
   "metadata": {
    "collapsed": true
   },
   "outputs": [],
   "source": [
    "invalid_columns= ['500001-$1000000',\n",
    "                  '300001-$500000',\n",
    "                  '0-$300000',\n",
    "                  '250000 - 300000',\n",
    "                  '250000-350000',\n",
    "                  '2600 monthly',\n",
    "                  'not_sure',\n",
    "                  '1000,001+',\n",
    "                 '9999-',\n",
    "                  'I50000',\n",
    "                  '1.5 M',\n",
    "                  '1000001+',\n",
    "                  '9999-',\n",
    "                  '80-90k']"
   ]
  },
  {
   "cell_type": "code",
   "execution_count": 12,
   "metadata": {},
   "outputs": [
    {
     "data": {
      "text/plain": [
       "(168279, 9)"
      ]
     },
     "execution_count": 12,
     "metadata": {},
     "output_type": "execute_result"
    }
   ],
   "source": [
    "df = df[~df['loan amount'].isin(invalid_columns)]\n",
    "df.shape"
   ]
  },
  {
   "cell_type": "code",
   "execution_count": 13,
   "metadata": {
    "collapsed": true
   },
   "outputs": [],
   "source": [
    "drop_values = ['QLD','victoria',\"270-1176\",\"VIC\",\"2575b\",\"6110r\",\"2150s\"]\n",
    "if 'post code' in df.columns: \n",
    "    df = df[~df['post code'].isin(drop_values)]"
   ]
  },
  {
   "cell_type": "code",
   "execution_count": 14,
   "metadata": {},
   "outputs": [
    {
     "data": {
      "text/html": [
       "<div>\n",
       "<style scoped>\n",
       "    .dataframe tbody tr th:only-of-type {\n",
       "        vertical-align: middle;\n",
       "    }\n",
       "\n",
       "    .dataframe tbody tr th {\n",
       "        vertical-align: top;\n",
       "    }\n",
       "\n",
       "    .dataframe thead th {\n",
       "        text-align: right;\n",
       "    }\n",
       "</style>\n",
       "<table border=\"1\" class=\"dataframe\">\n",
       "  <thead>\n",
       "    <tr style=\"text-align: right;\">\n",
       "      <th></th>\n",
       "      <th>marketing code</th>\n",
       "      <th>enquired</th>\n",
       "      <th>loan amount</th>\n",
       "      <th>loan reason</th>\n",
       "      <th>property use</th>\n",
       "      <th>suburb</th>\n",
       "      <th>state</th>\n",
       "      <th>post code</th>\n",
       "      <th>enquiry status</th>\n",
       "    </tr>\n",
       "  </thead>\n",
       "  <tbody>\n",
       "  </tbody>\n",
       "</table>\n",
       "</div>"
      ],
      "text/plain": [
       "Empty DataFrame\n",
       "Columns: [marketing code, enquired, loan amount, loan reason, property use, suburb, state, post code, enquiry status]\n",
       "Index: []"
      ]
     },
     "execution_count": 14,
     "metadata": {},
     "output_type": "execute_result"
    }
   ],
   "source": [
    "df[df['loan amount'] == \"nan\"]"
   ]
  },
  {
   "cell_type": "code",
   "execution_count": 15,
   "metadata": {
    "collapsed": true
   },
   "outputs": [],
   "source": [
    "def transform(df): \n",
    "    df['loan amount'] = df['loan amount'].astype('float')\n",
    "    df['loan amount'] = df['loan amount'].astype(int)\n",
    "    df['enquired'] = pd.DatetimeIndex(df['enquired'])\n",
    "    df['year'] = df['enquired'].dt.year\n",
    "    df['month'] = df['enquired'].dt.month\n",
    "    df['day'] = df['enquired'].dt.day\n",
    "    df['hour'] = df['enquired'].dt.hour\n",
    "    df['weekday'] = df['enquired'].dt.dayofweek\n",
    "    \n",
    "    if 'post code' in df.columns: \n",
    "        df['post code'] = df['post code'].astype('int')\n",
    "    \n",
    "    if 'enquired'in df.columns:\n",
    "        df.drop(['enquired'], axis = 1, inplace = True)"
   ]
  },
  {
   "cell_type": "code",
   "execution_count": 16,
   "metadata": {},
   "outputs": [],
   "source": [
    "transform(df)"
   ]
  },
  {
   "cell_type": "code",
   "execution_count": 17,
   "metadata": {},
   "outputs": [],
   "source": [
    "from sklearn.preprocessing import LabelEncoder\n",
    "\n",
    "class MultiColumnLabelEncoder:\n",
    "    def __init__(self,columns = None):\n",
    "        self.columns = columns # array of column names to encode\n",
    "\n",
    "    def fit(self,X,y=None):\n",
    "        return self # not relevant here\n",
    "\n",
    "    def transform(self,X):\n",
    "        '''\n",
    "        Transforms columns of X specified in self.columns using\n",
    "        LabelEncoder(). If no columns specified, transforms all\n",
    "        columns in X.\n",
    "        '''\n",
    "        output = X.copy()\n",
    "        if self.columns is not None:\n",
    "            for col in self.columns:\n",
    "                output[col] = LabelEncoder().fit_transform(output[col].astype(str))\n",
    "        else:\n",
    "            for colname,col in output.iteritems():\n",
    "                output[colname] = LabelEncoder().fit_transform(col)\n",
    "        return output\n",
    "\n",
    "    def fit_transform(self,X,y=None):\n",
    "        return self.fit(X,y).transform(X)"
   ]
  },
  {
   "cell_type": "code",
   "execution_count": 18,
   "metadata": {
    "collapsed": true
   },
   "outputs": [],
   "source": [
    "X = df[df.keys()]\n",
    "X = df.loc[:,df.columns != target]"
   ]
  },
  {
   "cell_type": "code",
   "execution_count": 19,
   "metadata": {
    "collapsed": true
   },
   "outputs": [],
   "source": [
    "category_column = X.select_dtypes(include='object')"
   ]
  },
  {
   "cell_type": "code",
   "execution_count": 20,
   "metadata": {},
   "outputs": [],
   "source": [
    "X = MultiColumnLabelEncoder(columns=category_column.columns).fit_transform(X)"
   ]
  },
  {
   "cell_type": "code",
   "execution_count": 21,
   "metadata": {},
   "outputs": [
    {
     "name": "stdout",
     "output_type": "stream",
     "text": [
      "<class 'pandas.core.frame.DataFrame'>\n",
      "Int64Index: 168273 entries, 1 to 2841\n",
      "Data columns (total 12 columns):\n",
      "marketing code    168273 non-null int64\n",
      "loan amount       168273 non-null int64\n",
      "loan reason       168273 non-null int64\n",
      "property use      168273 non-null int64\n",
      "suburb            168273 non-null int64\n",
      "state             168273 non-null int64\n",
      "post code         168273 non-null int64\n",
      "year              168273 non-null int64\n",
      "month             168273 non-null int64\n",
      "day               168273 non-null int64\n",
      "hour              168273 non-null int64\n",
      "weekday           168273 non-null int64\n",
      "dtypes: int64(12)\n",
      "memory usage: 16.7 MB\n"
     ]
    }
   ],
   "source": [
    "X.info()"
   ]
  },
  {
   "cell_type": "code",
   "execution_count": 22,
   "metadata": {},
   "outputs": [
    {
     "data": {
      "text/html": [
       "<div>\n",
       "<style scoped>\n",
       "    .dataframe tbody tr th:only-of-type {\n",
       "        vertical-align: middle;\n",
       "    }\n",
       "\n",
       "    .dataframe tbody tr th {\n",
       "        vertical-align: top;\n",
       "    }\n",
       "\n",
       "    .dataframe thead th {\n",
       "        text-align: right;\n",
       "    }\n",
       "</style>\n",
       "<table border=\"1\" class=\"dataframe\">\n",
       "  <thead>\n",
       "    <tr style=\"text-align: right;\">\n",
       "      <th></th>\n",
       "      <th>marketing code</th>\n",
       "      <th>loan amount</th>\n",
       "      <th>loan reason</th>\n",
       "      <th>property use</th>\n",
       "      <th>suburb</th>\n",
       "      <th>state</th>\n",
       "      <th>post code</th>\n",
       "      <th>year</th>\n",
       "      <th>month</th>\n",
       "      <th>day</th>\n",
       "      <th>hour</th>\n",
       "      <th>weekday</th>\n",
       "    </tr>\n",
       "  </thead>\n",
       "  <tbody>\n",
       "    <tr>\n",
       "      <th>marketing code</th>\n",
       "      <td>1.000000</td>\n",
       "      <td>0.027223</td>\n",
       "      <td>-0.041408</td>\n",
       "      <td>-0.042057</td>\n",
       "      <td>-0.011394</td>\n",
       "      <td>-0.067629</td>\n",
       "      <td>-0.074586</td>\n",
       "      <td>0.310577</td>\n",
       "      <td>-0.049488</td>\n",
       "      <td>0.039982</td>\n",
       "      <td>0.059369</td>\n",
       "      <td>0.028574</td>\n",
       "    </tr>\n",
       "    <tr>\n",
       "      <th>loan amount</th>\n",
       "      <td>0.027223</td>\n",
       "      <td>1.000000</td>\n",
       "      <td>-0.057781</td>\n",
       "      <td>0.019784</td>\n",
       "      <td>0.004230</td>\n",
       "      <td>-0.072710</td>\n",
       "      <td>-0.108528</td>\n",
       "      <td>0.074768</td>\n",
       "      <td>0.004439</td>\n",
       "      <td>-0.000750</td>\n",
       "      <td>-0.001363</td>\n",
       "      <td>0.003966</td>\n",
       "    </tr>\n",
       "    <tr>\n",
       "      <th>loan reason</th>\n",
       "      <td>-0.041408</td>\n",
       "      <td>-0.057781</td>\n",
       "      <td>1.000000</td>\n",
       "      <td>0.096785</td>\n",
       "      <td>-0.012323</td>\n",
       "      <td>0.043509</td>\n",
       "      <td>0.025680</td>\n",
       "      <td>0.026848</td>\n",
       "      <td>0.006747</td>\n",
       "      <td>-0.011477</td>\n",
       "      <td>-0.022969</td>\n",
       "      <td>-0.051413</td>\n",
       "    </tr>\n",
       "    <tr>\n",
       "      <th>property use</th>\n",
       "      <td>-0.042057</td>\n",
       "      <td>0.019784</td>\n",
       "      <td>0.096785</td>\n",
       "      <td>1.000000</td>\n",
       "      <td>0.013630</td>\n",
       "      <td>0.044194</td>\n",
       "      <td>0.057865</td>\n",
       "      <td>-0.062065</td>\n",
       "      <td>0.008278</td>\n",
       "      <td>0.008884</td>\n",
       "      <td>0.000412</td>\n",
       "      <td>-0.000724</td>\n",
       "    </tr>\n",
       "    <tr>\n",
       "      <th>suburb</th>\n",
       "      <td>-0.011394</td>\n",
       "      <td>0.004230</td>\n",
       "      <td>-0.012323</td>\n",
       "      <td>0.013630</td>\n",
       "      <td>1.000000</td>\n",
       "      <td>0.016172</td>\n",
       "      <td>-0.003166</td>\n",
       "      <td>0.019837</td>\n",
       "      <td>-0.000161</td>\n",
       "      <td>0.002068</td>\n",
       "      <td>-0.007138</td>\n",
       "      <td>0.004811</td>\n",
       "    </tr>\n",
       "    <tr>\n",
       "      <th>state</th>\n",
       "      <td>-0.067629</td>\n",
       "      <td>-0.072710</td>\n",
       "      <td>0.043509</td>\n",
       "      <td>0.044194</td>\n",
       "      <td>0.016172</td>\n",
       "      <td>1.000000</td>\n",
       "      <td>0.665370</td>\n",
       "      <td>-0.086592</td>\n",
       "      <td>0.007391</td>\n",
       "      <td>-0.010586</td>\n",
       "      <td>-0.003902</td>\n",
       "      <td>-0.010550</td>\n",
       "    </tr>\n",
       "    <tr>\n",
       "      <th>post code</th>\n",
       "      <td>-0.074586</td>\n",
       "      <td>-0.108528</td>\n",
       "      <td>0.025680</td>\n",
       "      <td>0.057865</td>\n",
       "      <td>-0.003166</td>\n",
       "      <td>0.665370</td>\n",
       "      <td>1.000000</td>\n",
       "      <td>-0.050882</td>\n",
       "      <td>0.010324</td>\n",
       "      <td>-0.009219</td>\n",
       "      <td>-0.011243</td>\n",
       "      <td>0.001335</td>\n",
       "    </tr>\n",
       "    <tr>\n",
       "      <th>year</th>\n",
       "      <td>0.310577</td>\n",
       "      <td>0.074768</td>\n",
       "      <td>0.026848</td>\n",
       "      <td>-0.062065</td>\n",
       "      <td>0.019837</td>\n",
       "      <td>-0.086592</td>\n",
       "      <td>-0.050882</td>\n",
       "      <td>1.000000</td>\n",
       "      <td>-0.092301</td>\n",
       "      <td>-0.024464</td>\n",
       "      <td>-0.030756</td>\n",
       "      <td>0.022922</td>\n",
       "    </tr>\n",
       "    <tr>\n",
       "      <th>month</th>\n",
       "      <td>-0.049488</td>\n",
       "      <td>0.004439</td>\n",
       "      <td>0.006747</td>\n",
       "      <td>0.008278</td>\n",
       "      <td>-0.000161</td>\n",
       "      <td>0.007391</td>\n",
       "      <td>0.010324</td>\n",
       "      <td>-0.092301</td>\n",
       "      <td>1.000000</td>\n",
       "      <td>0.002982</td>\n",
       "      <td>-0.015580</td>\n",
       "      <td>-0.005659</td>\n",
       "    </tr>\n",
       "    <tr>\n",
       "      <th>day</th>\n",
       "      <td>0.039982</td>\n",
       "      <td>-0.000750</td>\n",
       "      <td>-0.011477</td>\n",
       "      <td>0.008884</td>\n",
       "      <td>0.002068</td>\n",
       "      <td>-0.010586</td>\n",
       "      <td>-0.009219</td>\n",
       "      <td>-0.024464</td>\n",
       "      <td>0.002982</td>\n",
       "      <td>1.000000</td>\n",
       "      <td>0.005572</td>\n",
       "      <td>0.023787</td>\n",
       "    </tr>\n",
       "    <tr>\n",
       "      <th>hour</th>\n",
       "      <td>0.059369</td>\n",
       "      <td>-0.001363</td>\n",
       "      <td>-0.022969</td>\n",
       "      <td>0.000412</td>\n",
       "      <td>-0.007138</td>\n",
       "      <td>-0.003902</td>\n",
       "      <td>-0.011243</td>\n",
       "      <td>-0.030756</td>\n",
       "      <td>-0.015580</td>\n",
       "      <td>0.005572</td>\n",
       "      <td>1.000000</td>\n",
       "      <td>-0.015315</td>\n",
       "    </tr>\n",
       "    <tr>\n",
       "      <th>weekday</th>\n",
       "      <td>0.028574</td>\n",
       "      <td>0.003966</td>\n",
       "      <td>-0.051413</td>\n",
       "      <td>-0.000724</td>\n",
       "      <td>0.004811</td>\n",
       "      <td>-0.010550</td>\n",
       "      <td>0.001335</td>\n",
       "      <td>0.022922</td>\n",
       "      <td>-0.005659</td>\n",
       "      <td>0.023787</td>\n",
       "      <td>-0.015315</td>\n",
       "      <td>1.000000</td>\n",
       "    </tr>\n",
       "  </tbody>\n",
       "</table>\n",
       "</div>"
      ],
      "text/plain": [
       "                marketing code  loan amount  loan reason  property use  \\\n",
       "marketing code        1.000000     0.027223    -0.041408     -0.042057   \n",
       "loan amount           0.027223     1.000000    -0.057781      0.019784   \n",
       "loan reason          -0.041408    -0.057781     1.000000      0.096785   \n",
       "property use         -0.042057     0.019784     0.096785      1.000000   \n",
       "suburb               -0.011394     0.004230    -0.012323      0.013630   \n",
       "state                -0.067629    -0.072710     0.043509      0.044194   \n",
       "post code            -0.074586    -0.108528     0.025680      0.057865   \n",
       "year                  0.310577     0.074768     0.026848     -0.062065   \n",
       "month                -0.049488     0.004439     0.006747      0.008278   \n",
       "day                   0.039982    -0.000750    -0.011477      0.008884   \n",
       "hour                  0.059369    -0.001363    -0.022969      0.000412   \n",
       "weekday               0.028574     0.003966    -0.051413     -0.000724   \n",
       "\n",
       "                  suburb     state  post code      year     month       day  \\\n",
       "marketing code -0.011394 -0.067629  -0.074586  0.310577 -0.049488  0.039982   \n",
       "loan amount     0.004230 -0.072710  -0.108528  0.074768  0.004439 -0.000750   \n",
       "loan reason    -0.012323  0.043509   0.025680  0.026848  0.006747 -0.011477   \n",
       "property use    0.013630  0.044194   0.057865 -0.062065  0.008278  0.008884   \n",
       "suburb          1.000000  0.016172  -0.003166  0.019837 -0.000161  0.002068   \n",
       "state           0.016172  1.000000   0.665370 -0.086592  0.007391 -0.010586   \n",
       "post code      -0.003166  0.665370   1.000000 -0.050882  0.010324 -0.009219   \n",
       "year            0.019837 -0.086592  -0.050882  1.000000 -0.092301 -0.024464   \n",
       "month          -0.000161  0.007391   0.010324 -0.092301  1.000000  0.002982   \n",
       "day             0.002068 -0.010586  -0.009219 -0.024464  0.002982  1.000000   \n",
       "hour           -0.007138 -0.003902  -0.011243 -0.030756 -0.015580  0.005572   \n",
       "weekday         0.004811 -0.010550   0.001335  0.022922 -0.005659  0.023787   \n",
       "\n",
       "                    hour   weekday  \n",
       "marketing code  0.059369  0.028574  \n",
       "loan amount    -0.001363  0.003966  \n",
       "loan reason    -0.022969 -0.051413  \n",
       "property use    0.000412 -0.000724  \n",
       "suburb         -0.007138  0.004811  \n",
       "state          -0.003902 -0.010550  \n",
       "post code      -0.011243  0.001335  \n",
       "year           -0.030756  0.022922  \n",
       "month          -0.015580 -0.005659  \n",
       "day             0.005572  0.023787  \n",
       "hour            1.000000 -0.015315  \n",
       "weekday        -0.015315  1.000000  "
      ]
     },
     "execution_count": 22,
     "metadata": {},
     "output_type": "execute_result"
    }
   ],
   "source": [
    "X.corr()"
   ]
  }
 ],
 "metadata": {
  "kernelspec": {
   "display_name": "Python 3",
   "language": "python",
   "name": "python3"
  },
  "language_info": {
   "codemirror_mode": {
    "name": "ipython",
    "version": 3
   },
   "file_extension": ".py",
   "mimetype": "text/x-python",
   "name": "python",
   "nbconvert_exporter": "python",
   "pygments_lexer": "ipython3",
   "version": "3.6.3"
  }
 },
 "nbformat": 4,
 "nbformat_minor": 2
}
