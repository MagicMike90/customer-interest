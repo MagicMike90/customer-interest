{
 "cells": [
  {
   "cell_type": "code",
   "execution_count": 1,
   "metadata": {
    "collapsed": true
   },
   "outputs": [],
   "source": [
    "%matplotlib inline\n",
    "import numpy as np\n",
    "import matplotlib.pyplot as plt\n",
    "import matplotlib as mpl\n",
    "import pandas as pd\n",
    "import glob\n",
    "import warnings\n",
    "from IPython.display import display\n",
    "\n",
    "warnings.filterwarnings('ignore')\n",
    "mpl.rcParams['savefig.dpi'] = 128\n",
    "mpl.rcParams['figure.dpi'] = 128\n",
    "# Plot size to 14\" x 7\"\n",
    "mpl.rc('figure', figsize = (14, 7))\n",
    "# Font size to 14\n",
    "mpl.rc('font', size = 14)\n",
    "# Do not display top and right frame lines\n",
    "mpl.rc('axes.spines', top = False, right = False)\n",
    "# Remove grid lines\n",
    "mpl.rc('axes', grid = False)\n",
    "# Set backgound color to white\n",
    "mpl.rc('axes', facecolor = 'white')"
   ]
  },
  {
   "cell_type": "code",
   "execution_count": 2,
   "metadata": {},
   "outputs": [
    {
     "data": {
      "text/plain": [
       "(161721, 9)"
      ]
     },
     "execution_count": 2,
     "metadata": {},
     "output_type": "execute_result"
    }
   ],
   "source": [
    "df = pd.read_csv(\"2011-2017_short.csv\")\n",
    "df.shape"
   ]
  },
  {
   "cell_type": "code",
   "execution_count": 3,
   "metadata": {},
   "outputs": [
    {
     "data": {
      "text/plain": [
       "(161721, 9)"
      ]
     },
     "execution_count": 3,
     "metadata": {},
     "output_type": "execute_result"
    }
   ],
   "source": [
    "df.drop_duplicates(inplace=True)\n",
    "df.shape"
   ]
  },
  {
   "cell_type": "code",
   "execution_count": 4,
   "metadata": {
    "collapsed": true
   },
   "outputs": [],
   "source": [
    "def transform_cols(df):\n",
    "    df.columns = map(str.lower, df.columns)\n",
    "    df.columns = df.columns.str.replace('_', ' ')\n",
    "    return df"
   ]
  },
  {
   "cell_type": "code",
   "execution_count": 5,
   "metadata": {},
   "outputs": [
    {
     "data": {
      "text/plain": [
       "Index(['marketing code', 'loan amount', 'loan reason', 'property use',\n",
       "       'enquiry status', 'month', 'day', 'hour', 'weekday'],\n",
       "      dtype='object')"
      ]
     },
     "execution_count": 5,
     "metadata": {},
     "output_type": "execute_result"
    }
   ],
   "source": [
    "df = transform_cols(df)\n",
    "df.columns"
   ]
  },
  {
   "cell_type": "code",
   "execution_count": 6,
   "metadata": {
    "collapsed": true
   },
   "outputs": [],
   "source": [
    "selected_features = ['marketing code',\n",
    "                     'month', 'day', 'hour', 'weekday']\n",
    "\n",
    "target = 'enquiry status';\n",
    "whole_set = selected_features + [target]\n",
    "\n",
    "df = df[whole_set]"
   ]
  },
  {
   "cell_type": "code",
   "execution_count": 7,
   "metadata": {
    "collapsed": true
   },
   "outputs": [],
   "source": [
    "from sklearn.preprocessing import LabelEncoder\n",
    "\n",
    "class MultiColumnLabelEncoder:\n",
    "    def __init__(self,columns = None):\n",
    "        self.columns = columns # array of column names to encode\n",
    "\n",
    "    def fit(self,X,y=None):\n",
    "        return self # not relevant here\n",
    "\n",
    "    def transform(self,X):\n",
    "        '''\n",
    "        Transforms columns of X specified in self.columns using\n",
    "        LabelEncoder(). If no columns specified, transforms all\n",
    "        columns in X.\n",
    "        '''\n",
    "        output = X.copy()\n",
    "        if self.columns is not None:\n",
    "            for col in self.columns:\n",
    "                output[col] = LabelEncoder().fit_transform(output[col].astype(str))\n",
    "        else:\n",
    "            for colname,col in output.iteritems():\n",
    "                output[colname] = LabelEncoder().fit_transform(col)\n",
    "        return output\n",
    "\n",
    "    def fit_transform(self,X,y=None):\n",
    "        return self.fit(X,y).transform(X)"
   ]
  },
  {
   "cell_type": "code",
   "execution_count": 8,
   "metadata": {},
   "outputs": [
    {
     "data": {
      "text/plain": [
       "array(['Accepted', 'Rejected'], dtype=object)"
      ]
     },
     "execution_count": 8,
     "metadata": {},
     "output_type": "execute_result"
    }
   ],
   "source": [
    "target = 'enquiry status';\n",
    "# df = df.iloc[:number_of_rows]\n",
    "X = df[df.keys()]\n",
    "X = df.loc[:,df.columns != target]\n",
    "\n",
    "le = LabelEncoder()\n",
    "y = df[target]\n",
    "y = le.fit_transform(y)\n",
    "le.classes_"
   ]
  },
  {
   "cell_type": "code",
   "execution_count": null,
   "metadata": {
    "collapsed": true
   },
   "outputs": [],
   "source": [
    "variances = pd.Series(default.var(axis=0))"
   ]
  },
  {
   "cell_type": "code",
   "execution_count": null,
   "metadata": {
    "collapsed": true
   },
   "outputs": [],
   "source": [
    "fig, ax = plt.subplots(figsize=(7,6))\n",
    "variances.loc[dummy_features].sort_values().plot(kind='barh', ax=ax)\n",
    "ax.vlines(0.1, ymin=-1, ymax=25, colors='red')\n",
    "ax.set_title('Variances of dummy features');"
   ]
  },
  {
   "cell_type": "code",
   "execution_count": null,
   "metadata": {
    "collapsed": true
   },
   "outputs": [],
   "source": []
  },
  {
   "cell_type": "code",
   "execution_count": null,
   "metadata": {
    "collapsed": true
   },
   "outputs": [],
   "source": []
  },
  {
   "cell_type": "code",
   "execution_count": null,
   "metadata": {
    "collapsed": true
   },
   "outputs": [],
   "source": []
  },
  {
   "cell_type": "code",
   "execution_count": null,
   "metadata": {
    "collapsed": true
   },
   "outputs": [],
   "source": []
  },
  {
   "cell_type": "code",
   "execution_count": null,
   "metadata": {},
   "outputs": [],
   "source": []
  },
  {
   "cell_type": "code",
   "execution_count": null,
   "metadata": {
    "collapsed": true
   },
   "outputs": [],
   "source": []
  },
  {
   "cell_type": "code",
   "execution_count": null,
   "metadata": {},
   "outputs": [],
   "source": []
  },
  {
   "cell_type": "code",
   "execution_count": null,
   "metadata": {
    "collapsed": true
   },
   "outputs": [],
   "source": []
  },
  {
   "cell_type": "code",
   "execution_count": null,
   "metadata": {
    "collapsed": true
   },
   "outputs": [],
   "source": []
  },
  {
   "cell_type": "code",
   "execution_count": null,
   "metadata": {
    "collapsed": true
   },
   "outputs": [],
   "source": []
  },
  {
   "cell_type": "code",
   "execution_count": null,
   "metadata": {
    "collapsed": true
   },
   "outputs": [],
   "source": []
  },
  {
   "cell_type": "code",
   "execution_count": 9,
   "metadata": {
    "collapsed": true
   },
   "outputs": [],
   "source": [
    "category_column = X.select_dtypes(include='object')"
   ]
  },
  {
   "cell_type": "code",
   "execution_count": 10,
   "metadata": {},
   "outputs": [
    {
     "data": {
      "text/html": [
       "<div>\n",
       "<style scoped>\n",
       "    .dataframe tbody tr th:only-of-type {\n",
       "        vertical-align: middle;\n",
       "    }\n",
       "\n",
       "    .dataframe tbody tr th {\n",
       "        vertical-align: top;\n",
       "    }\n",
       "\n",
       "    .dataframe thead th {\n",
       "        text-align: right;\n",
       "    }\n",
       "</style>\n",
       "<table border=\"1\" class=\"dataframe\">\n",
       "  <thead>\n",
       "    <tr style=\"text-align: right;\">\n",
       "      <th></th>\n",
       "      <th>marketing code</th>\n",
       "    </tr>\n",
       "  </thead>\n",
       "  <tbody>\n",
       "    <tr>\n",
       "      <th>0</th>\n",
       "      <td>2406</td>\n",
       "    </tr>\n",
       "    <tr>\n",
       "      <th>1</th>\n",
       "      <td>A9074</td>\n",
       "    </tr>\n",
       "    <tr>\n",
       "      <th>2</th>\n",
       "      <td>A1111</td>\n",
       "    </tr>\n",
       "    <tr>\n",
       "      <th>3</th>\n",
       "      <td>A8409</td>\n",
       "    </tr>\n",
       "    <tr>\n",
       "      <th>4</th>\n",
       "      <td>OME</td>\n",
       "    </tr>\n",
       "    <tr>\n",
       "      <th>5</th>\n",
       "      <td>A1111</td>\n",
       "    </tr>\n",
       "    <tr>\n",
       "      <th>6</th>\n",
       "      <td>OME</td>\n",
       "    </tr>\n",
       "    <tr>\n",
       "      <th>7</th>\n",
       "      <td>A1111</td>\n",
       "    </tr>\n",
       "    <tr>\n",
       "      <th>8</th>\n",
       "      <td>IPH</td>\n",
       "    </tr>\n",
       "    <tr>\n",
       "      <th>9</th>\n",
       "      <td>OME</td>\n",
       "    </tr>\n",
       "    <tr>\n",
       "      <th>10</th>\n",
       "      <td>A9102</td>\n",
       "    </tr>\n",
       "    <tr>\n",
       "      <th>11</th>\n",
       "      <td>OME</td>\n",
       "    </tr>\n",
       "    <tr>\n",
       "      <th>12</th>\n",
       "      <td>A9016</td>\n",
       "    </tr>\n",
       "    <tr>\n",
       "      <th>13</th>\n",
       "      <td>A7133</td>\n",
       "    </tr>\n",
       "    <tr>\n",
       "      <th>14</th>\n",
       "      <td>OME</td>\n",
       "    </tr>\n",
       "    <tr>\n",
       "      <th>15</th>\n",
       "      <td>A5981</td>\n",
       "    </tr>\n",
       "    <tr>\n",
       "      <th>16</th>\n",
       "      <td>A1111</td>\n",
       "    </tr>\n",
       "    <tr>\n",
       "      <th>17</th>\n",
       "      <td>OME</td>\n",
       "    </tr>\n",
       "    <tr>\n",
       "      <th>18</th>\n",
       "      <td>A8409</td>\n",
       "    </tr>\n",
       "    <tr>\n",
       "      <th>19</th>\n",
       "      <td>A5981</td>\n",
       "    </tr>\n",
       "    <tr>\n",
       "      <th>20</th>\n",
       "      <td>A1111</td>\n",
       "    </tr>\n",
       "    <tr>\n",
       "      <th>21</th>\n",
       "      <td>A9102</td>\n",
       "    </tr>\n",
       "    <tr>\n",
       "      <th>22</th>\n",
       "      <td>A7133</td>\n",
       "    </tr>\n",
       "    <tr>\n",
       "      <th>23</th>\n",
       "      <td>A4141</td>\n",
       "    </tr>\n",
       "    <tr>\n",
       "      <th>24</th>\n",
       "      <td>A5959</td>\n",
       "    </tr>\n",
       "    <tr>\n",
       "      <th>25</th>\n",
       "      <td>A5345</td>\n",
       "    </tr>\n",
       "    <tr>\n",
       "      <th>26</th>\n",
       "      <td>A1111</td>\n",
       "    </tr>\n",
       "    <tr>\n",
       "      <th>27</th>\n",
       "      <td>A1111</td>\n",
       "    </tr>\n",
       "    <tr>\n",
       "      <th>28</th>\n",
       "      <td>OME</td>\n",
       "    </tr>\n",
       "    <tr>\n",
       "      <th>29</th>\n",
       "      <td>OME</td>\n",
       "    </tr>\n",
       "    <tr>\n",
       "      <th>...</th>\n",
       "      <td>...</td>\n",
       "    </tr>\n",
       "    <tr>\n",
       "      <th>161691</th>\n",
       "      <td>A9411</td>\n",
       "    </tr>\n",
       "    <tr>\n",
       "      <th>161692</th>\n",
       "      <td>OME</td>\n",
       "    </tr>\n",
       "    <tr>\n",
       "      <th>161693</th>\n",
       "      <td>A12666</td>\n",
       "    </tr>\n",
       "    <tr>\n",
       "      <th>161694</th>\n",
       "      <td>A9387</td>\n",
       "    </tr>\n",
       "    <tr>\n",
       "      <th>161695</th>\n",
       "      <td>EDOM03</td>\n",
       "    </tr>\n",
       "    <tr>\n",
       "      <th>161696</th>\n",
       "      <td>A138</td>\n",
       "    </tr>\n",
       "    <tr>\n",
       "      <th>161697</th>\n",
       "      <td>A5981</td>\n",
       "    </tr>\n",
       "    <tr>\n",
       "      <th>161698</th>\n",
       "      <td>A9432</td>\n",
       "    </tr>\n",
       "    <tr>\n",
       "      <th>161699</th>\n",
       "      <td>A9432</td>\n",
       "    </tr>\n",
       "    <tr>\n",
       "      <th>161700</th>\n",
       "      <td>A9432</td>\n",
       "    </tr>\n",
       "    <tr>\n",
       "      <th>161701</th>\n",
       "      <td>EDOM01</td>\n",
       "    </tr>\n",
       "    <tr>\n",
       "      <th>161702</th>\n",
       "      <td>A5981</td>\n",
       "    </tr>\n",
       "    <tr>\n",
       "      <th>161703</th>\n",
       "      <td>EDOM01</td>\n",
       "    </tr>\n",
       "    <tr>\n",
       "      <th>161704</th>\n",
       "      <td>IPH</td>\n",
       "    </tr>\n",
       "    <tr>\n",
       "      <th>161705</th>\n",
       "      <td>A12665</td>\n",
       "    </tr>\n",
       "    <tr>\n",
       "      <th>161706</th>\n",
       "      <td>A12666</td>\n",
       "    </tr>\n",
       "    <tr>\n",
       "      <th>161707</th>\n",
       "      <td>A9413</td>\n",
       "    </tr>\n",
       "    <tr>\n",
       "      <th>161708</th>\n",
       "      <td>A9301</td>\n",
       "    </tr>\n",
       "    <tr>\n",
       "      <th>161709</th>\n",
       "      <td>A9297</td>\n",
       "    </tr>\n",
       "    <tr>\n",
       "      <th>161710</th>\n",
       "      <td>A9432</td>\n",
       "    </tr>\n",
       "    <tr>\n",
       "      <th>161711</th>\n",
       "      <td>A9432</td>\n",
       "    </tr>\n",
       "    <tr>\n",
       "      <th>161712</th>\n",
       "      <td>OME</td>\n",
       "    </tr>\n",
       "    <tr>\n",
       "      <th>161713</th>\n",
       "      <td>OME</td>\n",
       "    </tr>\n",
       "    <tr>\n",
       "      <th>161714</th>\n",
       "      <td>A9387</td>\n",
       "    </tr>\n",
       "    <tr>\n",
       "      <th>161715</th>\n",
       "      <td>A9347</td>\n",
       "    </tr>\n",
       "    <tr>\n",
       "      <th>161716</th>\n",
       "      <td>A5981</td>\n",
       "    </tr>\n",
       "    <tr>\n",
       "      <th>161717</th>\n",
       "      <td>A9411</td>\n",
       "    </tr>\n",
       "    <tr>\n",
       "      <th>161718</th>\n",
       "      <td>A9411</td>\n",
       "    </tr>\n",
       "    <tr>\n",
       "      <th>161719</th>\n",
       "      <td>A9411</td>\n",
       "    </tr>\n",
       "    <tr>\n",
       "      <th>161720</th>\n",
       "      <td>A9297</td>\n",
       "    </tr>\n",
       "  </tbody>\n",
       "</table>\n",
       "<p>161721 rows × 1 columns</p>\n",
       "</div>"
      ],
      "text/plain": [
       "       marketing code\n",
       "0                2406\n",
       "1               A9074\n",
       "2               A1111\n",
       "3               A8409\n",
       "4                 OME\n",
       "5               A1111\n",
       "6                 OME\n",
       "7               A1111\n",
       "8                 IPH\n",
       "9                 OME\n",
       "10              A9102\n",
       "11                OME\n",
       "12              A9016\n",
       "13              A7133\n",
       "14                OME\n",
       "15              A5981\n",
       "16              A1111\n",
       "17                OME\n",
       "18              A8409\n",
       "19              A5981\n",
       "20              A1111\n",
       "21              A9102\n",
       "22              A7133\n",
       "23             A4141 \n",
       "24              A5959\n",
       "25              A5345\n",
       "26              A1111\n",
       "27              A1111\n",
       "28                OME\n",
       "29                OME\n",
       "...               ...\n",
       "161691          A9411\n",
       "161692            OME\n",
       "161693         A12666\n",
       "161694          A9387\n",
       "161695         EDOM03\n",
       "161696           A138\n",
       "161697          A5981\n",
       "161698          A9432\n",
       "161699          A9432\n",
       "161700          A9432\n",
       "161701         EDOM01\n",
       "161702          A5981\n",
       "161703         EDOM01\n",
       "161704            IPH\n",
       "161705         A12665\n",
       "161706         A12666\n",
       "161707          A9413\n",
       "161708          A9301\n",
       "161709          A9297\n",
       "161710          A9432\n",
       "161711          A9432\n",
       "161712            OME\n",
       "161713            OME\n",
       "161714          A9387\n",
       "161715          A9347\n",
       "161716          A5981\n",
       "161717          A9411\n",
       "161718          A9411\n",
       "161719          A9411\n",
       "161720          A9297\n",
       "\n",
       "[161721 rows x 1 columns]"
      ]
     },
     "execution_count": 10,
     "metadata": {},
     "output_type": "execute_result"
    }
   ],
   "source": [
    "category_column"
   ]
  },
  {
   "cell_type": "code",
   "execution_count": null,
   "metadata": {},
   "outputs": [],
   "source": []
  },
  {
   "cell_type": "code",
   "execution_count": null,
   "metadata": {},
   "outputs": [],
   "source": []
  }
 ],
 "metadata": {
  "kernelspec": {
   "display_name": "Python 3",
   "language": "python",
   "name": "python3"
  },
  "language_info": {
   "codemirror_mode": {
    "name": "ipython",
    "version": 3
   },
   "file_extension": ".py",
   "mimetype": "text/x-python",
   "name": "python",
   "nbconvert_exporter": "python",
   "pygments_lexer": "ipython3",
   "version": "3.6.3"
  }
 },
 "nbformat": 4,
 "nbformat_minor": 2
}
